{
 "cells": [
  {
   "cell_type": "markdown",
   "metadata": {},
   "source": [
    "# VARIMA\n",
    "\n",
    "In this notebook, I explore the VARMAX, a part of the \"statsmodels\" library.\n",
    "https://www.statsmodels.org/dev/generated/statsmodels.tsa.statespace.varmax.VARMAX.html"
   ]
  },
  {
   "cell_type": "code",
   "execution_count": 96,
   "metadata": {},
   "outputs": [],
   "source": [
    "import pandas as pd\n",
    "import numpy as np\n",
    "import os\n",
    "import matplotlib.pyplot as plt\n",
    "from statsmodels.tsa.api import VARMAX\n",
    "from sklearn.metrics import mean_squared_error"
   ]
  },
  {
   "cell_type": "code",
   "execution_count": 68,
   "metadata": {},
   "outputs": [
    {
     "name": "stderr",
     "output_type": "stream",
     "text": [
      "<>:4: SyntaxWarning: invalid escape sequence '\\p'\n",
      "<>:4: SyntaxWarning: invalid escape sequence '\\p'\n",
      "C:\\Users\\amirh\\AppData\\Local\\Temp\\ipykernel_20616\\1001510194.py:4: SyntaxWarning: invalid escape sequence '\\p'\n",
      "  data_path = \"..\\product-inventory\"\n"
     ]
    },
    {
     "name": "stdout",
     "output_type": "stream",
     "text": [
      "741159\n"
     ]
    }
   ],
   "source": [
    "#data set from kaggle: https://www.kaggle.com/competitions/grupo-bimbo-inventory-demand/data\n",
    "\n",
    "# load train.csv\n",
    "data_path = \"..\\product-inventory\"\n",
    "filename = os.path.join(data_path, \"grupo-bimbo-inventory-demand/train.csv.zip\")\n",
    "\n",
    "train = pd.read_csv(filename, \n",
    "                 usecols=['Semana', 'Producto_ID', 'Cliente_ID', 'Demanda_uni_equil'])\n",
    "\n",
    "# rename columns\n",
    "train = train.rename(columns={  'Semana': 'Week_num',\n",
    "                                'Cliente_ID': 'Client_ID',\n",
    "                                'Demanda_uni_equil': 'adjusted_demand',\n",
    "                                'Producto_ID': 'Product_ID'})\n",
    "# define client-product ID\n",
    "train['ID'] = train.groupby(['Client_ID', 'Product_ID']).ngroup()\n",
    "unique_ids = train['ID'].unique()\n",
    "\n",
    "# Define the fraction of IDs to sample\n",
    "fraction = 0.01  # sample 1% of the IDs\n",
    "\n",
    "# Calculate the number of IDs to sample\n",
    "sample_size = int(len(unique_ids) * fraction)\n",
    "\n",
    "# Choose a random sample of IDs\n",
    "sampled_ids = np.random.choice(unique_ids, size=sample_size, replace=False)\n",
    "\n",
    "# Filter the DataFrame to keep all rows with the sampled IDs\n",
    "train = train[train['ID'].isin(sampled_ids)].reset_index()\n",
    "\n",
    "print(len(train))\n",
    "\n",
    "# calculate price\n",
    "# train['Price'] = train['sales_this_week']/train['sales_unit_this_week']\n",
    "# train['log_price'] = np.log(train['Price'])\n",
    "\n",
    "# dependent variable\n",
    "# train['log_adj_demand'] = np.log(train['adjusted_demand'])"
   ]
  },
  {
   "cell_type": "code",
   "execution_count": null,
   "metadata": {},
   "outputs": [],
   "source": [
    "train = train.groupby(['Client_ID', 'Week_num', 'Product_ID'], as_index=False).agg({'adjusted_demand': 'sum'})\n",
    "# print(\"Number of Different Products:\", train['Product_ID'].value_counts())\n",
    "# print(\"Number of Unique Clients:\", len(train['Client_ID'].unique()))\n",
    "# print(\"Number of Unique Weeks:\", len(train['Week_num'].unique()))\n",
    "# train = train[train['Product_ID'] <= 1284]\n",
    "# print(\"Number of Different Products:\", train['Product_ID'].value_counts())\n",
    "# df = train.pivot(columns = ['Product_ID'], index=['Week_num', 'Client_ID'], values = 'adjusted_demand')\n",
    "# df = df.fillna(0)\n",
    "# df = df.reset_index()\n",
    "# df.head(10)"
   ]
  },
  {
   "cell_type": "code",
   "execution_count": null,
   "metadata": {},
   "outputs": [
    {
     "name": "stdout",
     "output_type": "stream",
     "text": [
      "Product_ID\n",
      "1284     float64\n",
      "46772    float64\n",
      "dtype: object\n"
     ]
    },
    {
     "name": "stderr",
     "output_type": "stream",
     "text": [
      "c:\\Users\\amirh\\.julia\\conda\\3\\envs\\erdos_spring_2025\\Lib\\site-packages\\statsmodels\\tsa\\base\\tsa_model.py:473: ValueWarning: An unsupported index was provided. As a result, forecasts cannot be generated. To use the model for forecasting, use one of the supported classes of index.\n",
      "  self._init_dates(dates, freq)\n"
     ]
    },
    {
     "name": "stdout",
     "output_type": "stream",
     "text": [
      "                           Statespace Model Results                           \n",
      "==============================================================================\n",
      "Dep. Variable:          [1284, 46772]   No. Observations:                    5\n",
      "Model:                         VAR(1)   Log Likelihood                 -23.666\n",
      "                          + intercept   AIC                             65.331\n",
      "Date:                Thu, 27 Mar 2025   BIC                             61.816\n",
      "Time:                        11:34:27   HQIC                            55.897\n",
      "Sample:                             0                                         \n",
      "                                  - 5                                         \n",
      "Covariance Type:                  opg                                         \n",
      "===================================================================================\n",
      "Ljung-Box (L1) (Q):             2.14, 0.06   Jarque-Bera (JB):           0.31, 0.42\n",
      "Prob(Q):                        0.14, 0.81   Prob(JB):                   0.86, 0.81\n",
      "Heteroskedasticity (H):        45.84, 0.44   Skew:                      -0.56, 0.68\n",
      "Prob(H) (two-sided):            0.04, 0.61   Kurtosis:                   2.55, 2.60\n",
      "                          Results for equation 1284                           \n",
      "==============================================================================\n",
      "                 coef    std err          z      P>|z|      [0.025      0.975]\n",
      "------------------------------------------------------------------------------\n",
      "intercept    -19.8137      0.352    -56.330      0.000     -20.503     -19.124\n",
      "L1.1284        0.2966      1.241      0.239      0.811      -2.136       2.729\n",
      "L1.46772       1.8004      0.080     22.495      0.000       1.644       1.957\n",
      "                          Results for equation 46772                          \n",
      "==============================================================================\n",
      "                 coef    std err          z      P>|z|      [0.025      0.975]\n",
      "------------------------------------------------------------------------------\n",
      "intercept     18.7040      0.114    163.430      0.000      18.480      18.928\n",
      "L1.1284       -0.1369      2.569     -0.053      0.958      -5.171       4.898\n",
      "L1.46772      -0.4537      0.455     -0.997      0.319      -1.346       0.439\n",
      "                                Error covariance matrix                                \n",
      "=======================================================================================\n",
      "                          coef    std err          z      P>|z|      [0.025      0.975]\n",
      "---------------------------------------------------------------------------------------\n",
      "sqrt.var.1284           1.2812      1.475      0.868      0.385      -1.610       4.172\n",
      "sqrt.cov.1284.46772     0.3971      0.817      0.486      0.627      -1.203       1.998\n",
      "sqrt.var.46772          4.4116      0.903      4.884      0.000       2.641       6.182\n",
      "=======================================================================================\n",
      "\n",
      "Warnings:\n",
      "[1] Covariance matrix calculated using the outer product of gradients (complex-step).\n",
      "[2] Covariance matrix is singular or near-singular, with condition number 1.58e+18. Standard errors may be unstable.\n",
      "\n",
      "Pooled Forecast:\n",
      "      1284       46772\n",
      "5 -3.927847  14.390042\n",
      "6  4.929054  12.712966\n",
      "7  4.536247  12.261525\n",
      "8  3.606992  12.520106\n"
     ]
    },
    {
     "name": "stderr",
     "output_type": "stream",
     "text": [
      "c:\\Users\\amirh\\.julia\\conda\\3\\envs\\erdos_spring_2025\\Lib\\site-packages\\statsmodels\\base\\model.py:607: ConvergenceWarning: Maximum Likelihood optimization failed to converge. Check mle_retvals\n",
      "  warnings.warn(\"Maximum Likelihood optimization failed to \"\n",
      "c:\\Users\\amirh\\.julia\\conda\\3\\envs\\erdos_spring_2025\\Lib\\site-packages\\statsmodels\\tsa\\base\\tsa_model.py:837: FutureWarning: No supported index is available. In the next version, calling this method in a model without a supported index will result in an exception.\n",
      "  return get_prediction_index(\n",
      "c:\\Users\\amirh\\.julia\\conda\\3\\envs\\erdos_spring_2025\\Lib\\site-packages\\statsmodels\\tsa\\base\\tsa_model.py:837: ValueWarning: No supported index is available. Prediction results will be given with an integer index beginning at `start`.\n",
      "  return get_prediction_index(\n"
     ]
    }
   ],
   "source": [
    "# clients = train['Client_ID'].unique()\n",
    "# for client in clients:\n",
    "client_data = train[train['Client_ID'] == 3373]\n",
    "client_data = client_data.pivot(columns = 'Product_ID', index='Week_num', values = 'adjusted_demand')\n",
    "client_data = client_data.fillna(0)\n",
    "\n",
    "print(client_data.dtypes)\n",
    "# client_data[43341] = client_data[43341].astype('float64')  # Convert a column to float64\n",
    "\n",
    "model = VARMAX(client_data, order=(1, 0))  # (p, q) orders\n",
    "results = model.fit()\n",
    "print(results.summary())\n",
    "forecast = results.get_forecast(steps=4)\n",
    "forecast_df = forecast.predicted_mean\n",
    "print(\"\\nPooled Forecast:\")\n",
    "print(forecast_df)\n",
    "\n",
    "\n"
   ]
  },
  {
   "cell_type": "markdown",
   "metadata": {},
   "source": [
    "**How many firms' demand one product and how many demand more than one product?**\n",
    "\n",
    "If the majority of firms demand only one product, using VARIMA is not sensible. As shown below, 80 percent of firms demand one product which means that VARIMA is not helpful (possible) in improving our prediction."
   ]
  },
  {
   "cell_type": "code",
   "execution_count": 107,
   "metadata": {},
   "outputs": [
    {
     "data": {
      "text/plain": [
       "(array([0.80056347, 0.96583186, 0.96583186, 0.99467248, 0.99467248,\n",
       "        0.99923687, 0.99989921, 0.99989921, 0.9999952 , 1.        ]),\n",
       " array([1. , 1.6, 2.2, 2.8, 3.4, 4. , 4.6, 5.2, 5.8, 6.4, 7. ]),\n",
       " <BarContainer object of 10 artists>)"
      ]
     },
     "execution_count": 107,
     "metadata": {},
     "output_type": "execute_result"
    },
    {
     "data": {
      "image/png": "[encoded data removed]",
      "text/plain": [
       "<Figure size 640x480 with 1 Axes>"
      ]
     },
     "metadata": {},
     "output_type": "display_data"
    }
   ],
   "source": [
    "client_product = train.groupby('Client_ID').agg({'Product_ID': 'nunique'})\n",
    "\n",
    "plt.hist(client_product['Product_ID'], cumulative=True, density=True)"
   ]
  }
 ],
 "metadata": {
  "kernelspec": {
   "display_name": "erdos_spring_2025",
   "language": "python",
   "name": "python3"
  },
  "language_info": {
   "codemirror_mode": {
    "name": "ipython",
    "version": 3
   },
   "file_extension": ".py",
   "mimetype": "text/x-python",
   "name": "python",
   "nbconvert_exporter": "python",
   "pygments_lexer": "ipython3",
   "version": "3.12.8"
  }
 },
 "nbformat": 4,
 "nbformat_minor": 2
}
