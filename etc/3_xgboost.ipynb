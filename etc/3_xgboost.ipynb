{
 "cells": [
  {
   "cell_type": "markdown",
   "id": "725a5134",
   "metadata": {},
   "source": [
    "# XGBoost Estimation"
   ]
  },
  {
   "cell_type": "code",
   "execution_count": 1,
   "id": "cd72c87a",
   "metadata": {},
   "outputs": [],
   "source": [
    "import numpy as np\n",
    "import pandas as pd\n",
    "import matplotlib.pyplot as plt\n",
    "import seaborn as sns\n",
    "from sklearn.metrics import root_mean_squared_log_error as rmsle\n",
    "import xgboost as xgb\n",
    "import os\n",
    "import gc"
   ]
  },
  {
   "cell_type": "markdown",
   "id": "e045a6bc",
   "metadata": {},
   "source": [
    "## Load The Training Data\n"
   ]
  },
  {
   "cell_type": "code",
   "execution_count": 2,
   "id": "7c5cde2f",
   "metadata": {},
   "outputs": [
    {
     "name": "stderr",
     "output_type": "stream",
     "text": [
      "<>:4: SyntaxWarning: invalid escape sequence '\\p'\n",
      "<>:4: SyntaxWarning: invalid escape sequence '\\p'\n",
      "C:\\Users\\amirh\\AppData\\Local\\Temp\\ipykernel_16188\\1470437122.py:4: SyntaxWarning: invalid escape sequence '\\p'\n",
      "  data_path = \"..\\product-inventory\"\n"
     ]
    }
   ],
   "source": [
    "# #data set from kaggle: https://www.kaggle.com/competitions/grupo-bimbo-inventory-demand/data\n",
    "\n",
    "# load train.csv\n",
    "data_path = \"..\\product-inventory\"\n",
    "filename = os.path.join(data_path, \"grupo-bimbo-inventory-demand/train.csv.zip\")\n",
    "\n",
    "train = pd.read_csv(filename, \n",
    "                 usecols=['Semana', 'Producto_ID', 'Cliente_ID', 'Demanda_uni_equil'])\n",
    "\n",
    "# rename columns\n",
    "train = train.rename(columns={  'Semana': 'Week_num',\n",
    "                                'Cliente_ID': 'Client_ID',\n",
    "                                'Demanda_uni_equil': 'adjusted_demand',\n",
    "                                'Producto_ID': 'Product_ID'})\n",
    "\n",
    "# # define client-product ID\n",
    "# train['ID'] = train.groupby(['Client_ID', 'Product_ID']).ngroup()\n",
    "# unique_ids = train['ID'].unique()\n",
    "\n",
    "# # Define the fraction of IDs to sample\n",
    "# fraction = 0.1  # sample 10% of the IDs\n",
    "\n",
    "# # Calculate the number of IDs to sample\n",
    "# sample_size = int(len(unique_ids) * fraction)\n",
    "\n",
    "# rng = np.random.default_rng(4325252122)\n",
    "\n",
    "# # Choose a random sample of IDs\n",
    "# sampled_ids = np.random.choice(unique_ids, size=sample_size, replace=False)\n",
    "\n",
    "# # Filter the DataFrame to keep all rows with the sampled IDs\n",
    "# train = train[train['ID'].isin(sampled_ids)]\n",
    "# train = train.drop(columns='ID')\n",
    "# print(len(train))"
   ]
  },
  {
   "cell_type": "code",
   "execution_count": 3,
   "id": "05131808",
   "metadata": {},
   "outputs": [],
   "source": [
    "# duplicates client-product-week observation -> take the average as adjusted demand\n",
    "train = train.groupby(['Client_ID', 'Product_ID', 'Week_num'], as_index=False).agg({'adjusted_demand': 'sum'})\n",
    "\n",
    "# create the target dataset and training dataset\n",
    "# identify the last observation of each client-product\n",
    "last_week = train.groupby(['Client_ID', 'Product_ID'], as_index=False).agg({'Week_num':'max'})\n",
    "train  = train.merge(right = last_week,\n",
    "                    how='left',\n",
    "                    on=['Client_ID', 'Product_ID'],\n",
    "                    suffixes=['','_max'])\n",
    "\n",
    "del last_week\n",
    "\n",
    "# target dataset\n",
    "val = train.loc[train['Week_num'] == train['Week_num_max']]\n",
    "val = val.drop(columns=['Week_num_max'])\n",
    "\n",
    "# train dataset\n",
    "train = train.loc[train['Week_num'] != train['Week_num_max']]\n",
    "train = train.drop(columns=['Week_num_max'])\n"
   ]
  },
  {
   "cell_type": "code",
   "execution_count": 4,
   "id": "a154c1c1",
   "metadata": {},
   "outputs": [
    {
     "name": "stdout",
     "output_type": "stream",
     "text": [
      "48181485 25831538\n",
      "\n",
      "\n",
      "Index(['Client_ID', 'Product_ID', 'Week_num', 'adjusted_demand'], dtype='object')\n",
      "Index(['Client_ID', 'Product_ID', 'Week_num', 'adjusted_demand'], dtype='object')\n"
     ]
    }
   ],
   "source": [
    "print(len(train), len(val))\n",
    "print('\\n')\n",
    "print(train.columns)\n",
    "print(val.columns)"
   ]
  },
  {
   "cell_type": "code",
   "execution_count": 5,
   "id": "52d4d6bb",
   "metadata": {},
   "outputs": [],
   "source": [
    "#create a dataframe of aggregate statistics for each client\n",
    "client_stats = train.groupby(['Client_ID'], as_index=False).agg({'Product_ID':'nunique', 'adjusted_demand':['mean', 'median']})\n",
    "client_stats.columns = ['Client_ID', 'Products', 'adj_dem_mean', 'adj_dem_median']\n",
    "client_stats['adj_dem_mean'] = client_stats['adj_dem_mean'].round(2)\n",
    "client_stats['adj_dem_median'] = client_stats['adj_dem_median'].astype(int)\n",
    "\n",
    "#create a dataframe of aggregate statistics for each product\n",
    "product_stats = train.groupby(['Product_ID'], as_index=False).agg({'Client_ID':'nunique', 'adjusted_demand':['mean', 'median']})\n",
    "product_stats.columns = ['Product_ID', 'Clients', 'adj_dem_mean', 'adj_dem_median']\n",
    "product_stats['adj_dem_mean'] = product_stats['adj_dem_mean'].round(2)\n",
    "product_stats['adj_dem_median'] = product_stats['adj_dem_median'].astype(int)\n",
    "product_stats['median_pct'] = product_stats['adj_dem_median'].rank(pct=True, method='average')\n",
    "\n",
    "#create a dataframe of aggregate client-product information i.e. removing the time dimension\n",
    "train = train.groupby(['Client_ID', 'Product_ID'], as_index=False).agg({'Week_num':'nunique', 'adjusted_demand':['mean', 'median', 'min', 'max']})\n",
    "train.columns = ['Client_ID', 'Product_ID', 'num_weeks', 'adj_dem_mean', 'adj_dem_median', 'adj_dem_min', 'adj_dem_max']"
   ]
  },
  {
   "cell_type": "code",
   "execution_count": 6,
   "id": "406aafdc",
   "metadata": {},
   "outputs": [
    {
     "data": {
      "text/plain": [
       "Index(['Client_ID', 'Product_ID', 'num_weeks', 'adj_dem_mean',\n",
       "       'adj_dem_median', 'adj_dem_min', 'adj_dem_max', 'Products',\n",
       "       'adj_dem_mean_c', 'adj_dem_median_c', 'Clients', 'adj_dem_mean_p',\n",
       "       'adj_dem_median_p', 'median_pct', 'adjusted_demand'],\n",
       "      dtype='object')"
      ]
     },
     "execution_count": 6,
     "metadata": {},
     "output_type": "execute_result"
    }
   ],
   "source": [
    "train = train.merge(right=client_stats,\n",
    "                    how='left',\n",
    "                    on='Client_ID',\n",
    "                    suffixes=('', '_c'))\n",
    "del client_stats\n",
    "\n",
    "train = train.merge(right=product_stats,\n",
    "                    how='left',\n",
    "                    on='Product_ID',\n",
    "                    suffixes=('','_p'))\n",
    "del product_stats\n",
    "\n",
    "train = train.merge(right=val[['Client_ID', 'Product_ID', 'adjusted_demand']],\n",
    "                how='left',\n",
    "                on=['Product_ID', 'Client_ID'])\n",
    "train.columns"
   ]
  },
  {
   "cell_type": "code",
   "execution_count": null,
   "id": "5958274b",
   "metadata": {},
   "outputs": [],
   "source": [
    "features = ['num_weeks','adj_dem_median', 'adj_dem_min', 'adj_dem_max',\n",
    "            'Products','adj_dem_mean_c', 'adj_dem_median_c',\n",
    "            'Clients', 'adj_dem_mean_p', 'adj_dem_median_p', 'median_pct']\n",
    "target = ['adjusted_demand']"
   ]
  },
  {
   "cell_type": "code",
   "execution_count": 8,
   "id": "2eaf9898",
   "metadata": {},
   "outputs": [],
   "source": [
    "xgb_reg = xgb.XGBRegressor(objective='reg:squaredlogerror',\n",
    "                         max_depth=5,\n",
    "                         n_estimators=300,             # Number of boosting rounds\n",
    "                         learning_rate=0.01,\n",
    "                         )"
   ]
  },
  {
   "cell_type": "code",
   "execution_count": null,
   "id": "4b96515b",
   "metadata": {},
   "outputs": [],
   "source": [
    "# dtrain = xgb.DMatrix(X_train, label=y_train, enable_categorical=False)\n",
    "bst = xgb_reg.fit(train[features], train[target])"
   ]
  },
  {
   "cell_type": "code",
   "execution_count": null,
   "id": "10c44f55",
   "metadata": {},
   "outputs": [
    {
     "data": {
      "application/vnd.microsoft.datawrangler.viewer.v0+json": {
       "columns": [
        {
         "name": "index",
         "rawType": "int64",
         "type": "integer"
        },
        {
         "name": "adjusted_demand",
         "rawType": "int64",
         "type": "integer"
        },
        {
         "name": "pred",
         "rawType": "float32",
         "type": "float"
        },
        {
         "name": "Client_ID",
         "rawType": "int64",
         "type": "integer"
        },
        {
         "name": "Product_ID",
         "rawType": "int64",
         "type": "integer"
        },
        {
         "name": "num_weeks",
         "rawType": "int64",
         "type": "integer"
        },
        {
         "name": "adj_dem_median",
         "rawType": "float64",
         "type": "float"
        },
        {
         "name": "adj_dem_min",
         "rawType": "int64",
         "type": "integer"
        },
        {
         "name": "adj_dem_max",
         "rawType": "int64",
         "type": "integer"
        },
        {
         "name": "Products",
         "rawType": "int64",
         "type": "integer"
        },
        {
         "name": "adj_dem_mean_c",
         "rawType": "float64",
         "type": "float"
        },
        {
         "name": "adj_dem_median_c",
         "rawType": "int32",
         "type": "integer"
        },
        {
         "name": "Clients",
         "rawType": "int64",
         "type": "integer"
        },
        {
         "name": "adj_dem_mean_p",
         "rawType": "float64",
         "type": "float"
        },
        {
         "name": "adj_dem_median_p",
         "rawType": "int32",
         "type": "integer"
        },
        {
         "name": "median_pct",
         "rawType": "float64",
         "type": "float"
        }
       ],
       "conversionMethod": "pd.DataFrame",
       "ref": "b77fea3a-959f-4f52-863d-872ebd795ab0",
       "rows": [
        [
         "0",
         "0",
         "12.69",
         "26",
         "1182",
         "2",
         "19.5",
         "0",
         "39",
         "38",
         "27.74",
         "20",
         "143631",
         "9.29",
         "5",
         "0.44878957169459965"
        ],
        [
         "1",
         "42",
         "24.15",
         "26",
         "4767",
         "2",
         "42.0",
         "42",
         "42",
         "38",
         "27.74",
         "20",
         "36244",
         "10.07",
         "3",
         "0.2780881440099317"
        ],
        [
         "2",
         "13",
         "13.01",
         "26",
         "31393",
         "6",
         "17.0",
         "15",
         "22",
         "38",
         "27.74",
         "20",
         "4796",
         "14.12",
         "2",
         "0.14990689013035383"
        ],
        [
         "3",
         "10",
         "4.12",
         "26",
         "32962",
         "1",
         "3.0",
         "3",
         "3",
         "38",
         "27.74",
         "20",
         "2089",
         "20.79",
         "15",
         "0.696772191185599"
        ],
        [
         "4",
         "30",
         "15.46",
         "26",
         "33246",
         "4",
         "20.0",
         "10",
         "30",
         "38",
         "27.74",
         "20",
         "172",
         "12.79",
         "1",
         "0.06548727498448169"
        ],
        [
         "5",
         "36",
         "15.65",
         "26",
         "33643",
         "1",
         "24.0",
         "24",
         "24",
         "38",
         "27.74",
         "20",
         "23",
         "25.98",
         "12",
         "0.6520794537554314"
        ],
        [
         "6",
         "43",
         "26.18",
         "26",
         "34204",
         "6",
         "39.5",
         "30",
         "45",
         "38",
         "27.74",
         "20",
         "4318",
         "41.36",
         "18",
         "0.728739913097455"
        ],
        [
         "7",
         "107",
         "39.19",
         "26",
         "34206",
         "6",
         "85.0",
         "42",
         "120",
         "38",
         "27.74",
         "20",
         "29339",
         "26.9",
         "3",
         "0.2780881440099317"
        ],
        [
         "8",
         "39",
         "22.45",
         "26",
         "34210",
         "6",
         "35.5",
         "17",
         "43",
         "38",
         "27.74",
         "20",
         "2207",
         "121.47",
         "80",
         "0.9056486654252017"
        ],
        [
         "9",
         "39",
         "22.62",
         "26",
         "34211",
         "6",
         "35.5",
         "23",
         "53",
         "38",
         "27.74",
         "20",
         "2404",
         "107.58",
         "82",
         "0.9081315952824333"
        ],
        [
         "10",
         "12",
         "10.63",
         "26",
         "34258",
         "3",
         "12.0",
         "0",
         "32",
         "38",
         "27.74",
         "20",
         "905",
         "34.11",
         "24",
         "0.7842954686530106"
        ],
        [
         "11",
         "20",
         "10.67",
         "26",
         "34264",
         "6",
         "13.0",
         "7",
         "20",
         "38",
         "27.74",
         "20",
         "15892",
         "13.75",
         "3",
         "0.2780881440099317"
        ],
        [
         "12",
         "24",
         "14.41",
         "26",
         "34785",
         "4",
         "18.5",
         "12",
         "27",
         "38",
         "27.74",
         "20",
         "2270",
         "87.41",
         "69",
         "0.8957169459962756"
        ],
        [
         "13",
         "75",
         "32.61",
         "26",
         "34786",
         "6",
         "68.5",
         "40",
         "83",
         "38",
         "27.74",
         "20",
         "2736",
         "162.76",
         "124",
         "0.9295468653010552"
        ],
        [
         "14",
         "24",
         "17.4",
         "26",
         "34794",
         "6",
         "24.0",
         "24",
         "30",
         "38",
         "27.74",
         "20",
         "1533",
         "47.28",
         "34",
         "0.8342644320297952"
        ],
        [
         "15",
         "9",
         "15.89",
         "26",
         "34802",
         "3",
         "24.0",
         "14",
         "25",
         "38",
         "27.74",
         "20",
         "3342",
         "59.63",
         "40",
         "0.8516449410304159"
        ],
        [
         "16",
         "47",
         "27.2",
         "26",
         "34865",
         "6",
         "51.0",
         "47",
         "61",
         "38",
         "27.74",
         "20",
         "2740",
         "134.84",
         "100",
         "0.9202358783364369"
        ],
        [
         "17",
         "4",
         "4.29",
         "26",
         "34915",
         "4",
         "4.0",
         "0",
         "4",
         "38",
         "27.74",
         "20",
         "543",
         "13.3",
         "8",
         "0.5679702048417132"
        ],
        [
         "18",
         "38",
         "21.55",
         "26",
         "35142",
         "6",
         "34.5",
         "6",
         "45",
         "38",
         "27.74",
         "20",
         "2369",
         "52.07",
         "27",
         "0.8004345127250155"
        ],
        [
         "19",
         "44",
         "24.36",
         "26",
         "35145",
         "6",
         "37.5",
         "30",
         "50",
         "38",
         "27.74",
         "20",
         "2871",
         "116.24",
         "60",
         "0.8814400993171942"
        ],
        [
         "20",
         "19",
         "11.92",
         "26",
         "35148",
         "6",
         "15.0",
         "5",
         "20",
         "38",
         "27.74",
         "20",
         "2444",
         "24.38",
         "15",
         "0.696772191185599"
        ],
        [
         "21",
         "120",
         "15.94",
         "26",
         "35526",
         "2",
         "24.0",
         "24",
         "24",
         "38",
         "27.74",
         "20",
         "1134",
         "92.68",
         "24",
         "0.7842954686530106"
        ],
        [
         "22",
         "0",
         "13.38",
         "26",
         "43040",
         "2",
         "20.0",
         "2",
         "38",
         "38",
         "27.74",
         "20",
         "35084",
         "10.7",
         "5",
         "0.44878957169459965"
        ],
        [
         "23",
         "6",
         "6.02",
         "26",
         "43060",
         "6",
         "6.0",
         "6",
         "6",
         "38",
         "27.74",
         "20",
         "2653",
         "39.04",
         "24",
         "0.7842954686530106"
        ],
        [
         "24",
         "18",
         "15.79",
         "26",
         "43136",
         "6",
         "18.0",
         "12",
         "40",
         "38",
         "27.74",
         "20",
         "1477",
         "39.22",
         "28",
         "0.8038485412787089"
        ],
        [
         "25",
         "10",
         "7.18",
         "26",
         "43156",
         "5",
         "6.0",
         "0",
         "19",
         "38",
         "27.74",
         "20",
         "2123",
         "27.12",
         "20",
         "0.7513966480446927"
        ],
        [
         "26",
         "8",
         "3.29",
         "26",
         "43169",
         "3",
         "4.0",
         "0",
         "4",
         "38",
         "27.74",
         "20",
         "20951",
         "3.69",
         "2",
         "0.14990689013035383"
        ],
        [
         "27",
         "23",
         "12.46",
         "26",
         "43246",
         "6",
         "15.5",
         "11",
         "21",
         "38",
         "27.74",
         "20",
         "7842",
         "20.89",
         "6",
         "0.5108628181253879"
        ],
        [
         "28",
         "3",
         "4.01",
         "26",
         "43335",
         "3",
         "3.0",
         "0",
         "6",
         "38",
         "27.74",
         "20",
         "1365",
         "17.95",
         "10",
         "0.611421477343265"
        ],
        [
         "29",
         "20",
         "4.8",
         "26",
         "43342",
         "4",
         "4.0",
         "2",
         "8",
         "38",
         "27.74",
         "20",
         "2441",
         "24.44",
         "16",
         "0.7085661080074488"
        ],
        [
         "30",
         "7",
         "5.96",
         "26",
         "43343",
         "5",
         "7.0",
         "0",
         "8",
         "38",
         "27.74",
         "20",
         "1873",
         "14.96",
         "8",
         "0.5679702048417132"
        ],
        [
         "31",
         "6",
         "5.74",
         "26",
         "43344",
         "4",
         "5.0",
         "0",
         "10",
         "38",
         "27.74",
         "20",
         "1939",
         "28.18",
         "19",
         "0.7405338299193048"
        ],
        [
         "32",
         "12",
         "6.8",
         "26",
         "43345",
         "6",
         "6.0",
         "6",
         "12",
         "38",
         "27.74",
         "20",
         "810",
         "40.73",
         "29",
         "0.8066418373680944"
        ],
        [
         "33",
         "92",
         "25.84",
         "26",
         "46876",
         "3",
         "44.0",
         "0",
         "69",
         "38",
         "27.74",
         "20",
         "14751",
         "29.67",
         "6",
         "0.5108628181253879"
        ],
        [
         "34",
         "24",
         "12.37",
         "26",
         "48021",
         "5",
         "12.0",
         "12",
         "60",
         "38",
         "27.74",
         "20",
         "11",
         "24.89",
         "12",
         "0.6520794537554314"
        ],
        [
         "35",
         "10",
         "4.34",
         "26",
         "48345",
         "2",
         "3.5",
         "1",
         "6",
         "38",
         "27.74",
         "20",
         "405",
         "51.91",
         "36",
         "0.840471756672874"
        ],
        [
         "36",
         "67",
         "27.35",
         "26",
         "48996",
         "6",
         "49.0",
         "14",
         "70",
         "38",
         "27.74",
         "20",
         "2266",
         "132.03",
         "82",
         "0.9081315952824333"
        ],
        [
         "37",
         "105",
         "39.19",
         "26",
         "49028",
         "6",
         "88.0",
         "66",
         "132",
         "38",
         "27.74",
         "20",
         "7322",
         "78.41",
         "10",
         "0.611421477343265"
        ],
        [
         "38",
         "98",
         "35.87",
         "60",
         "32275",
         "6",
         "76.5",
         "70",
         "81",
         "33",
         "206.6",
         "87",
         "104",
         "40.7",
         "30",
         "0.8153320918684047"
        ],
        [
         "39",
         "57",
         "25.64",
         "60",
         "32281",
         "6",
         "44.5",
         "39",
         "51",
         "33",
         "206.6",
         "87",
         "136",
         "24.82",
         "18",
         "0.728739913097455"
        ],
        [
         "40",
         "5952",
         "52.89",
         "60",
         "32336",
         "6",
         "960.0",
         "576",
         "1728",
         "33",
         "206.6",
         "87",
         "10",
         "530.82",
         "192",
         "0.9481688392302917"
        ],
        [
         "41",
         "324",
         "52.89",
         "60",
         "32441",
         "2",
         "162.0",
         "108",
         "216",
         "33",
         "206.6",
         "87",
         "8",
         "162.0",
         "108",
         "0.9236499068901304"
        ],
        [
         "42",
         "102",
         "40.22",
         "60",
         "33260",
         "6",
         "120.0",
         "52",
         "138",
         "33",
         "206.6",
         "87",
         "173",
         "35.06",
         "21",
         "0.7628801986343886"
        ],
        [
         "43",
         "60",
         "29.32",
         "60",
         "33261",
         "6",
         "58.5",
         "36",
         "66",
         "33",
         "206.6",
         "87",
         "179",
         "17.05",
         "12",
         "0.6520794537554314"
        ],
        [
         "44",
         "96",
         "39.34",
         "60",
         "33262",
         "6",
         "92.5",
         "78",
         "111",
         "33",
         "206.6",
         "87",
         "237",
         "30.56",
         "20",
         "0.7513966480446927"
        ],
        [
         "45",
         "75",
         "35.87",
         "60",
         "33265",
         "6",
         "77.5",
         "54",
         "105",
         "33",
         "206.6",
         "87",
         "188",
         "31.88",
         "21",
         "0.7628801986343886"
        ],
        [
         "46",
         "60",
         "35.87",
         "60",
         "33267",
         "6",
         "75.0",
         "48",
         "120",
         "33",
         "206.6",
         "87",
         "214",
         "15.91",
         "10",
         "0.611421477343265"
        ],
        [
         "47",
         "324",
         "31.94",
         "60",
         "33381",
         "2",
         "108.0",
         "108",
         "108",
         "33",
         "206.6",
         "87",
         "2",
         "108.0",
         "108",
         "0.9236499068901304"
        ],
        [
         "48",
         "30",
         "18.41",
         "60",
         "34258",
         "5",
         "29.0",
         "18",
         "30",
         "33",
         "206.6",
         "87",
         "905",
         "34.11",
         "24",
         "0.7842954686530106"
        ],
        [
         "49",
         "384",
         "52.89",
         "60",
         "34348",
         "3",
         "960.0",
         "960",
         "1152",
         "33",
         "206.6",
         "87",
         "22",
         "298.0",
         "192",
         "0.9481688392302917"
        ]
       ],
       "shape": {
        "columns": 15,
        "rows": 16707877
       }
      },
      "text/html": [
       "<div>\n",
       "<style scoped>\n",
       "    .dataframe tbody tr th:only-of-type {\n",
       "        vertical-align: middle;\n",
       "    }\n",
       "\n",
       "    .dataframe tbody tr th {\n",
       "        vertical-align: top;\n",
       "    }\n",
       "\n",
       "    .dataframe thead th {\n",
       "        text-align: right;\n",
       "    }\n",
       "</style>\n",
       "<table border=\"1\" class=\"dataframe\">\n",
       "  <thead>\n",
       "    <tr style=\"text-align: right;\">\n",
       "      <th></th>\n",
       "      <th>adjusted_demand</th>\n",
       "      <th>pred</th>\n",
       "      <th>Client_ID</th>\n",
       "      <th>Product_ID</th>\n",
       "      <th>num_weeks</th>\n",
       "      <th>adj_dem_median</th>\n",
       "      <th>adj_dem_min</th>\n",
       "      <th>adj_dem_max</th>\n",
       "      <th>Products</th>\n",
       "      <th>adj_dem_mean_c</th>\n",
       "      <th>adj_dem_median_c</th>\n",
       "      <th>Clients</th>\n",
       "      <th>adj_dem_mean_p</th>\n",
       "      <th>adj_dem_median_p</th>\n",
       "      <th>median_pct</th>\n",
       "    </tr>\n",
       "  </thead>\n",
       "  <tbody>\n",
       "    <tr>\n",
       "      <th>0</th>\n",
       "      <td>0</td>\n",
       "      <td>12.69</td>\n",
       "      <td>26</td>\n",
       "      <td>1182</td>\n",
       "      <td>2</td>\n",
       "      <td>19.5</td>\n",
       "      <td>0</td>\n",
       "      <td>39</td>\n",
       "      <td>38</td>\n",
       "      <td>27.74</td>\n",
       "      <td>20</td>\n",
       "      <td>143631</td>\n",
       "      <td>9.29</td>\n",
       "      <td>5</td>\n",
       "      <td>0.448790</td>\n",
       "    </tr>\n",
       "    <tr>\n",
       "      <th>1</th>\n",
       "      <td>42</td>\n",
       "      <td>24.15</td>\n",
       "      <td>26</td>\n",
       "      <td>4767</td>\n",
       "      <td>2</td>\n",
       "      <td>42.0</td>\n",
       "      <td>42</td>\n",
       "      <td>42</td>\n",
       "      <td>38</td>\n",
       "      <td>27.74</td>\n",
       "      <td>20</td>\n",
       "      <td>36244</td>\n",
       "      <td>10.07</td>\n",
       "      <td>3</td>\n",
       "      <td>0.278088</td>\n",
       "    </tr>\n",
       "    <tr>\n",
       "      <th>2</th>\n",
       "      <td>13</td>\n",
       "      <td>13.01</td>\n",
       "      <td>26</td>\n",
       "      <td>31393</td>\n",
       "      <td>6</td>\n",
       "      <td>17.0</td>\n",
       "      <td>15</td>\n",
       "      <td>22</td>\n",
       "      <td>38</td>\n",
       "      <td>27.74</td>\n",
       "      <td>20</td>\n",
       "      <td>4796</td>\n",
       "      <td>14.12</td>\n",
       "      <td>2</td>\n",
       "      <td>0.149907</td>\n",
       "    </tr>\n",
       "    <tr>\n",
       "      <th>3</th>\n",
       "      <td>10</td>\n",
       "      <td>4.12</td>\n",
       "      <td>26</td>\n",
       "      <td>32962</td>\n",
       "      <td>1</td>\n",
       "      <td>3.0</td>\n",
       "      <td>3</td>\n",
       "      <td>3</td>\n",
       "      <td>38</td>\n",
       "      <td>27.74</td>\n",
       "      <td>20</td>\n",
       "      <td>2089</td>\n",
       "      <td>20.79</td>\n",
       "      <td>15</td>\n",
       "      <td>0.696772</td>\n",
       "    </tr>\n",
       "    <tr>\n",
       "      <th>4</th>\n",
       "      <td>30</td>\n",
       "      <td>15.46</td>\n",
       "      <td>26</td>\n",
       "      <td>33246</td>\n",
       "      <td>4</td>\n",
       "      <td>20.0</td>\n",
       "      <td>10</td>\n",
       "      <td>30</td>\n",
       "      <td>38</td>\n",
       "      <td>27.74</td>\n",
       "      <td>20</td>\n",
       "      <td>172</td>\n",
       "      <td>12.79</td>\n",
       "      <td>1</td>\n",
       "      <td>0.065487</td>\n",
       "    </tr>\n",
       "    <tr>\n",
       "      <th>...</th>\n",
       "      <td>...</td>\n",
       "      <td>...</td>\n",
       "      <td>...</td>\n",
       "      <td>...</td>\n",
       "      <td>...</td>\n",
       "      <td>...</td>\n",
       "      <td>...</td>\n",
       "      <td>...</td>\n",
       "      <td>...</td>\n",
       "      <td>...</td>\n",
       "      <td>...</td>\n",
       "      <td>...</td>\n",
       "      <td>...</td>\n",
       "      <td>...</td>\n",
       "      <td>...</td>\n",
       "    </tr>\n",
       "    <tr>\n",
       "      <th>16707872</th>\n",
       "      <td>3</td>\n",
       "      <td>17.15</td>\n",
       "      <td>2015152015</td>\n",
       "      <td>2233</td>\n",
       "      <td>3</td>\n",
       "      <td>20.0</td>\n",
       "      <td>17</td>\n",
       "      <td>52</td>\n",
       "      <td>13</td>\n",
       "      <td>32.48</td>\n",
       "      <td>10</td>\n",
       "      <td>391725</td>\n",
       "      <td>6.01</td>\n",
       "      <td>3</td>\n",
       "      <td>0.278088</td>\n",
       "    </tr>\n",
       "    <tr>\n",
       "      <th>16707873</th>\n",
       "      <td>10</td>\n",
       "      <td>3.76</td>\n",
       "      <td>2015152015</td>\n",
       "      <td>2665</td>\n",
       "      <td>1</td>\n",
       "      <td>4.0</td>\n",
       "      <td>4</td>\n",
       "      <td>4</td>\n",
       "      <td>13</td>\n",
       "      <td>32.48</td>\n",
       "      <td>10</td>\n",
       "      <td>68693</td>\n",
       "      <td>6.03</td>\n",
       "      <td>3</td>\n",
       "      <td>0.278088</td>\n",
       "    </tr>\n",
       "    <tr>\n",
       "      <th>16707874</th>\n",
       "      <td>10</td>\n",
       "      <td>7.74</td>\n",
       "      <td>2015152015</td>\n",
       "      <td>4270</td>\n",
       "      <td>1</td>\n",
       "      <td>10.0</td>\n",
       "      <td>10</td>\n",
       "      <td>10</td>\n",
       "      <td>13</td>\n",
       "      <td>32.48</td>\n",
       "      <td>10</td>\n",
       "      <td>51314</td>\n",
       "      <td>7.39</td>\n",
       "      <td>4</td>\n",
       "      <td>0.374302</td>\n",
       "    </tr>\n",
       "    <tr>\n",
       "      <th>16707875</th>\n",
       "      <td>8</td>\n",
       "      <td>4.03</td>\n",
       "      <td>2015152015</td>\n",
       "      <td>4280</td>\n",
       "      <td>1</td>\n",
       "      <td>4.0</td>\n",
       "      <td>4</td>\n",
       "      <td>4</td>\n",
       "      <td>13</td>\n",
       "      <td>32.48</td>\n",
       "      <td>10</td>\n",
       "      <td>92584</td>\n",
       "      <td>8.52</td>\n",
       "      <td>5</td>\n",
       "      <td>0.448790</td>\n",
       "    </tr>\n",
       "    <tr>\n",
       "      <th>16707876</th>\n",
       "      <td>3</td>\n",
       "      <td>4.95</td>\n",
       "      <td>2015152015</td>\n",
       "      <td>31717</td>\n",
       "      <td>1</td>\n",
       "      <td>5.0</td>\n",
       "      <td>5</td>\n",
       "      <td>5</td>\n",
       "      <td>13</td>\n",
       "      <td>32.48</td>\n",
       "      <td>10</td>\n",
       "      <td>41767</td>\n",
       "      <td>7.68</td>\n",
       "      <td>4</td>\n",
       "      <td>0.374302</td>\n",
       "    </tr>\n",
       "  </tbody>\n",
       "</table>\n",
       "<p>16707877 rows × 15 columns</p>\n",
       "</div>"
      ],
      "text/plain": [
       "          adjusted_demand   pred   Client_ID  Product_ID  num_weeks  \\\n",
       "0                       0  12.69          26        1182          2   \n",
       "1                      42  24.15          26        4767          2   \n",
       "2                      13  13.01          26       31393          6   \n",
       "3                      10   4.12          26       32962          1   \n",
       "4                      30  15.46          26       33246          4   \n",
       "...                   ...    ...         ...         ...        ...   \n",
       "16707872                3  17.15  2015152015        2233          3   \n",
       "16707873               10   3.76  2015152015        2665          1   \n",
       "16707874               10   7.74  2015152015        4270          1   \n",
       "16707875                8   4.03  2015152015        4280          1   \n",
       "16707876                3   4.95  2015152015       31717          1   \n",
       "\n",
       "          adj_dem_median  adj_dem_min  adj_dem_max  Products  adj_dem_mean_c  \\\n",
       "0                   19.5            0           39        38           27.74   \n",
       "1                   42.0           42           42        38           27.74   \n",
       "2                   17.0           15           22        38           27.74   \n",
       "3                    3.0            3            3        38           27.74   \n",
       "4                   20.0           10           30        38           27.74   \n",
       "...                  ...          ...          ...       ...             ...   \n",
       "16707872            20.0           17           52        13           32.48   \n",
       "16707873             4.0            4            4        13           32.48   \n",
       "16707874            10.0           10           10        13           32.48   \n",
       "16707875             4.0            4            4        13           32.48   \n",
       "16707876             5.0            5            5        13           32.48   \n",
       "\n",
       "          adj_dem_median_c  Clients  adj_dem_mean_p  adj_dem_median_p  \\\n",
       "0                       20   143631            9.29                 5   \n",
       "1                       20    36244           10.07                 3   \n",
       "2                       20     4796           14.12                 2   \n",
       "3                       20     2089           20.79                15   \n",
       "4                       20      172           12.79                 1   \n",
       "...                    ...      ...             ...               ...   \n",
       "16707872                10   391725            6.01                 3   \n",
       "16707873                10    68693            6.03                 3   \n",
       "16707874                10    51314            7.39                 4   \n",
       "16707875                10    92584            8.52                 5   \n",
       "16707876                10    41767            7.68                 4   \n",
       "\n",
       "          median_pct  \n",
       "0           0.448790  \n",
       "1           0.278088  \n",
       "2           0.149907  \n",
       "3           0.696772  \n",
       "4           0.065487  \n",
       "...              ...  \n",
       "16707872    0.278088  \n",
       "16707873    0.278088  \n",
       "16707874    0.374302  \n",
       "16707875    0.448790  \n",
       "16707876    0.374302  \n",
       "\n",
       "[16707877 rows x 15 columns]"
      ]
     },
     "execution_count": 10,
     "metadata": {},
     "output_type": "execute_result"
    }
   ],
   "source": [
    "# predict the demand\n",
    "train['pred'] = xgb_reg.predict(train[features])\n",
    "train['pred'] = np.maximum(0, train['pred']).round(2)\n",
    "train[target+['pred', 'Client_ID', 'Product_ID']+features]"
   ]
  },
  {
   "cell_type": "markdown",
   "id": "d9ea5a82",
   "metadata": {},
   "source": [
    "## Load The Testing Data"
   ]
  },
  {
   "cell_type": "code",
   "execution_count": 11,
   "id": "081f13e8",
   "metadata": {},
   "outputs": [
    {
     "name": "stderr",
     "output_type": "stream",
     "text": [
      "<>:2: SyntaxWarning: invalid escape sequence '\\p'\n",
      "<>:2: SyntaxWarning: invalid escape sequence '\\p'\n",
      "C:\\Users\\amirh\\AppData\\Local\\Temp\\ipykernel_16188\\1624174452.py:2: SyntaxWarning: invalid escape sequence '\\p'\n",
      "  data_path = \"..\\product-inventory\"\n"
     ]
    }
   ],
   "source": [
    "# load test.csv\n",
    "data_path = \"..\\product-inventory\"\n",
    "filename = os.path.join(data_path, \"grupo-bimbo-inventory-demand/test.csv.zip\")\n",
    "\n",
    "test = pd.read_csv(filename, \n",
    "                 usecols=['id', 'Producto_ID', 'Cliente_ID'])\n",
    "# \n",
    "# rename columns\n",
    "test = test.rename(columns={'Cliente_ID': 'Client_ID',\n",
    "                            'Producto_ID': 'Product_ID'})"
   ]
  },
  {
   "cell_type": "code",
   "execution_count": 12,
   "id": "8c04d79c",
   "metadata": {},
   "outputs": [
    {
     "data": {
      "application/vnd.microsoft.datawrangler.viewer.v0+json": {
       "columns": [
        {
         "name": "index",
         "rawType": "int64",
         "type": "integer"
        },
        {
         "name": "id",
         "rawType": "int64",
         "type": "integer"
        },
        {
         "name": "Client_ID",
         "rawType": "int64",
         "type": "integer"
        },
        {
         "name": "Product_ID",
         "rawType": "int64",
         "type": "integer"
        },
        {
         "name": "pred",
         "rawType": "float32",
         "type": "float"
        }
       ],
       "conversionMethod": "pd.DataFrame",
       "ref": "f4a3f159-c1b6-41db-9318-489fb48ddb5e",
       "rows": [
        [
         "0",
         "1569352",
         "26",
         "31518",
         null
        ],
        [
         "1",
         "4728674",
         "26",
         "31520",
         null
        ],
        [
         "2",
         "1547831",
         "26",
         "34206",
         "39.19"
        ],
        [
         "3",
         "6667200",
         "26",
         "34210",
         "22.45"
        ],
        [
         "4",
         "1592616",
         "26",
         "34785",
         "14.41"
        ],
        [
         "5",
         "6825659",
         "26",
         "34785",
         "14.41"
        ],
        [
         "6",
         "3909690",
         "26",
         "34786",
         "32.61"
        ],
        [
         "7",
         "3659672",
         "26",
         "35142",
         "21.55"
        ],
        [
         "8",
         "5853787",
         "26",
         "35148",
         "11.92"
        ],
        [
         "9",
         "2316053",
         "26",
         "43335",
         "4.01"
        ],
        [
         "10",
         "5908199",
         "26",
         "43335",
         "4.01"
        ],
        [
         "11",
         "900676",
         "26",
         "43342",
         "4.8"
        ],
        [
         "12",
         "6312022",
         "26",
         "43345",
         "6.8"
        ],
        [
         "13",
         "4837077",
         "26",
         "43388",
         null
        ],
        [
         "14",
         "4091987",
         "26",
         "46876",
         "25.84"
        ],
        [
         "15",
         "5794848",
         "60",
         "32275",
         "35.87"
        ],
        [
         "16",
         "1597111",
         "60",
         "32441",
         "52.89"
        ],
        [
         "17",
         "6631333",
         "60",
         "32441",
         "52.89"
        ],
        [
         "18",
         "2297183",
         "60",
         "33262",
         "39.34"
        ],
        [
         "19",
         "3110842",
         "60",
         "33262",
         "39.34"
        ],
        [
         "20",
         "448555",
         "60",
         "33267",
         "35.87"
        ],
        [
         "21",
         "774731",
         "60",
         "33267",
         "35.87"
        ],
        [
         "22",
         "271105",
         "60",
         "34258",
         "18.41"
        ],
        [
         "23",
         "1173105",
         "60",
         "34258",
         "18.41"
        ],
        [
         "24",
         "4063439",
         "60",
         "34348",
         "52.89"
        ],
        [
         "25",
         "4642515",
         "60",
         "34348",
         "52.89"
        ],
        [
         "26",
         "5852296",
         "60",
         "34787",
         "52.89"
        ],
        [
         "27",
         "1140141",
         "60",
         "34793",
         "52.89"
        ],
        [
         "28",
         "4836141",
         "60",
         "34867",
         "52.89"
        ],
        [
         "29",
         "3666423",
         "60",
         "34894",
         "35.87"
        ],
        [
         "30",
         "993381",
         "60",
         "35247",
         "35.87"
        ],
        [
         "31",
         "2974985",
         "60",
         "36978",
         "52.89"
        ],
        [
         "32",
         "6746671",
         "60",
         "43380",
         "31.41"
        ],
        [
         "33",
         "5660462",
         "65",
         "4767",
         "52.89"
        ],
        [
         "34",
         "5455345",
         "65",
         "30007",
         "52.89"
        ],
        [
         "35",
         "4060379",
         "65",
         "31198",
         "40.14"
        ],
        [
         "36",
         "1017671",
         "65",
         "31200",
         "38.18"
        ],
        [
         "37",
         "2473353",
         "65",
         "31690",
         "31.8"
        ],
        [
         "38",
         "5203902",
         "65",
         "32838",
         "52.89"
        ],
        [
         "39",
         "3374673",
         "65",
         "33678",
         "25.39"
        ],
        [
         "40",
         "5177977",
         "65",
         "33678",
         "25.39"
        ],
        [
         "41",
         "2995473",
         "65",
         "34054",
         "20.63"
        ],
        [
         "42",
         "5468118",
         "65",
         "34204",
         "40.22"
        ],
        [
         "43",
         "5616707",
         "65",
         "34204",
         "40.22"
        ],
        [
         "44",
         "3892754",
         "65",
         "34206",
         "52.89"
        ],
        [
         "45",
         "6302101",
         "65",
         "34211",
         "52.89"
        ],
        [
         "46",
         "4258930",
         "65",
         "34264",
         "35.87"
        ],
        [
         "47",
         "1237710",
         "65",
         "34469",
         "35.87"
        ],
        [
         "48",
         "6379875",
         "65",
         "34786",
         "52.89"
        ],
        [
         "49",
         "1765867",
         "65",
         "34794",
         "52.89"
        ]
       ],
       "shape": {
        "columns": 4,
        "rows": 6999251
       }
      },
      "text/html": [
       "<div>\n",
       "<style scoped>\n",
       "    .dataframe tbody tr th:only-of-type {\n",
       "        vertical-align: middle;\n",
       "    }\n",
       "\n",
       "    .dataframe tbody tr th {\n",
       "        vertical-align: top;\n",
       "    }\n",
       "\n",
       "    .dataframe thead th {\n",
       "        text-align: right;\n",
       "    }\n",
       "</style>\n",
       "<table border=\"1\" class=\"dataframe\">\n",
       "  <thead>\n",
       "    <tr style=\"text-align: right;\">\n",
       "      <th></th>\n",
       "      <th>id</th>\n",
       "      <th>Client_ID</th>\n",
       "      <th>Product_ID</th>\n",
       "      <th>pred</th>\n",
       "    </tr>\n",
       "  </thead>\n",
       "  <tbody>\n",
       "    <tr>\n",
       "      <th>0</th>\n",
       "      <td>1569352</td>\n",
       "      <td>26</td>\n",
       "      <td>31518</td>\n",
       "      <td>NaN</td>\n",
       "    </tr>\n",
       "    <tr>\n",
       "      <th>1</th>\n",
       "      <td>4728674</td>\n",
       "      <td>26</td>\n",
       "      <td>31520</td>\n",
       "      <td>NaN</td>\n",
       "    </tr>\n",
       "    <tr>\n",
       "      <th>2</th>\n",
       "      <td>1547831</td>\n",
       "      <td>26</td>\n",
       "      <td>34206</td>\n",
       "      <td>39.189999</td>\n",
       "    </tr>\n",
       "    <tr>\n",
       "      <th>3</th>\n",
       "      <td>6667200</td>\n",
       "      <td>26</td>\n",
       "      <td>34210</td>\n",
       "      <td>22.450001</td>\n",
       "    </tr>\n",
       "    <tr>\n",
       "      <th>4</th>\n",
       "      <td>1592616</td>\n",
       "      <td>26</td>\n",
       "      <td>34785</td>\n",
       "      <td>14.410000</td>\n",
       "    </tr>\n",
       "    <tr>\n",
       "      <th>...</th>\n",
       "      <td>...</td>\n",
       "      <td>...</td>\n",
       "      <td>...</td>\n",
       "      <td>...</td>\n",
       "    </tr>\n",
       "    <tr>\n",
       "      <th>6999246</th>\n",
       "      <td>6093628</td>\n",
       "      <td>2015152015</td>\n",
       "      <td>1232</td>\n",
       "      <td>2.090000</td>\n",
       "    </tr>\n",
       "    <tr>\n",
       "      <th>6999247</th>\n",
       "      <td>2542921</td>\n",
       "      <td>2015152015</td>\n",
       "      <td>1238</td>\n",
       "      <td>NaN</td>\n",
       "    </tr>\n",
       "    <tr>\n",
       "      <th>6999248</th>\n",
       "      <td>3223836</td>\n",
       "      <td>2015152015</td>\n",
       "      <td>1250</td>\n",
       "      <td>14.910000</td>\n",
       "    </tr>\n",
       "    <tr>\n",
       "      <th>6999249</th>\n",
       "      <td>1889878</td>\n",
       "      <td>2015152015</td>\n",
       "      <td>2233</td>\n",
       "      <td>17.150000</td>\n",
       "    </tr>\n",
       "    <tr>\n",
       "      <th>6999250</th>\n",
       "      <td>1066859</td>\n",
       "      <td>2015152015</td>\n",
       "      <td>4280</td>\n",
       "      <td>4.030000</td>\n",
       "    </tr>\n",
       "  </tbody>\n",
       "</table>\n",
       "<p>6999251 rows × 4 columns</p>\n",
       "</div>"
      ],
      "text/plain": [
       "              id   Client_ID  Product_ID       pred\n",
       "0        1569352          26       31518        NaN\n",
       "1        4728674          26       31520        NaN\n",
       "2        1547831          26       34206  39.189999\n",
       "3        6667200          26       34210  22.450001\n",
       "4        1592616          26       34785  14.410000\n",
       "...          ...         ...         ...        ...\n",
       "6999246  6093628  2015152015        1232   2.090000\n",
       "6999247  2542921  2015152015        1238        NaN\n",
       "6999248  3223836  2015152015        1250  14.910000\n",
       "6999249  1889878  2015152015        2233  17.150000\n",
       "6999250  1066859  2015152015        4280   4.030000\n",
       "\n",
       "[6999251 rows x 4 columns]"
      ]
     },
     "execution_count": 12,
     "metadata": {},
     "output_type": "execute_result"
    }
   ],
   "source": [
    "test = test[['id','Client_ID', 'Product_ID']].merge(right=train[['Client_ID', 'Product_ID', 'pred']], \n",
    "                                                    how='left', \n",
    "                                                    on=['Client_ID', 'Product_ID'])\n",
    "test = test.sort_values(by=['Client_ID', 'Product_ID']).reset_index(drop=True)\n",
    "test"
   ]
  },
  {
   "cell_type": "code",
   "execution_count": 13,
   "id": "b8c22830",
   "metadata": {},
   "outputs": [
    {
     "data": {
      "text/plain": [
       "0.3231074296378284"
      ]
     },
     "execution_count": 13,
     "metadata": {},
     "output_type": "execute_result"
    }
   ],
   "source": [
    "test['pred'].isna().mean()"
   ]
  },
  {
   "cell_type": "markdown",
   "id": "f095ae57",
   "metadata": {},
   "source": [
    "## Out-of-Sample Prediction\n",
    "There are a few cases where the client-product combo is not present in the training data. I fill in these observations' missing values. \n",
    "### 1. Existing Products\n",
    "This case consists of two possible scanarios:\n",
    "* New Client\n",
    "* Existing Client but a new combo\n",
    "\n",
    "In both scenarios, the in-sample estimation can not predict the demand. We use the average product demand in weeks 3-9 as our prediction.\n",
    "In the 2nd scenario, our prediction model has some shortcomings. For example, our measure does not take into account that a client might have a low demand for a new product. On the other hand, if we use the client's average demand as our prediction, it does not take into account the variation in products' demand. As a first pass, we use 'average prodct demand' as the prediction\n"
   ]
  },
  {
   "cell_type": "code",
   "execution_count": 14,
   "id": "981fa33d",
   "metadata": {},
   "outputs": [
    {
     "name": "stdout",
     "output_type": "stream",
     "text": [
      "Share of Missing Preiction: 0.02010443688903284\n"
     ]
    }
   ],
   "source": [
    "# use product's average demand in week 3-9 as a prediction for the new client.\n",
    "# adj_dem_mean_p contains existing product with new client, and a prediction for the client's demand.\n",
    "\n",
    "#create a dataframe of aggregate statistics for each product\n",
    "testagg = train.groupby(['Product_ID'], as_index=False).agg({'adj_dem_mean_p':'mean'})\n",
    "\n",
    "test = test.merge(right=testagg, \n",
    "                  how='left', \n",
    "                  on='Product_ID')\n",
    "\n",
    "del testagg\n",
    "test['pred'] = test['pred'].fillna(test['adj_dem_mean_p'])\n",
    "print('Share of Missing Preiction:', test['pred'].isna().mean())\n",
    "\n",
    "test = test.drop(columns='adj_dem_mean_p')"
   ]
  },
  {
   "cell_type": "markdown",
   "id": "cc922dcd",
   "metadata": {},
   "source": [
    "### 2. Existing Clients"
   ]
  },
  {
   "cell_type": "code",
   "execution_count": 15,
   "id": "cdf1e823",
   "metadata": {},
   "outputs": [
    {
     "name": "stdout",
     "output_type": "stream",
     "text": [
      "Share of Missing Preiction: 0.000156731055937271\n"
     ]
    }
   ],
   "source": [
    "# use client's average demand in week 3-9 as a prediction for new product.\n",
    "#pred_1 contains existing clients with new products, and a prediction for the product.\n",
    "\n",
    "#create a dataframe of aggregate statistics for each product\n",
    "testagg = train.groupby(['Client_ID'], as_index=False).agg({'adj_dem_mean_c':'mean'})\n",
    "test = test.merge(right=testagg, \n",
    "                  how='left', \n",
    "                  on='Client_ID')\n",
    "\n",
    "test['pred'] = test['pred'].fillna(test['adj_dem_mean_c'])\n",
    "print('Share of Missing Preiction:', test['pred'].isna().mean())\n",
    "\n",
    "del testagg\n",
    "test = test.drop(columns='adj_dem_mean_c')\n",
    "# WATCH OUT: This replaces missing values for existing clients and existing products with the client's average demand. \n",
    "# THEY SHOULD BE REPLACED WITH THE ACTUAL PREDICTION"
   ]
  },
  {
   "cell_type": "code",
   "execution_count": 16,
   "id": "8c8c1ae4",
   "metadata": {},
   "outputs": [
    {
     "data": {
      "text/plain": [
       "Index(['Client_ID', 'Product_ID', 'num_weeks', 'adj_dem_mean',\n",
       "       'adj_dem_median', 'adj_dem_min', 'adj_dem_max', 'Products',\n",
       "       'adj_dem_mean_c', 'adj_dem_median_c', 'Clients', 'adj_dem_mean_p',\n",
       "       'adj_dem_median_p', 'median_pct', 'adjusted_demand', 'pred'],\n",
       "      dtype='object')"
      ]
     },
     "execution_count": 16,
     "metadata": {},
     "output_type": "execute_result"
    }
   ],
   "source": [
    "train.columns"
   ]
  },
  {
   "cell_type": "markdown",
   "id": "001cc6ab",
   "metadata": {},
   "source": [
    "### 3. New Clients, New Products\n",
    "The intersection of new clients and new product in the test data. Here the first guess is the average demand for all product across all weeks.\n"
   ]
  },
  {
   "cell_type": "code",
   "execution_count": 17,
   "id": "b1028651",
   "metadata": {},
   "outputs": [
    {
     "name": "stdout",
     "output_type": "stream",
     "text": [
      "Share of Missing Preiction: 0.0\n"
     ]
    }
   ],
   "source": [
    "test['pred'] = test['pred'].fillna(train['adj_dem_mean'].mean())\n",
    "print('Share of Missing Preiction:', test['pred'].isna().mean())"
   ]
  },
  {
   "cell_type": "code",
   "execution_count": 18,
   "id": "3e7b9483",
   "metadata": {},
   "outputs": [
    {
     "data": {
      "application/vnd.microsoft.datawrangler.viewer.v0+json": {
       "columns": [
        {
         "name": "index",
         "rawType": "int64",
         "type": "integer"
        },
        {
         "name": "id",
         "rawType": "int64",
         "type": "integer"
        },
        {
         "name": "Client_ID",
         "rawType": "int64",
         "type": "integer"
        },
        {
         "name": "Product_ID",
         "rawType": "int64",
         "type": "integer"
        },
        {
         "name": "pred",
         "rawType": "float64",
         "type": "float"
        }
       ],
       "conversionMethod": "pd.DataFrame",
       "ref": "b1d9d079-c458-4bfa-a42f-157bce6e5d97",
       "rows": [
        [
         "0",
         "1569352",
         "26",
         "31518",
         "18.48"
        ],
        [
         "1",
         "4728674",
         "26",
         "31520",
         "31.44"
        ],
        [
         "2",
         "1547831",
         "26",
         "34206",
         "39.189998626708984"
        ],
        [
         "3",
         "6667200",
         "26",
         "34210",
         "22.450000762939453"
        ],
        [
         "4",
         "1592616",
         "26",
         "34785",
         "14.40999984741211"
        ],
        [
         "5",
         "6825659",
         "26",
         "34785",
         "14.40999984741211"
        ],
        [
         "6",
         "3909690",
         "26",
         "34786",
         "32.61000061035156"
        ],
        [
         "7",
         "3659672",
         "26",
         "35142",
         "21.549999237060547"
        ],
        [
         "8",
         "5853787",
         "26",
         "35148",
         "11.920000076293945"
        ],
        [
         "9",
         "2316053",
         "26",
         "43335",
         "4.010000228881836"
        ],
        [
         "10",
         "5908199",
         "26",
         "43335",
         "4.010000228881836"
        ],
        [
         "11",
         "900676",
         "26",
         "43342",
         "4.800000190734863"
        ],
        [
         "12",
         "6312022",
         "26",
         "43345",
         "6.800000190734863"
        ],
        [
         "13",
         "4837077",
         "26",
         "43388",
         "16.85"
        ],
        [
         "14",
         "4091987",
         "26",
         "46876",
         "25.84000015258789"
        ],
        [
         "15",
         "5794848",
         "60",
         "32275",
         "35.869998931884766"
        ],
        [
         "16",
         "1597111",
         "60",
         "32441",
         "52.88999938964844"
        ],
        [
         "17",
         "6631333",
         "60",
         "32441",
         "52.88999938964844"
        ],
        [
         "18",
         "2297183",
         "60",
         "33262",
         "39.34000015258789"
        ],
        [
         "19",
         "3110842",
         "60",
         "33262",
         "39.34000015258789"
        ],
        [
         "20",
         "448555",
         "60",
         "33267",
         "35.869998931884766"
        ],
        [
         "21",
         "774731",
         "60",
         "33267",
         "35.869998931884766"
        ],
        [
         "22",
         "271105",
         "60",
         "34258",
         "18.40999984741211"
        ],
        [
         "23",
         "1173105",
         "60",
         "34258",
         "18.40999984741211"
        ],
        [
         "24",
         "4063439",
         "60",
         "34348",
         "52.88999938964844"
        ],
        [
         "25",
         "4642515",
         "60",
         "34348",
         "52.88999938964844"
        ],
        [
         "26",
         "5852296",
         "60",
         "34787",
         "52.88999938964844"
        ],
        [
         "27",
         "1140141",
         "60",
         "34793",
         "52.88999938964844"
        ],
        [
         "28",
         "4836141",
         "60",
         "34867",
         "52.88999938964844"
        ],
        [
         "29",
         "3666423",
         "60",
         "34894",
         "35.869998931884766"
        ],
        [
         "30",
         "993381",
         "60",
         "35247",
         "35.869998931884766"
        ],
        [
         "31",
         "2974985",
         "60",
         "36978",
         "52.88999938964844"
        ],
        [
         "32",
         "6746671",
         "60",
         "43380",
         "31.40999984741211"
        ],
        [
         "33",
         "5660462",
         "65",
         "4767",
         "52.88999938964844"
        ],
        [
         "34",
         "5455345",
         "65",
         "30007",
         "52.88999938964844"
        ],
        [
         "35",
         "4060379",
         "65",
         "31198",
         "40.13999938964844"
        ],
        [
         "36",
         "1017671",
         "65",
         "31200",
         "38.18000030517578"
        ],
        [
         "37",
         "2473353",
         "65",
         "31690",
         "31.799999237060547"
        ],
        [
         "38",
         "5203902",
         "65",
         "32838",
         "52.88999938964844"
        ],
        [
         "39",
         "3374673",
         "65",
         "33678",
         "25.389999389648438"
        ],
        [
         "40",
         "5177977",
         "65",
         "33678",
         "25.389999389648438"
        ],
        [
         "41",
         "2995473",
         "65",
         "34054",
         "20.6299991607666"
        ],
        [
         "42",
         "5468118",
         "65",
         "34204",
         "40.220001220703125"
        ],
        [
         "43",
         "5616707",
         "65",
         "34204",
         "40.220001220703125"
        ],
        [
         "44",
         "3892754",
         "65",
         "34206",
         "52.88999938964844"
        ],
        [
         "45",
         "6302101",
         "65",
         "34211",
         "52.88999938964844"
        ],
        [
         "46",
         "4258930",
         "65",
         "34264",
         "35.869998931884766"
        ],
        [
         "47",
         "1237710",
         "65",
         "34469",
         "35.869998931884766"
        ],
        [
         "48",
         "6379875",
         "65",
         "34786",
         "52.88999938964844"
        ],
        [
         "49",
         "1765867",
         "65",
         "34794",
         "52.88999938964844"
        ]
       ],
       "shape": {
        "columns": 4,
        "rows": 6999251
       }
      },
      "text/html": [
       "<div>\n",
       "<style scoped>\n",
       "    .dataframe tbody tr th:only-of-type {\n",
       "        vertical-align: middle;\n",
       "    }\n",
       "\n",
       "    .dataframe tbody tr th {\n",
       "        vertical-align: top;\n",
       "    }\n",
       "\n",
       "    .dataframe thead th {\n",
       "        text-align: right;\n",
       "    }\n",
       "</style>\n",
       "<table border=\"1\" class=\"dataframe\">\n",
       "  <thead>\n",
       "    <tr style=\"text-align: right;\">\n",
       "      <th></th>\n",
       "      <th>id</th>\n",
       "      <th>Client_ID</th>\n",
       "      <th>Product_ID</th>\n",
       "      <th>pred</th>\n",
       "    </tr>\n",
       "  </thead>\n",
       "  <tbody>\n",
       "    <tr>\n",
       "      <th>0</th>\n",
       "      <td>1569352</td>\n",
       "      <td>26</td>\n",
       "      <td>31518</td>\n",
       "      <td>18.480000</td>\n",
       "    </tr>\n",
       "    <tr>\n",
       "      <th>1</th>\n",
       "      <td>4728674</td>\n",
       "      <td>26</td>\n",
       "      <td>31520</td>\n",
       "      <td>31.440000</td>\n",
       "    </tr>\n",
       "    <tr>\n",
       "      <th>2</th>\n",
       "      <td>1547831</td>\n",
       "      <td>26</td>\n",
       "      <td>34206</td>\n",
       "      <td>39.189999</td>\n",
       "    </tr>\n",
       "    <tr>\n",
       "      <th>3</th>\n",
       "      <td>6667200</td>\n",
       "      <td>26</td>\n",
       "      <td>34210</td>\n",
       "      <td>22.450001</td>\n",
       "    </tr>\n",
       "    <tr>\n",
       "      <th>4</th>\n",
       "      <td>1592616</td>\n",
       "      <td>26</td>\n",
       "      <td>34785</td>\n",
       "      <td>14.410000</td>\n",
       "    </tr>\n",
       "    <tr>\n",
       "      <th>...</th>\n",
       "      <td>...</td>\n",
       "      <td>...</td>\n",
       "      <td>...</td>\n",
       "      <td>...</td>\n",
       "    </tr>\n",
       "    <tr>\n",
       "      <th>6999246</th>\n",
       "      <td>6093628</td>\n",
       "      <td>2015152015</td>\n",
       "      <td>1232</td>\n",
       "      <td>2.090000</td>\n",
       "    </tr>\n",
       "    <tr>\n",
       "      <th>6999247</th>\n",
       "      <td>2542921</td>\n",
       "      <td>2015152015</td>\n",
       "      <td>1238</td>\n",
       "      <td>3.480000</td>\n",
       "    </tr>\n",
       "    <tr>\n",
       "      <th>6999248</th>\n",
       "      <td>3223836</td>\n",
       "      <td>2015152015</td>\n",
       "      <td>1250</td>\n",
       "      <td>14.910000</td>\n",
       "    </tr>\n",
       "    <tr>\n",
       "      <th>6999249</th>\n",
       "      <td>1889878</td>\n",
       "      <td>2015152015</td>\n",
       "      <td>2233</td>\n",
       "      <td>17.150000</td>\n",
       "    </tr>\n",
       "    <tr>\n",
       "      <th>6999250</th>\n",
       "      <td>1066859</td>\n",
       "      <td>2015152015</td>\n",
       "      <td>4280</td>\n",
       "      <td>4.030000</td>\n",
       "    </tr>\n",
       "  </tbody>\n",
       "</table>\n",
       "<p>6999251 rows × 4 columns</p>\n",
       "</div>"
      ],
      "text/plain": [
       "              id   Client_ID  Product_ID       pred\n",
       "0        1569352          26       31518  18.480000\n",
       "1        4728674          26       31520  31.440000\n",
       "2        1547831          26       34206  39.189999\n",
       "3        6667200          26       34210  22.450001\n",
       "4        1592616          26       34785  14.410000\n",
       "...          ...         ...         ...        ...\n",
       "6999246  6093628  2015152015        1232   2.090000\n",
       "6999247  2542921  2015152015        1238   3.480000\n",
       "6999248  3223836  2015152015        1250  14.910000\n",
       "6999249  1889878  2015152015        2233  17.150000\n",
       "6999250  1066859  2015152015        4280   4.030000\n",
       "\n",
       "[6999251 rows x 4 columns]"
      ]
     },
     "execution_count": 18,
     "metadata": {},
     "output_type": "execute_result"
    }
   ],
   "source": [
    "test"
   ]
  },
  {
   "cell_type": "code",
   "execution_count": 19,
   "id": "5356aaf0",
   "metadata": {},
   "outputs": [
    {
     "name": "stderr",
     "output_type": "stream",
     "text": [
      "<>:4: SyntaxWarning: invalid escape sequence '\\p'\n",
      "<>:4: SyntaxWarning: invalid escape sequence '\\p'\n",
      "C:\\Users\\amirh\\AppData\\Local\\Temp\\ipykernel_16188\\3223201772.py:4: SyntaxWarning: invalid escape sequence '\\p'\n",
      "  data_path = \"..\\product-inventory\"\n"
     ]
    }
   ],
   "source": [
    "output = test[['id', 'pred']]\n",
    "output = output.rename(columns={'pred': 'Demanda_uni_equil'})\n",
    "\n",
    "data_path = \"..\\product-inventory\"\n",
    "filename = os.path.join(data_path, \"prediction_3.csv\")\n",
    "output.to_csv(filename, index=False)"
   ]
  }
 ],
 "metadata": {
  "kernelspec": {
   "display_name": "erdos_spring_2025",
   "language": "python",
   "name": "python3"
  },
  "language_info": {
   "codemirror_mode": {
    "name": "ipython",
    "version": 3
   },
   "file_extension": ".py",
   "mimetype": "text/x-python",
   "name": "python",
   "nbconvert_exporter": "python",
   "pygments_lexer": "ipython3",
   "version": "3.12.8"
  }
 },
 "nbformat": 4,
 "nbformat_minor": 5
}
