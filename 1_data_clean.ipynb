{
 "cells": [
  {
   "cell_type": "markdown",
   "metadata": {},
   "source": [
    "# Data Preparation\n"
   ]
  },
  {
   "cell_type": "code",
   "execution_count": null,
   "metadata": {},
   "outputs": [],
   "source": [
    "import pandas as pd\n",
    "import numpy as np\n",
    "import dask.dataframe as dd\n",
    "import matplotlib.pyplot as plt\n",
    "import seaborn as sns\n",
    "import os\n",
    "import gc\n",
    "\n",
    "sns.set_style(\"whitegrid\")"
   ]
  },
  {
   "cell_type": "markdown",
   "metadata": {},
   "source": [
    "## Load Data"
   ]
  },
  {
   "cell_type": "code",
   "execution_count": null,
   "metadata": {},
   "outputs": [
    {
     "name": "stderr",
     "output_type": "stream",
     "text": [
      "<>:4: SyntaxWarning: invalid escape sequence '\\p'\n",
      "<>:4: SyntaxWarning: invalid escape sequence '\\p'\n",
      "C:\\Users\\amirh\\AppData\\Local\\Temp\\ipykernel_6672\\3118936594.py:4: SyntaxWarning: invalid escape sequence '\\p'\n",
      "  data_path = \"..\\product-inventory\"\n"
     ]
    },
    {
     "name": "stdout",
     "output_type": "stream",
     "text": [
      "746397\n"
     ]
    }
   ],
   "source": [
    "#data set from kaggle: https://www.kaggle.com/competitions/grupo-bimbo-inventory-demand/data\n",
    "\n",
    "# load train.csv\n",
    "data_path = \"..\\product-inventory\"\n",
    "filename = os.path.join(data_path, \"grupo-bimbo-inventory-demand/train.csv.zip\")\n",
    "\n",
    "train = pd.read_csv(filename, \n",
    "                 usecols=['Semana', 'Producto_ID', 'Cliente_ID', 'Demanda_uni_equil'])\n",
    "\n",
    "# rename columns\n",
    "train = train.rename(columns={  'Semana': 'Week_num',\n",
    "                                'Cliente_ID': 'Client_ID',\n",
    "                                'Demanda_uni_equil': 'adjusted_demand',\n",
    "                                'Producto_PID': 'Product_ID'})\n",
    "# define client-product ID\n",
    "train['PIS'] = train.groupby(['Client_PPID', 'Product_ID']).ngroup()\n",
    "unique_ids = train['ID'].unique()\n",
    "\n",
    "# Define the fraction of IDs to sample\n",
    "fraction = 0.01  # sample 1% of the IDs\n",
    "\n",
    "# Calculate the number of IDs to sample\n",
    "sample_size = int(len(unique_ids) * fraction)\n",
    "\n",
    "# Choose a random sample of IDs\n",
    "sampled_ids = np.random.choice(unique_ids, size=sample_size, replace=False)\n",
    "\n",
    "# Filter the DataFrame to keep all rows with the sampled IDs\n",
    "train = train[train['ID'].isin(sampled_ids)]\n",
    "\n",
    "print(len(train))"
   ]
  },
  {
   "cell_type": "code",
   "execution_count": null,
   "metadata": {},
   "outputs": [],
   "source": [
    "# Sort the data frame by ID and Week\n",
    "train = train.groupby(['PIS', 'Week_num'], as_index=False).agg({'adjusted_demand': 'sum'})\n",
    "train = train.sort_values(by=['ID', 'Week_num']).reset_index(drop=True)"
   ]
  },
  {
   "cell_type": "markdown",
   "metadata": {},
   "source": [
    "## Data Imputation Function\n",
    "This function imputes missing observations based on the firms' demand. In this case, I set all missing observations to zero."
   ]
  },
  {
   "cell_type": "code",
   "execution_count": 6,
   "metadata": {},
   "outputs": [],
   "source": [
    "def fillin(df):\n",
    "    '''\n",
    "    Input\n",
    "        df: A dataframe of length at most 7, with column names 'Week_num', 'Client_ID', 'Product_ID', 'adjusted_demand', 'ID',\n",
    "        where 'ID' is the unique idenifier for client id and product id combinations.  The intended input is train[train['ID' == id]],\n",
    "        where id is an element of the list train['ID'].unique().\n",
    "\n",
    "    Outputs\n",
    "        new_df: If df has 'adjusted_demand' values for each week (3 through 9), new_df = df, i.e. nothing happens.\n",
    "\n",
    "                If df has missing 'adjusted_demand' values for any week, the 'adjusted_demand' for that week will be 0.\n",
    "    '''\n",
    "\n",
    "    # EB: I'm not sure if it matters, but does it need to be a deep copy?\n",
    "    new_df = df.copy(deep=True).reset_index(drop=True)\n",
    "\n",
    "    week_list = new_df['Week_num'].unique().tolist()\n",
    "    missing_week_list = [x for x in [3,4,5,6,7,8,9] if x not in week_list]\n",
    "\n",
    "    for i in missing_week_list:\n",
    "        \n",
    "        #create new row in new_df with the floor of the average value of prev_value and next_value\n",
    "        new_df = pd.concat([new_df, pd.DataFrame({'Week_num': i,\n",
    "                                                  'Client_ID': new_df['Client_ID'].iloc[0],\n",
    "                                                  'Product_ID': new_df['Product_ID'].iloc[0],\n",
    "                                                  'adjusted_demand': 0,\n",
    "                                                  'ID': new_df['ID'].iloc[0]}, index=[i])]).sort_values(by=['Week_num']).reset_index(drop=True)\n",
    "        \n",
    "        #update week_list\n",
    "        week_list.append(i)\n",
    "        \n",
    "    return new_df"
   ]
  },
  {
   "cell_type": "markdown",
   "metadata": {},
   "source": [
    "Another way to impute the data is to expand the `train` such as it incluldes all possible ID x Week combination. We'll impute the data a later point."
   ]
  },
  {
   "cell_type": "code",
   "execution_count": 7,
   "metadata": {},
   "outputs": [
    {
     "data": {
      "application/vnd.microsoft.datawrangler.viewer.v0+json": {
       "columns": [
        {
         "name": "index",
         "rawType": "int64",
         "type": "integer"
        },
        {
         "name": "ID",
         "rawType": "int64",
         "type": "integer"
        },
        {
         "name": "Week_num",
         "rawType": "int64",
         "type": "integer"
        },
        {
         "name": "adjusted_demand",
         "rawType": "float64",
         "type": "float"
        }
       ],
       "conversionMethod": "pd.DataFrame",
       "ref": "be029f13-5578-4838-9012-8d8251972bff",
       "rows": [
        [
         "0",
         "202",
         "3",
         null
        ],
        [
         "1",
         "202",
         "4",
         null
        ],
        [
         "2",
         "202",
         "5",
         "82.0"
        ],
        [
         "3",
         "202",
         "6",
         "126.0"
        ],
        [
         "4",
         "202",
         "7",
         "42.0"
        ],
        [
         "5",
         "202",
         "8",
         null
        ],
        [
         "6",
         "202",
         "9",
         null
        ],
        [
         "7",
         "415",
         "3",
         null
        ],
        [
         "8",
         "415",
         "4",
         null
        ],
        [
         "9",
         "415",
         "5",
         null
        ],
        [
         "10",
         "415",
         "6",
         "2.0"
        ],
        [
         "11",
         "415",
         "7",
         null
        ],
        [
         "12",
         "415",
         "8",
         null
        ],
        [
         "13",
         "415",
         "9",
         null
        ],
        [
         "14",
         "420",
         "3",
         "1.0"
        ],
        [
         "15",
         "420",
         "4",
         "2.0"
        ],
        [
         "16",
         "420",
         "5",
         "2.0"
        ],
        [
         "17",
         "420",
         "6",
         null
        ],
        [
         "18",
         "420",
         "7",
         null
        ],
        [
         "19",
         "420",
         "8",
         null
        ],
        [
         "20",
         "420",
         "9",
         null
        ],
        [
         "21",
         "583",
         "3",
         "4.0"
        ],
        [
         "22",
         "583",
         "4",
         null
        ],
        [
         "23",
         "583",
         "5",
         null
        ],
        [
         "24",
         "583",
         "6",
         null
        ],
        [
         "25",
         "583",
         "7",
         null
        ],
        [
         "26",
         "583",
         "8",
         "4.0"
        ],
        [
         "27",
         "583",
         "9",
         null
        ],
        [
         "28",
         "665",
         "3",
         "3.0"
        ],
        [
         "29",
         "665",
         "4",
         null
        ],
        [
         "30",
         "665",
         "5",
         null
        ],
        [
         "31",
         "665",
         "6",
         "20.0"
        ],
        [
         "32",
         "665",
         "7",
         "21.0"
        ],
        [
         "33",
         "665",
         "8",
         "17.0"
        ],
        [
         "34",
         "665",
         "9",
         "17.0"
        ],
        [
         "35",
         "715",
         "3",
         "5.0"
        ],
        [
         "36",
         "715",
         "4",
         "4.0"
        ],
        [
         "37",
         "715",
         "5",
         null
        ],
        [
         "38",
         "715",
         "6",
         null
        ],
        [
         "39",
         "715",
         "7",
         null
        ],
        [
         "40",
         "715",
         "8",
         null
        ],
        [
         "41",
         "715",
         "9",
         null
        ],
        [
         "42",
         "846",
         "3",
         null
        ],
        [
         "43",
         "846",
         "4",
         null
        ],
        [
         "44",
         "846",
         "5",
         null
        ],
        [
         "45",
         "846",
         "6",
         null
        ],
        [
         "46",
         "846",
         "7",
         null
        ],
        [
         "47",
         "846",
         "8",
         null
        ],
        [
         "48",
         "846",
         "9",
         "2.0"
        ],
        [
         "49",
         "878",
         "3",
         null
        ]
       ],
       "shape": {
        "columns": 3,
        "rows": 1808205
       }
      },
      "text/html": [
       "<div>\n",
       "<style scoped>\n",
       "    .dataframe tbody tr th:only-of-type {\n",
       "        vertical-align: middle;\n",
       "    }\n",
       "\n",
       "    .dataframe tbody tr th {\n",
       "        vertical-align: top;\n",
       "    }\n",
       "\n",
       "    .dataframe thead th {\n",
       "        text-align: right;\n",
       "    }\n",
       "</style>\n",
       "<table border=\"1\" class=\"dataframe\">\n",
       "  <thead>\n",
       "    <tr style=\"text-align: right;\">\n",
       "      <th></th>\n",
       "      <th>ID</th>\n",
       "      <th>Week_num</th>\n",
       "      <th>adjusted_demand</th>\n",
       "    </tr>\n",
       "  </thead>\n",
       "  <tbody>\n",
       "    <tr>\n",
       "      <th>0</th>\n",
       "      <td>202</td>\n",
       "      <td>3</td>\n",
       "      <td>NaN</td>\n",
       "    </tr>\n",
       "    <tr>\n",
       "      <th>1</th>\n",
       "      <td>202</td>\n",
       "      <td>4</td>\n",
       "      <td>NaN</td>\n",
       "    </tr>\n",
       "    <tr>\n",
       "      <th>2</th>\n",
       "      <td>202</td>\n",
       "      <td>5</td>\n",
       "      <td>82.0</td>\n",
       "    </tr>\n",
       "    <tr>\n",
       "      <th>3</th>\n",
       "      <td>202</td>\n",
       "      <td>6</td>\n",
       "      <td>126.0</td>\n",
       "    </tr>\n",
       "    <tr>\n",
       "      <th>4</th>\n",
       "      <td>202</td>\n",
       "      <td>7</td>\n",
       "      <td>42.0</td>\n",
       "    </tr>\n",
       "    <tr>\n",
       "      <th>...</th>\n",
       "      <td>...</td>\n",
       "      <td>...</td>\n",
       "      <td>...</td>\n",
       "    </tr>\n",
       "    <tr>\n",
       "      <th>1808200</th>\n",
       "      <td>25831272</td>\n",
       "      <td>5</td>\n",
       "      <td>28.0</td>\n",
       "    </tr>\n",
       "    <tr>\n",
       "      <th>1808201</th>\n",
       "      <td>25831272</td>\n",
       "      <td>6</td>\n",
       "      <td>26.0</td>\n",
       "    </tr>\n",
       "    <tr>\n",
       "      <th>1808202</th>\n",
       "      <td>25831272</td>\n",
       "      <td>7</td>\n",
       "      <td>12.0</td>\n",
       "    </tr>\n",
       "    <tr>\n",
       "      <th>1808203</th>\n",
       "      <td>25831272</td>\n",
       "      <td>8</td>\n",
       "      <td>26.0</td>\n",
       "    </tr>\n",
       "    <tr>\n",
       "      <th>1808204</th>\n",
       "      <td>25831272</td>\n",
       "      <td>9</td>\n",
       "      <td>32.0</td>\n",
       "    </tr>\n",
       "  </tbody>\n",
       "</table>\n",
       "<p>1808205 rows × 3 columns</p>\n",
       "</div>"
      ],
      "text/plain": [
       "               ID  Week_num  adjusted_demand\n",
       "0             202         3              NaN\n",
       "1             202         4              NaN\n",
       "2             202         5             82.0\n",
       "3             202         6            126.0\n",
       "4             202         7             42.0\n",
       "...           ...       ...              ...\n",
       "1808200  25831272         5             28.0\n",
       "1808201  25831272         6             26.0\n",
       "1808202  25831272         7             12.0\n",
       "1808203  25831272         8             26.0\n",
       "1808204  25831272         9             32.0\n",
       "\n",
       "[1808205 rows x 3 columns]"
      ]
     },
     "execution_count": 7,
     "metadata": {},
     "output_type": "execute_result"
    }
   ],
   "source": [
    "unq_week = pd.DataFrame({'Week_num': train['Week_num'].unique()})\n",
    "unq_week = unq_week.sort_values(by='Week_num').reset_index(drop=True)\n",
    "unq_id = pd.DataFrame({'ID': train['ID'].unique()})\n",
    "unq_id = unq_id.sort_values(by='ID').reset_index(drop=True)\n",
    "combo = unq_id.merge(unq_week, how='cross')\n",
    "train = combo.merge(train, how='outer', on=['ID', 'Week_num'], sort=True)\n",
    "\n",
    "del combo, unq_week, unq_id\n",
    "train"
   ]
  },
  {
   "cell_type": "markdown",
   "metadata": {},
   "source": [
    "## Time Series Estimation"
   ]
  },
  {
   "cell_type": "markdown",
   "metadata": {},
   "source": [
    "## Define Variables\n",
    "Here I define new variables and modify the existing ones."
   ]
  },
  {
   "cell_type": "code",
   "execution_count": 8,
   "metadata": {},
   "outputs": [
    {
     "name": "stderr",
     "output_type": "stream",
     "text": [
      "c:\\Users\\amirh\\.julia\\conda\\3\\envs\\erdos_spring_2025\\Lib\\site-packages\\pandas\\core\\arraylike.py:399: RuntimeWarning: divide by zero encountered in log\n",
      "  result = getattr(ufunc, method)(*inputs, **kwargs)\n",
      "c:\\Users\\amirh\\.julia\\conda\\3\\envs\\erdos_spring_2025\\Lib\\site-packages\\pandas\\core\\arraylike.py:399: RuntimeWarning: divide by zero encountered in log\n",
      "  result = getattr(ufunc, method)(*inputs, **kwargs)\n"
     ]
    }
   ],
   "source": [
    "# Define lagged demand and lagged week\n",
    "train['adj_demand_1'] = train['adjusted_demand'].shift(1)\n",
    "train['week_1'] = train['Week_num']-1\n",
    "train['adj_demand_1'] = train['adj_demand_1'].where(train['Week_num'] != 3, np.nan)\n",
    "\n",
    "# Define log demand and log lagged demand\n",
    "train['y'] = np.log(train['adjusted_demand'])\n",
    "train['y'] = train['y'].replace([np.inf, -np.inf], np.nan)\n",
    "train['y_1'] = np.log(train['adj_demand_1'])\n",
    "train['y_1'] = train['y_1'].replace([np.inf, -np.inf], np.nan)"
   ]
  },
  {
   "cell_type": "markdown",
   "metadata": {},
   "source": [
    "## Models\n",
    "1. $demand_{t}$ on $demand_{t-1}$\n",
    "2. $log(demand_{t})$ on $log(demand_{t-1})$\n",
    "3. $demand_{t} = demand_{t-1}$\n",
    "\n",
    "In all model, I drop observations where the outcome variable or the independent variables are missing i.e. no imputation."
   ]
  },
  {
   "cell_type": "code",
   "execution_count": 9,
   "metadata": {},
   "outputs": [],
   "source": [
    "from sklearn.model_selection import TimeSeriesSplit, GroupKFold\n",
    "from sklearn.linear_model import LinearRegression\n",
    "from sklearn.metrics import root_mean_squared_error\n",
    "from sklearn.metrics import root_mean_squared_log_error as rmsle"
   ]
  },
  {
   "cell_type": "code",
   "execution_count": 10,
   "metadata": {},
   "outputs": [
    {
     "name": "stdout",
     "output_type": "stream",
     "text": [
      "[ 21.2651801  114.79882598  20.73573902]\n",
      "[0.55606515 0.51268461 0.56430154]\n"
     ]
    }
   ],
   "source": [
    "# cross-validation for linear regression\n",
    "# y = adjusted demand\n",
    "# x = lagged adjusted demand\n",
    "\n",
    "gap = 1\n",
    "min_week = train['Week_num'].min()\n",
    "max_week = train['Week_num'].max()\n",
    "\n",
    "n_folds = 4\n",
    "n_models = 3\n",
    "i = 0\n",
    "model_mse = np.zeros(shape=(n_folds, n_models))\n",
    "model_msle = np.zeros(shape=(n_folds, n_models))\n",
    "lr = LinearRegression()\n",
    "lr2 = LinearRegression()\n",
    "\n",
    "for week in range(min_week + gap + 1, max_week):\n",
    "\n",
    "    # model 1\n",
    "    train_wo_na = train.dropna(subset=['adj_demand_1', 'adjusted_demand'])\n",
    "    df_tt = train_wo_na[train_wo_na['Week_num'] < week]\n",
    "    df_ho = train_wo_na[train_wo_na['Week_num'] == week]\n",
    "\n",
    "    lr.fit(X=df_tt[['adj_demand_1']], y=df_tt['adjusted_demand'])\n",
    "    pred = lr.predict(X=df_ho[['adj_demand_1']])\n",
    "\n",
    "    model_mse[i, 0] = root_mean_squared_error(y_true = df_ho['adjusted_demand'], y_pred = pred)\n",
    "    model_msle[i, 0] = rmsle(y_true = df_ho['adjusted_demand'], y_pred = pred)\n",
    "\n",
    "    # model 2\n",
    "    train_wo_na = train.dropna(subset=['y', 'y_1'])\n",
    "\n",
    "    df_tt = train_wo_na[train_wo_na['Week_num'] < week]\n",
    "    df_ho = train_wo_na[train_wo_na['Week_num'] == week]\n",
    "    lr2.fit(X=df_tt[['y_1']], y=df_tt['y'])\n",
    "    pred = np.exp(lr2.predict(X=df_ho[['y_1']]))\n",
    "\n",
    "    model_mse[i, 1] = root_mean_squared_error(y_true = np.exp(df_ho['y']), y_pred = pred)\n",
    "    model_msle[i, 1] = rmsle(y_true = np.exp(df_ho['y']), y_pred = pred)\n",
    "\n",
    "    #model 3\n",
    "    train_wo_na = train.dropna(subset=['adj_demand_1', 'adjusted_demand'])\n",
    "    df_tt = train_wo_na[train_wo_na['Week_num'] < week]\n",
    "    df_ho = train_wo_na[train_wo_na['Week_num'] == week]\n",
    "    pred = df_ho['adj_demand_1']\n",
    "\n",
    "    model_mse[i, 2] = root_mean_squared_error(y_true = df_ho['adjusted_demand'], y_pred = pred)\n",
    "    model_msle[i, 2] = rmsle(y_true = df_ho['adjusted_demand'], y_pred = pred)\n",
    "\n",
    "    i += 1\n",
    "print(model_mse.mean(axis=0))  \n",
    "print(model_msle.mean(axis=0)) \n"
   ]
  },
  {
   "cell_type": "markdown",
   "metadata": {},
   "source": [
    "* We can expand this model to include missing clients\n",
    "* We can include longer lagged in the model\n",
    "* Auto ARIMA i.e. find out the right number of lags\n",
    "* We can use the average of the client's observations for prediction\n",
    "* Calculate autocorrelation\n",
    "* XGBoost"
   ]
  },
  {
   "cell_type": "markdown",
   "metadata": {},
   "source": [
    "## Out-of-Sample Prediction\n",
    "One of the main challenges is to predict the demand for the following cases:\n",
    "1. Existing Clients, New PID\n",
    "2. New Clients, Exisiting Products\n",
    "3. New Clients, New Prodcuts\n",
    "\n",
    "### 1. Existing Clients, New Products\n",
    "In this case, we can use the average demand of the client of other products. This model assumes a firm faces a similar demand for all its products."
   ]
  },
  {
   "cell_type": "code",
   "execution_count": 11,
   "metadata": {},
   "outputs": [
    {
     "name": "stderr",
     "output_type": "stream",
     "text": [
      "<>:2: SyntaxWarning: invalid escape sequence '\\p'\n",
      "<>:14: SyntaxWarning: invalid escape sequence '\\p'\n",
      "<>:2: SyntaxWarning: invalid escape sequence '\\p'\n",
      "<>:14: SyntaxWarning: invalid escape sequence '\\p'\n",
      "C:\\Users\\amirh\\AppData\\Local\\Temp\\ipykernel_6672\\3290989509.py:2: SyntaxWarning: invalid escape sequence '\\p'\n",
      "  data_path = \"..\\product-inventory\"\n",
      "C:\\Users\\amirh\\AppData\\Local\\Temp\\ipykernel_6672\\3290989509.py:14: SyntaxWarning: invalid escape sequence '\\p'\n",
      "  data_path = \"..\\product-inventory\"\n"
     ]
    }
   ],
   "source": [
    "# load train.csv\n",
    "data_path = \"..\\product-inventory\"\n",
    "filename = os.path.join(data_path, \"grupo-bimbo-inventory-demand/train.csv.zip\")\n",
    "\n",
    "train = pd.read_csv(filename, \n",
    "                 usecols=['Semana', 'Producto_ID', 'Cliente_ID'])\n",
    "\n",
    "# rename columns\n",
    "train = train.rename(columns={  'Semana': 'Week_num',\n",
    "                                'Cliente_ID': 'Client_ID',\n",
    "                                'Producto_ID': 'Product_ID'})\n",
    "\n",
    "# load test.csv\n",
    "data_path = \"..\\product-inventory\"\n",
    "filename = os.path.join(data_path, \"grupo-bimbo-inventory-demand/test.csv.zip\")\n",
    "\n",
    "test = pd.read_csv(filename, \n",
    "                 usecols=['Semana', 'Producto_ID', 'Cliente_ID'])\n",
    "\n",
    "# rename columns\n",
    "test = test.rename(columns={  'Semana': 'Week_num',\n",
    "                                'Cliente_ID': 'Client_ID',\n",
    "                                'Producto_ID': 'Product_ID'})\n"
   ]
  },
  {
   "cell_type": "markdown",
   "metadata": {},
   "source": [
    "I find the existing clients in the test data."
   ]
  },
  {
   "cell_type": "code",
   "execution_count": null,
   "metadata": {},
   "outputs": [
    {
     "name": "stdout",
     "output_type": "stream",
     "text": [
      "9663 735501\n",
      "745164\n"
     ]
    }
   ],
   "source": [
    "# list of exisiting and new clients\n",
    "testID = test['Client_ID'].unique().tolist()\n",
    "trainID = train['Client_ID'].unique().tolist()\n",
    "commonID = list(set(testID).intersection(set(trainID)))\n",
    "newID = list(set(testID) - set(trainID))\n",
    "\n",
    "print(len(newID),len(commonID))\n",
    "\n",
    "print(len(test['Client_ID'].unique()))"
   ]
  },
  {
   "cell_type": "code",
   "execution_count": 15,
   "metadata": {},
   "outputs": [
    {
     "name": "stdout",
     "output_type": "stream",
     "text": [
      "34 1488\n",
      "1522\n"
     ]
    }
   ],
   "source": [
    "# list of existing and new products\n",
    "testPID = test['Product_ID'].unique().tolist()\n",
    "trainPID = train['Product_ID'].unique().tolist()\n",
    "commonPID = list(set(testPID).intersection(set(trainPID)))\n",
    "newPID = list(set(testPID) - set(trainPID))\n",
    "\n",
    "print(len(newPID),len(commonPID))\n",
    "\n",
    "print(len(test['Product_ID'].unique()))"
   ]
  },
  {
   "cell_type": "code",
   "execution_count": 13,
   "metadata": {},
   "outputs": [
    {
     "name": "stderr",
     "output_type": "stream",
     "text": [
      "C:\\Users\\amirh\\AppData\\Local\\Temp\\ipykernel_6672\\2162749548.py:2: RuntimeWarning: invalid value encountered in cast\n",
      "  test_pid = test['Product_ID'].where(test['Client_ID'].isin(commonID)).unique().astype(int).tolist()\n"
     ]
    },
    {
     "name": "stdout",
     "output_type": "stream",
     "text": [
      "[35305, 1238, 32940, 43066, 1277, 972, 1232, 1240, 43203, 1278, 2233, 4270, 43274, 37361, 43200, 1150, 35456, 30552, 1125, 35525, 43285, 36920, 41938, 37058, 3631, 43069, 43201, 42434, 31507, 40930, 43064, 30314, 2665, 34794, 44371, 1146, 1250, 1220, 30532, 31512, 6469, 325, 73, 30549, 31471, 43065, 815, 43316, 43338, 46772, 1216, 1284, 46085, 31423, 35306, 30555, 43040, 1212, 43206, 1129, -2147483648, 45112, 43058, 43398, 1242, 43220, 4245, 1230, 43307, 43188, 2425, 36610, 1064, 35727, 34868, 43147, 34054, 37577, 1109, 34053, 32873, 43209, 44102, 1309, 36745, 34938, 43118, 32846, 46876, 328, 43215, 43005, 43084, 43197, 43129, 37494, 34786, 35141, 5337, 43068, 48019, 3144, 46128, 35516, 31719, 34768, 31031, 43187, 40447, 1373, 3270, 32323, 35144, 31502, 36598, 8931, 36537, 32861, 43207, 1145, 35651, 8921, 35309, 34089, 43039, 31511, 48417, 31717, 35455, 36823, 34213, 30533, 36711, 35145, 31467, 35147, 43196, 4910, 31033, 31586, 8940, 43204, 34206, 37427, 49973, 3894, 43067, 1182, 72, 41843, 33871, 35307, 43190, 31695, 37581, 32815, 35452, 43305, 1233, 36992, 31720, 34210, 32303, 35484, 48577, 37159, 43000, 32311, 36748, 48421, 43210, 32936, 3606, 43251, 42869, 43060, 31392, 43248, 32937, 43199, 43202, 36749, 35107, 37574, 5380, 35571, 37495, 1169, 43231, 1112, 1160, 31298, 303, 43006, 32938, 48077, 32393, 32934, 35453, 43186, 2025, 32819, 35303, 693, 45111, 36746, 31779, 36960, 34215, 35119, 5328, 37057, 34111, 5000, 1126, 4767, 43179, 36747, 34255, 43178, 31466, 1687, 4944, 36322, 34226, 43038, 31514, 6502, 37187, 30813, 30569, 641, 40886, 37360, 123, 31309, 43061, 47840, 45143, 46189, 31690, 35711, 35148, 32941, 4280, 3333, 32939, 48578, 35308, 31470, 5707, 43169, 35572, 36287, 5354, 34292, 34264, 37210, 43121, 44829, 32933, 31580, 30554, 5376, 37402, 30416, 43161, 34225, 32302, 34469, 34208, 36275, 42791, 43059, 46122, 37589, 47124, 37667, 49972, 47948, 46130, 32802, 1272, 37273, 1134, 36318, 37006, 32962, 141, 44859, 32959, 5310, 46109, 30572, 48996, 37175, 30531, 30215, 5621, 43175, 31506, 31590, 323, 4102, 34554, 30415, 48373, 1120, 43174, 31588, 40450, 43345, 43198, 46104, 34433, 36301, 34865, 4477, 37570, 35304, 36673, 30214, 43343, 30007, 37569, 49944, 30235, 43181, 43222, 43223, 43246, 43037, 32953, 1187, 45496, 43070, 34207, 31393, 32263, 37000, 46125, 43257, 1144, 33736, 714, 44372, 47332, 43156, 31184, 32394, 37356, 34892, 43218, 31310, 1644, 43341, 31485, 43033, 36304, 47336, 36408, 46288, 43382, 43023, 40448, 5345, 37150, 33734, 37024, 48117, 35142, 37442, 48961, 35106, 42084, 34869, 31307, 739, 32353, 30972, 30693, 4259, 30236, 48742, 43160, 30568, 48134, 32864, 46143, 45449, 43083, 46111, 8864, 9248, 43194, 30749, 37425, 40985, 30551, 34333, 40292, 30409, 36975, 31769, 46239, 30575, 36595, 37005, 43350, 31513, 33261, 35614, 35840, 1039, 31006, 37086, 34769, 37268, 2505, 49028, 31500, 37202, 183, 35310, 43185, 35527, 48419, 36321, 43342, 30187, 32322, 6437, 34785, 3718, 34050, 43052, 35244, 42792, 43183, 34787, 357, 36639, 36290, 48345, 47611, 31186, 46706, 7340, 47957, 46716, 33672, 34211, 37272, 46447, 36003, 34914, 30548, 35955, 31170, 35132, 713, 47886, 1148, 3919, 40931, 36536, 36143, 5355, 40747, 36090, 34802, 49986, 43159, 31625, 37575, 43014, 1700, 37580, 31847, 30571, 30249, 34178, 48091, 34891, 46139, 45296, 635, 34866, 36964, 46232, 632, 6476, 32408, 31520, 37403, 36262, 33370, 43075, 43136, 35783, 35526, 6500, 1180, 34055, 42086, 46100, 36309, 5052, 44088, 35728, 35635, 34212, 40680, 47612, 34850, 43227, 43356, 5350, 46149, 1686, 49739, 30574, 37242, 2122, 44285, 34939, 43192, 36671, 35118, 48136, 5200, 35841, 42783, 33191, 32436, 43128, 32838, 36092, 37059, 1147, 48118, 32860, 48137, 36298, 42087, 43335, 46237, 36723, 46231, 40217, 32204, 46293, 36410, 31277, 36278, 33196, 44495, 43074, 46440, 42128, 42083, 48805, 43344, 32395, 31688, 202, 3977, 42453, 630, 32872, 36008, 36538, 46228, 5921, 43256, 46284, 145, 36691, 42122, 45294, 34204, 49736, 31201, 37264, 46166, 42237, 43255, 36907, 31198, 217, 48861, 6645, 32640, 5434, 31767, 36191, 43089, 42616, 42089, 45308, 41921, 31780, 32685, 5710, 4053, 47887, 43027, 30195, 32841, 43388, 6505, 5918, 9711, 31278, 46183, 46110, 36739, 46116, 36910, 30805, 48125, 35072, 30570, 33382, 36430, 5460, 33192, 36338, 46263, 36602, 43134, 31584, 46206, 34915, 37265, 31763, 33872, 32749, 36988, 31311, 35852, 49765, 31187, 47068, 30553, 34056, 34389, 48119, 46304, 131, 36601, 35228, 37401, 35895, 48029, 36164, 32935, 35241, 48709, 30375, 6420, 46226, 46124, 33260, 32409, 43348, 33742, 49782, 31508, 3160, 46092, 44292, 43082, 2604, 46225, 37374, 5919, 49735, 30252, 35999, 45293, 31484, 46096, 36991, 48138, 48579, 48804, 46102, 2261, 43180, 30871, 40449, 37363, 46174, 43062, 33114, 31473, 35906, 32132, 37688, 35113, 31770, 33902, 33242, 36130, 35704, 34983, 46097, 37578, 45295, 48216, 31593, 43028, 33678, 33300, 5430, 36336, 36337, 46238, 37001, 33244, 3526, 43229, 35412, 3402, 132, 30423, 35112, 43111, 33794, 35052, 34328, 40641, 30694, 36274, 3978, 31782, 34542, 412, 46205, 1168, 49860, 6503, 33265, 46095, 43230, 35563, 7814, 35898, 37404, 30576, 32845, 34913, 46108, 36969, 45567, 36002, 46120, 4085, 33680, 43367, 48597, 30250, 1702, 5223, 6177, 42090, 4919, 40640, 49519, 36192, 34617, 6667, 43173, 48121, 43377, 31624, 31596, 35445, 34258, 31582, 43195, 46131, 30550, 1608, 34867, 35896, 33671, 37011, 34793, 35631, 48022, 37626, 37620, 7145, 30194, 46214, 32642, 37379, 37173, 7829, 48346, 37362, 48135, 48689, 33264, 42437, 30251, 31200, 6490, 42225, 46084, 36794, 48266, 35131, 31781, 33682, 46298, 35031, 31783, 36147, 1899, 31684, 34227, 36773, 36335, 37590, 43110, 30092, 31768, 36524, 34187, 32961, 32421, 205, 31498, 37689, 31771, 8865, 36588, 43018, 46083, 30384, 6085, 33769, 42227, 30099, 35108, 36093, 4234, 32799, 34616, 32281, 30971, 36830, 36690, 715, 33189, 43349, 34770, 31005, 163, 46127, 37241, 36339, 665, 48694, 46204, 36319, 47942, 9217, 40639, 33673, 46065, 35644, 46962, 8863, 35897, 135, 30008, 35569, 33266, 36930, 32862, 3609, 36333, 30916, 35753, 7144, 1643, 9082, 32952, 34200, 32863, 36324, 36323, 49994, 36899, 36627, 33267, 48274, 36940, 36587, 43279, 30773, 36539, 36328, 31394, 2230, 32639, 36024, 46099, 160, 33262, 779, 8768, 30190, 36599, 634, 43389, 32304, 43360, 5410, 31299, 30906, 36439, 31689, 37014, 49185, 36091, 37496, 47980, 49737, 7724, 37588, 35247, 31194, 5917, 30091, 30556, 30191, 34801, 32820, 32287, 36442, 36596, 31784, 45305, 48925, 43176, 32284, 49734, 106, 43189, 35842, 30814, 34851, 33246, 32963, 37007, 35785, 33889, 35977, 35114, 36722, 34904, 45527, 6700, 30383, 36618, 31575, 35972, 30946, 48076, 36912, 36744, 43236, 45447, 35976, 45321, 36023, 32290, 2309, 33190, 46107, 5712, 40929, 35828, 43158, 49997, 31089, 46098, 98, 33643, 36325, 31192, 32335, 36710, 32334, 5277, 36261, 35149, 47075, 43380, 1167, 32278, 37690, 36151, 35120, 35051, 46275, 30417, 36831, 4169, 37355, 31518, 35457, 42436, 4514, 43157, 32275, 31519, 33243, 35097, 46190, 45183, 30265, 43347, 43364, 37519, 36600, 35989, 5371, 45182, 36320, 33074, 35807, 36189, 32222, 36532, 36005, 31197, 3687, 48127, 30581, 49738, 49769, 37400, 40990, 48912, 35517, 45565, 31207, 48248, 30189, 1166, 48132, 49988, 46062, 4513, 108, 30178, 49740, 30385, 36999, 33359, 36883, 46072, 30566, 306, 48228, 36250, 31203, 31497, 36155, 33004, 36457, 42110, 36843, 31775, 43361, 36854, 36342, 6820, 1554, 40290, 4153, 36340, 47943, 30900, 46255, 31626, 45223, 43137, 43119, 35143, 37149, 48557, 36440, 48949, 33681, 46113, 43263, 35011, 33853, 49779, 4150, 36689, 36764, 151, 30177, 34373, 49443, 32142, 36692, 1153, 35754, 35454, 48893, 49754, 36726, 32817, 31231, 47944, 32295, 36614, 34348, 7761, 34452, 35565, 36629, 31032, 30387, 32668, 42215, 31766, 45306, 46216, 31319, 36501, 32886, 43306, 46074, 49990, 33030, 48033, 30218, 36998, 33679, 36166, 44576, 40430, 46148, 34933, 31177, 8825, 5715, 35146, 37576, 33033, 34077, 47958, 5386, 35425, 33737, 6507, 890, 36576, 34984, 46194, 35973, 4468, 37470, 32428, 43120, 46114, 36441, 31279, 4512, 34876, 32954, 35740, 36001, 2028, 46087, 36911, 36709, 35439, 32999, 48806, 45299, 32301, 37015, 43219, 31315, 36561, 36806, 46101, 3319, 1198, 37221, 34468, 3970, 36004, 35125, 43212, 35242, 46253, 34078, 34257, 48250, 34737, 32958, 31594, 9416, 40297, 46301, 35831, 46115, 48002, 214, 36589, 35632, 35401, 53, 32144, 33185, 49992, 34894, 1111, 41725, 32015, 31188, 45313, 36729, 37177, 33334, 32885, 2817, 46227, 35053, 46068, 35124, 48218, 36078, 5340, 36872, 36343, 34683, 36763, 35693, 100, 36791, 30381, 32558, 46299, 33188, 34084, 34854, 35413, 46224, 43249, 9717, 35293, 32223, 48001, 43184, 37426, 47910, 1164, 46313, 2734, 134, 35214, 43353, 48695, 36978, 43243, 45320, 33068, 37617, 48246, 30904, 48217, 36579, 44950, 42470, 46064, 30376, 32960, 1143, 46119, 31621, 31499, 2438, 46711, 33909, 157, 33053, 43359, 2589, 36224, 32492, 4240, 46086, 35245, 35444, 162, 35851, 36731, 43383, 35567, 43394, 43131, 35975, 36194, 34893, 30573, 48891, 37222, 35426, 43317, 33241, 32441, 31579, 30378, 31587, 34118, 46106, 43373, 42638, 41, 32641, 31585, 46136, 31583, 35564, 48227, 37153, 33683, 30374, 36591, 35924, 46112, 34958, 48303, 34670, 3428, 32557, 33740, 46076, 43261, 31618, 36000, 36289, 48934, 36941, 31013, 46241, 45528, 3826, 49920, 36327, 49492, 37702, 4109, 37405, 4624, 30562, 33779, 32141, 32283, 35729, 37610, 33048, 37220, 34299, 46215, 35864, 30746, 31581, 47066, 48374, 30380, 46223, 35295, 43346, 49552, 33743, 48021, 35570, 33429, 35625, 30582, 34901, 33773, 36329, 9753, 42538, 37232, 47950, 30111, 46250, 48000, 4774, 1348, 34083, 34646, 34644, 49996, 35130, 36875, 48985, 30370, 30010, 34337, 36058, 31655, 36622, 32143, 1949, 43097, 34645, 36118, 36727, 32221, 33741, 36530, 36659, 32816, 49928, 34935, 35248, 36398, 30110, 32798, 46197, 32288, 36503, 34355, 36089, 35240, 36844, 35739, 31599, 46088, 45448, 37618, 35558, 46254, 46172, 35104, 48126, 35249, 32894, 46187, 40606, 32280, 30379, 46195, 31190, 46230, 1156, 34068, 32336, 31211, 37745, 34495, 35801, 46246, 35830, 36277, 31669, 32942, 31670, 30421, 35127, 3303, 37139, 44833, 46290, 46090, 49810, 32997, 36577, 6566, 49993, 4946, 35095, 32591, 32274, 42323, 35191, 36400, 32491, 36562, 46169, 36006, 36963, 43254, 46240, 49442, 48927, 36801, 31189, 43381, 1647, 35246, 36453, 32804, 49781, 32026, 4139, 36240, 31622, 37016, 36533, 37185]\n",
      "[35305, 1238, 32940, 43066, 1277, 972, 1232, 1240, 43203, 1278, 2233, 4270, 43274, 37361, 43200, 1150, 35456, 30552, 1125, 35525, 43285, 36920, 41938, 37058, 3631, 43069, 43201, 42434, 31507, 40930, 43064, 30314, 2665, 34794, 44371, 1146, 1250, 1220, 30532, 31512, 6469, 325, 73, 30549, 31471, 43065, 815, 43316, 43338, 46772, 1216, 1284, 46085, 31423, 35306, 30555, 43040, 1212, 43206, 1129, 45112, 43058, 43398, 1242, 43220, 4245, 1230, 43307, 43188, 2425, 36610, 1064, 35727, 34868, 43147, 34054, 37577, 1109, 34053, 32873, 43209, 44102, 1309, 36745, 34938, 43118, 32846, 46876, 328, 43215, 43005, 43084, 43197, 43129, 37494, 34786, 35141, 5337, 43068, 48019, 3144, 46128, 35516, 31719, 34768, 31031, 43187, 40447, 1373, 3270, 32323, 35144, 31502, 36598, 8931, 36537, 32861, 43207, 1145, 35651, 8921, 35309, 34089, 43039, 31511, 48417, 31717, 35455, 36823, 34213, 30533, 36711, 35145, 31467, 35147, 43196, 4910, 31033, 31586, 8940, 43204, 34206, 37427, 49973, 3894, 43067, 1182, 72, 41843, 33871, 35307, 43190, 31695, 37581, 32815, 35452, 43305, 1233, 36992, 31720, 34210, 32303, 35484, 48577, 37159, 43000, 32311, 36748, 48421, 43210, 32936, 3606, 43251, 42869, 43060, 31392, 43248, 32937, 43199, 43202, 36749, 35107, 37574, 5380, 35571, 37495, 1169, 43231, 1112, 1160, 31298, 303, 43006, 32938, 48077, 32393, 32934, 35453, 43186, 2025, 32819, 35303, 693, 45111, 36746, 31779, 36960, 34215, 35119, 5328, 37057, 34111, 5000, 1126, 4767, 43179, 36747, 34255, 43178, 31466, 1687, 4944, 36322, 34226, 43038, 31514, 6502, 37187, 30813, 30569, 641, 40886, 37360, 123, 31309, 43061, 47840, 45143, 46189, 31690, 35711, 35148, 32941, 4280, 3333, 32939, 48578, 35308, 31470, 5707, 43169, 35572, 36287, 5354, 34292, 34264, 37210, 43121, 44829, 32933, 31580, 30554, 5376, 37402, 30416, 43161, 34225, 32302, 34469, 34208, 36275, 42791, 43059, 46122, 37589, 47124, 37667, 49972, 47948, 46130, 32802, 1272, 37273, 1134, 36318, 37006, 32962, 141, 44859, 32959, 5310, 46109, 30572, 48996, 37175, 30531, 30215, 5621, 43175, 31506, 31590, 323, 4102, 34554, 30415, 48373, 1120, 43174, 31588, 40450, 43345, 43198, 46104, 34433, 36301, 34865, 4477, 37570, 35304, 36673, 30214, 43343, 30007, 37569, 49944, 30235, 43181, 43222, 43223, 43246, 43037, 32953, 1187, 45496, 43070, 34207, 31393, 32263, 37000, 46125, 43257, 1144, 33736, 714, 44372, 47332, 43156, 31184, 32394, 37356, 34892, 43218, 31310, 1644, 43341, 31485, 43033, 36304, 47336, 36408, 46288, 43382, 43023, 40448, 5345, 37150, 33734, 37024, 48117, 35142, 37442, 48961, 35106, 42084, 34869, 31307, 739, 32353, 30972, 30693, 4259, 30236, 48742, 43160, 30568, 48134, 32864, 46143, 45449, 43083, 46111, 8864, 9248, 43194, 30749, 37425, 40985, 30551, 34333, 40292, 30409, 36975, 31769, 46239, 30575, 36595, 37005, 43350, 31513, 33261, 35614, 35840, 1039, 31006, 37086, 34769, 37268, 2505, 49028, 31500, 37202, 183, 35310, 43185, 35527, 48419, 36321, 43342, 30187, 32322, 6437, 34785, 3718, 34050, 43052, 35244, 42792, 43183, 34787, 357, 36639, 36290, 48345, 47611, 31186, 46706, 7340, 47957, 46716, 33672, 34211, 37272, 46447, 36003, 34914, 30548, 35955, 31170, 35132, 713, 47886, 1148, 3919, 40931, 36536, 36143, 5355, 40747, 36090, 34802, 49986, 43159, 31625, 37575, 43014, 1700, 37580, 31847, 30571, 30249, 34178, 48091, 34891, 46139, 45296, 635, 34866, 36964, 46232, 632, 6476, 32408, 31520, 37403, 36262, 33370, 43075, 43136, 35783, 35526, 6500, 1180, 34055, 42086, 46100, 36309, 5052, 44088, 35728, 35635, 34212, 40680, 47612, 34850, 43227, 43356, 5350, 46149, 1686, 49739, 30574, 37242, 2122, 44285, 34939, 43192, 36671, 35118, 48136, 5200, 35841, 42783, 33191, 32436, 43128, 32838, 36092, 37059, 1147, 48118, 32860, 48137, 36298, 42087, 43335, 46237, 36723, 46231, 40217, 32204, 46293, 36410, 31277, 36278, 33196, 44495, 43074, 46440, 42128, 42083, 48805, 43344, 32395, 31688, 202, 3977, 42453, 630, 32872, 36008, 36538, 46228, 5921, 43256, 46284, 145, 36691, 42122, 45294, 34204, 49736, 31201, 37264, 46166, 42237, 43255, 36907, 31198, 217, 48861, 6645, 32640, 5434, 31767, 36191, 43089, 42616, 42089, 45308, 41921, 31780, 32685, 5710, 4053, 47887, 43027, 30195, 32841, 43388, 6505, 5918, 9711, 31278, 46183, 46110, 36739, 46116, 36910, 30805, 48125, 35072, 30570, 33382, 36430, 5460, 33192, 36338, 46263, 36602, 43134, 31584, 46206, 34915, 37265, 31763, 33872, 32749, 36988, 31311, 35852, 49765, 31187, 47068, 30553, 34056, 34389, 48119, 46304, 131, 36601, 35228, 37401, 35895, 48029, 36164, 32935, 35241, 48709, 30375, 6420, 46226, 46124, 33260, 32409, 43348, 33742, 49782, 31508, 3160, 46092, 44292, 43082, 2604, 46225, 37374, 5919, 49735, 30252, 35999, 45293, 31484, 46096, 36991, 48138, 48579, 48804, 46102, 2261, 43180, 30871, 40449, 37363, 46174, 43062, 33114, 31473, 35906, 32132, 37688, 35113, 31770, 33902, 33242, 36130, 35704, 34983, 46097, 37578, 45295, 48216, 31593, 43028, 33678, 33300, 5430, 36336, 36337, 46238, 37001, 33244, 3526, 43229, 35412, 3402, 132, 30423, 35112, 43111, 33794, 35052, 34328, 40641, 30694, 36274, 3978, 31782, 34542, 412, 46205, 1168, 49860, 6503, 33265, 46095, 43230, 35563, 7814, 35898, 37404, 30576, 32845, 34913, 46108, 36969, 45567, 36002, 46120, 4085, 33680, 43367, 48597, 30250, 1702, 5223, 6177, 42090, 4919, 40640, 49519, 36192, 34617, 6667, 43173, 48121, 43377, 31624, 31596, 35445, 34258, 31582, 43195, 46131, 30550, 1608, 34867, 35896, 33671, 37011, 34793, 35631, 48022, 37626, 37620, 7145, 30194, 46214, 32642, 37379, 37173, 7829, 48346, 37362, 48135, 48689, 33264, 42437, 30251, 31200, 6490, 42225, 46084, 36794, 48266, 35131, 31781, 33682, 46298, 35031, 31783, 36147, 1899, 31684, 34227, 36773, 36335, 37590, 43110, 30092, 31768, 36524, 34187, 32961, 32421, 205, 31498, 37689, 31771, 8865, 36588, 43018, 46083, 30384, 6085, 33769, 42227, 30099, 35108, 36093, 4234, 32799, 34616, 32281, 30971, 36830, 36690, 715, 33189, 43349, 34770, 31005, 163, 46127, 37241, 36339, 665, 48694, 46204, 36319, 47942, 9217, 40639, 33673, 46065, 35644, 46962, 8863, 35897, 135, 30008, 35569, 33266, 36930, 32862, 3609, 36333, 30916, 35753, 7144, 1643, 9082, 32952, 34200, 32863, 36324, 36323, 49994, 36899, 36627, 33267, 48274, 36940, 36587, 43279, 30773, 36539, 36328, 31394, 2230, 32639, 36024, 46099, 160, 33262, 779, 8768, 30190, 36599, 634, 43389, 32304, 43360, 5410, 31299, 30906, 36439, 31689, 37014, 49185, 36091, 37496, 47980, 49737, 7724, 37588, 35247, 31194, 5917, 30091, 30556, 30191, 34801, 32820, 32287, 36442, 36596, 31784, 45305, 48925, 43176, 32284, 49734, 106, 43189, 35842, 30814, 34851, 33246, 32963, 37007, 35785, 33889, 35977, 35114, 36722, 34904, 45527, 6700, 30383, 36618, 31575, 35972, 30946, 48076, 36912, 36744, 43236, 45447, 35976, 45321, 36023, 32290, 2309, 33190, 46107, 5712, 40929, 35828, 43158, 49997, 31089, 46098, 98, 33643, 36325, 31192, 32335, 36710, 32334, 5277, 36261, 35149, 47075, 43380, 1167, 32278, 37690, 36151, 35120, 35051, 46275, 30417, 36831, 4169, 37355, 31518, 35457, 42436, 4514, 43157, 32275, 31519, 33243, 35097, 46190, 45183, 30265, 43347, 43364, 37519, 36600, 35989, 5371, 45182, 36320, 33074, 35807, 36189, 32222, 36532, 36005, 31197, 3687, 48127, 30581, 49738, 49769, 37400, 40990, 48912, 35517, 45565, 31207, 48248, 30189, 1166, 48132, 49988, 46062, 4513, 108, 30178, 49740, 30385, 36999, 33359, 36883, 46072, 30566, 306, 48228, 36250, 31203, 31497, 36155, 33004, 36457, 42110, 36843, 31775, 43361, 36854, 36342, 6820, 1554, 40290, 4153, 36340, 47943, 30900, 46255, 31626, 45223, 43137, 43119, 35143, 37149, 48557, 36440, 48949, 33681, 46113, 43263, 35011, 33853, 49779, 4150, 36689, 36764, 151, 30177, 34373, 49443, 32142, 36692, 1153, 35754, 35454, 48893, 49754, 36726, 32817, 31231, 47944, 32295, 36614, 34348, 7761, 34452, 35565, 36629, 31032, 30387, 32668, 42215, 31766, 45306, 46216, 31319, 36501, 32886, 43306, 46074, 49990, 33030, 48033, 30218, 36998, 33679, 36166, 44576, 40430, 46148, 34933, 31177, 8825, 5715, 35146, 37576, 33033, 34077, 47958, 5386, 35425, 33737, 6507, 890, 36576, 34984, 46194, 35973, 4468, 37470, 32428, 43120, 46114, 36441, 31279, 4512, 34876, 32954, 35740, 36001, 2028, 46087, 36911, 36709, 35439, 32999, 48806, 45299, 32301, 37015, 43219, 31315, 36561, 36806, 46101, 3319, 1198, 37221, 34468, 3970, 36004, 35125, 43212, 35242, 46253, 34078, 34257, 48250, 34737, 32958, 31594, 9416, 40297, 46301, 35831, 46115, 48002, 214, 36589, 35632, 35401, 53, 32144, 33185, 49992, 34894, 1111, 41725, 32015, 31188, 45313, 36729, 37177, 33334, 32885, 2817, 46227, 35053, 46068, 35124, 48218, 36078, 5340, 36872, 36343, 34683, 36763, 35693, 100, 36791, 30381, 32558, 46299, 33188, 34084, 34854, 35413, 46224, 43249, 9717, 35293, 32223, 48001, 43184, 37426, 47910, 1164, 46313, 2734, 134, 35214, 43353, 48695, 36978, 43243, 45320, 33068, 37617, 48246, 30904, 48217, 36579, 44950, 42470, 46064, 30376, 32960, 1143, 46119, 31621, 31499, 2438, 46711, 33909, 157, 33053, 43359, 2589, 36224, 32492, 4240, 46086, 35245, 35444, 162, 35851, 36731, 43383, 35567, 43394, 43131, 35975, 36194, 34893, 30573, 48891, 37222, 35426, 43317, 33241, 32441, 31579, 30378, 31587, 34118, 46106, 43373, 42638, 41, 32641, 31585, 46136, 31583, 35564, 48227, 37153, 33683, 30374, 36591, 35924, 46112, 34958, 48303, 34670, 3428, 32557, 33740, 46076, 43261, 31618, 36000, 36289, 48934, 36941, 31013, 46241, 45528, 3826, 49920, 36327, 49492, 37702, 4109, 37405, 4624, 30562, 33779, 32141, 32283, 35729, 37610, 33048, 37220, 34299, 46215, 35864, 30746, 31581, 47066, 48374, 30380, 46223, 35295, 43346, 49552, 33743, 48021, 35570, 33429, 35625, 30582, 34901, 33773, 36329, 9753, 42538, 37232, 47950, 30111, 46250, 48000, 4774, 1348, 34083, 34646, 34644, 49996, 35130, 36875, 48985, 30370, 30010, 34337, 36058, 31655, 36622, 32143, 1949, 43097, 34645, 36118, 36727, 32221, 33741, 36530, 36659, 32816, 49928, 34935, 35248, 36398, 30110, 32798, 46197, 32288, 36503, 34355, 36089, 35240, 36844, 35739, 31599, 46088, 45448, 37618, 35558, 46254, 46172, 35104, 48126, 35249, 32894, 46187, 40606, 32280, 30379, 46195, 31190, 46230, 1156, 34068, 32336, 31211, 37745, 34495, 35801, 46246, 35830, 36277, 31669, 32942, 31670, 30421, 35127, 3303, 37139, 44833, 46290, 46090, 49810, 32997, 36577, 6566, 49993, 4946, 35095, 32591, 32274, 42323, 35191, 36400, 32491, 36562, 46169, 36006, 36963, 43254, 46240, 49442, 48927, 36801, 31189, 43381, 1647, 35246, 36453, 32804, 49781, 32026, 4139, 36240, 31622, 37016, 36533, 37185]\n"
     ]
    }
   ],
   "source": [
    "# print(len(test['Product_ID'].unique().tolist()))\n",
    "test_pid = test['Product_ID'].where(test['Client_ID'].isin(commonID)).unique().astype(int).tolist()\n",
    "print(test_pid)\n",
    "print(test.loc[test['Client_ID'].isin(commonID),'Product_ID'].unique().tolist())\n",
    "# train_pid = train['Product_ID'].unique().tolist()\n",
    "# common_pid = list(set(test_pid).intersection(set(train_pid)))\n",
    "# new_pid = list(set(test_pid) - set(train_pid))\n",
    "\n",
    "# print(len(new_pid),len(common_pid))"
   ]
  },
  {
   "cell_type": "code",
   "execution_count": 19,
   "metadata": {},
   "outputs": [
    {
     "data": {
      "application/vnd.microsoft.datawrangler.viewer.v0+json": {
       "columns": [
        {
         "name": "index",
         "rawType": "int64",
         "type": "integer"
        },
        {
         "name": "Week_num",
         "rawType": "int64",
         "type": "integer"
        },
        {
         "name": "Client_ID",
         "rawType": "int64",
         "type": "integer"
        },
        {
         "name": "Product_ID",
         "rawType": "int64",
         "type": "integer"
        }
       ],
       "conversionMethod": "pd.DataFrame",
       "ref": "db483b75-7f2d-4997-a1d4-5dfb684e72f8",
       "rows": [
        [
         "0",
         "3",
         "15766",
         "1212"
        ],
        [
         "1",
         "3",
         "15766",
         "1216"
        ],
        [
         "2",
         "3",
         "15766",
         "1238"
        ],
        [
         "3",
         "3",
         "15766",
         "1240"
        ],
        [
         "4",
         "3",
         "15766",
         "1242"
        ],
        [
         "5",
         "3",
         "15766",
         "1250"
        ],
        [
         "6",
         "3",
         "15766",
         "1309"
        ],
        [
         "7",
         "3",
         "15766",
         "3894"
        ],
        [
         "8",
         "3",
         "15766",
         "4085"
        ],
        [
         "9",
         "3",
         "15766",
         "5310"
        ],
        [
         "10",
         "3",
         "15766",
         "30531"
        ],
        [
         "11",
         "3",
         "15766",
         "30548"
        ],
        [
         "12",
         "3",
         "15766",
         "30571"
        ],
        [
         "13",
         "3",
         "15766",
         "31309"
        ],
        [
         "14",
         "3",
         "15766",
         "31506"
        ],
        [
         "15",
         "3",
         "15766",
         "32393"
        ],
        [
         "16",
         "3",
         "15766",
         "32933"
        ],
        [
         "17",
         "3",
         "15766",
         "32936"
        ],
        [
         "18",
         "3",
         "15766",
         "34053"
        ],
        [
         "19",
         "3",
         "15766",
         "35651"
        ],
        [
         "20",
         "3",
         "15766",
         "37057"
        ],
        [
         "21",
         "3",
         "15766",
         "41938"
        ],
        [
         "22",
         "3",
         "15766",
         "42434"
        ],
        [
         "23",
         "3",
         "22926",
         "1125"
        ],
        [
         "24",
         "3",
         "22926",
         "42122"
        ],
        [
         "25",
         "3",
         "24080",
         "2233"
        ],
        [
         "26",
         "3",
         "24080",
         "42122"
        ],
        [
         "29",
         "3",
         "50379",
         "1146"
        ],
        [
         "30",
         "3",
         "50379",
         "2233"
        ],
        [
         "31",
         "3",
         "50379",
         "36410"
        ],
        [
         "32",
         "3",
         "50379",
         "47612"
        ],
        [
         "33",
         "3",
         "50395",
         "641"
        ],
        [
         "34",
         "3",
         "50395",
         "47611"
        ],
        [
         "35",
         "3",
         "73589",
         "1220"
        ],
        [
         "36",
         "3",
         "73589",
         "1240"
        ],
        [
         "37",
         "3",
         "73589",
         "1242"
        ],
        [
         "38",
         "3",
         "73589",
         "1250"
        ],
        [
         "39",
         "3",
         "73589",
         "1309"
        ],
        [
         "40",
         "3",
         "73589",
         "4085"
        ],
        [
         "41",
         "3",
         "73589",
         "5310"
        ],
        [
         "42",
         "3",
         "73589",
         "30531"
        ],
        [
         "43",
         "3",
         "73589",
         "30574"
        ],
        [
         "44",
         "3",
         "73589",
         "31309"
        ],
        [
         "45",
         "3",
         "73589",
         "31506"
        ],
        [
         "46",
         "3",
         "73589",
         "32936"
        ],
        [
         "47",
         "3",
         "73589",
         "37057"
        ],
        [
         "48",
         "3",
         "73650",
         "1240"
        ],
        [
         "49",
         "3",
         "73650",
         "1250"
        ],
        [
         "50",
         "3",
         "73650",
         "42434"
        ],
        [
         "51",
         "3",
         "73838",
         "1212"
        ]
       ],
       "shape": {
        "columns": 3,
        "rows": 71761466
       }
      },
      "text/html": [
       "<div>\n",
       "<style scoped>\n",
       "    .dataframe tbody tr th:only-of-type {\n",
       "        vertical-align: middle;\n",
       "    }\n",
       "\n",
       "    .dataframe tbody tr th {\n",
       "        vertical-align: top;\n",
       "    }\n",
       "\n",
       "    .dataframe thead th {\n",
       "        text-align: right;\n",
       "    }\n",
       "</style>\n",
       "<table border=\"1\" class=\"dataframe\">\n",
       "  <thead>\n",
       "    <tr style=\"text-align: right;\">\n",
       "      <th></th>\n",
       "      <th>Week_num</th>\n",
       "      <th>Client_ID</th>\n",
       "      <th>Product_ID</th>\n",
       "    </tr>\n",
       "  </thead>\n",
       "  <tbody>\n",
       "    <tr>\n",
       "      <th>0</th>\n",
       "      <td>3</td>\n",
       "      <td>15766</td>\n",
       "      <td>1212</td>\n",
       "    </tr>\n",
       "    <tr>\n",
       "      <th>1</th>\n",
       "      <td>3</td>\n",
       "      <td>15766</td>\n",
       "      <td>1216</td>\n",
       "    </tr>\n",
       "    <tr>\n",
       "      <th>2</th>\n",
       "      <td>3</td>\n",
       "      <td>15766</td>\n",
       "      <td>1238</td>\n",
       "    </tr>\n",
       "    <tr>\n",
       "      <th>3</th>\n",
       "      <td>3</td>\n",
       "      <td>15766</td>\n",
       "      <td>1240</td>\n",
       "    </tr>\n",
       "    <tr>\n",
       "      <th>4</th>\n",
       "      <td>3</td>\n",
       "      <td>15766</td>\n",
       "      <td>1242</td>\n",
       "    </tr>\n",
       "    <tr>\n",
       "      <th>...</th>\n",
       "      <td>...</td>\n",
       "      <td>...</td>\n",
       "      <td>...</td>\n",
       "    </tr>\n",
       "    <tr>\n",
       "      <th>74180459</th>\n",
       "      <td>9</td>\n",
       "      <td>4528866</td>\n",
       "      <td>32873</td>\n",
       "    </tr>\n",
       "    <tr>\n",
       "      <th>74180460</th>\n",
       "      <td>9</td>\n",
       "      <td>4528866</td>\n",
       "      <td>34226</td>\n",
       "    </tr>\n",
       "    <tr>\n",
       "      <th>74180461</th>\n",
       "      <td>9</td>\n",
       "      <td>4528866</td>\n",
       "      <td>45112</td>\n",
       "    </tr>\n",
       "    <tr>\n",
       "      <th>74180462</th>\n",
       "      <td>9</td>\n",
       "      <td>4547943</td>\n",
       "      <td>40217</td>\n",
       "    </tr>\n",
       "    <tr>\n",
       "      <th>74180463</th>\n",
       "      <td>9</td>\n",
       "      <td>4708097</td>\n",
       "      <td>43159</td>\n",
       "    </tr>\n",
       "  </tbody>\n",
       "</table>\n",
       "<p>71761466 rows × 3 columns</p>\n",
       "</div>"
      ],
      "text/plain": [
       "          Week_num  Client_ID  Product_ID\n",
       "0                3      15766        1212\n",
       "1                3      15766        1216\n",
       "2                3      15766        1238\n",
       "3                3      15766        1240\n",
       "4                3      15766        1242\n",
       "...            ...        ...         ...\n",
       "74180459         9    4528866       32873\n",
       "74180460         9    4528866       34226\n",
       "74180461         9    4528866       45112\n",
       "74180462         9    4547943       40217\n",
       "74180463         9    4708097       43159\n",
       "\n",
       "[71761466 rows x 3 columns]"
      ]
     },
     "execution_count": 19,
     "metadata": {},
     "output_type": "execute_result"
    }
   ],
   "source": [
    "#use client's average demand as prediction\n",
    "train.loc[(train['Client_ID'].isin(commonID)) & (train['Product_ID'].isin(commonPID))]"
   ]
  }
 ],
 "metadata": {
  "kernelspec": {
   "display_name": "erdos_spring_2025",
   "language": "python",
   "name": "python3"
  },
  "language_info": {
   "codemirror_mode": {
    "name": "ipython",
    "version": 3
   },
   "file_extension": ".py",
   "mimetype": "text/x-python",
   "name": "python",
   "nbconvert_exporter": "python",
   "pygments_lexer": "ipython3",
   "version": "3.12.8"
  }
 },
 "nbformat": 4,
 "nbformat_minor": 2
}
