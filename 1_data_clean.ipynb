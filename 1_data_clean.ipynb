{
 "cells": [
  {
   "cell_type": "markdown",
   "metadata": {},
   "source": [
    "# Data Preparation\n"
   ]
  },
  {
   "cell_type": "code",
   "execution_count": 1,
   "metadata": {},
   "outputs": [],
   "source": [
    "import pandas as pd\n",
    "import numpy as np\n",
    "import dask.dataframe as dd\n",
    "import matplotlib.pyplot as plt\n",
    "import seaborn as sns\n",
    "import os\n",
    "import gc\n",
    "\n",
    "sns.set_style(\"whitegrid\")"
   ]
  },
  {
   "cell_type": "markdown",
   "metadata": {},
   "source": [
    "## Load Data"
   ]
  },
  {
   "cell_type": "code",
   "execution_count": 2,
   "metadata": {},
   "outputs": [],
   "source": [
    "# #data set from kaggle: https://www.kaggle.com/competitions/grupo-bimbo-inventory-demand/data\n",
    "\n",
    "# # load train.csv\n",
    "# data_path = \"..\\product-inventory\"\n",
    "# filename = os.path.join(data_path, \"grupo-bimbo-inventory-demand/train.csv.zip\")\n",
    "\n",
    "# train = pd.read_csv(filename, \n",
    "#                  usecols=['Semana', 'Producto_ID', 'Cliente_ID', 'Demanda_uni_equil'])\n",
    "\n",
    "# # rename columns\n",
    "# train = train.rename(columns={  'Semana': 'Week_num',\n",
    "#                                 'Cliente_ID': 'Client_ID',\n",
    "#                                 'Demanda_uni_equil': 'adjusted_demand',\n",
    "#                                 'Producto_ID': 'Product_ID'})\n",
    "# # define client-product ID\n",
    "# train['ID'] = train.groupby(['Client_ID', 'Product_ID']).ngroup()\n",
    "# unique_ids = train['ID'].unique()\n",
    "\n",
    "# # Define the fraction of IDs to sample\n",
    "# fraction = 1  # sample 10% of the IDs\n",
    "\n",
    "# # Calculate the number of IDs to sample\n",
    "# sample_size = int(len(unique_ids) * fraction)\n",
    "\n",
    "# rng = np.random.default_rng(4325252122)\n",
    "\n",
    "# # Choose a random sample of IDs\n",
    "# sampled_ids = np.random.choice(unique_ids, size=sample_size, replace=False)\n",
    "\n",
    "# # Filter the DataFrame to keep all rows with the sampled IDs\n",
    "# train = train[train['ID'].isin(sampled_ids)]\n",
    "\n",
    "# print(len(train))"
   ]
  },
  {
   "cell_type": "code",
   "execution_count": 3,
   "metadata": {},
   "outputs": [
    {
     "name": "stderr",
     "output_type": "stream",
     "text": [
      "<>:4: SyntaxWarning: invalid escape sequence '\\p'\n",
      "<>:4: SyntaxWarning: invalid escape sequence '\\p'\n",
      "C:\\Users\\amirh\\AppData\\Local\\Temp\\ipykernel_12528\\2721839105.py:4: SyntaxWarning: invalid escape sequence '\\p'\n",
      "  data_path = \"..\\product-inventory\"\n"
     ]
    },
    {
     "name": "stdout",
     "output_type": "stream",
     "text": [
      "74180464\n"
     ]
    }
   ],
   "source": [
    "#data set from kaggle: https://www.kaggle.com/competitions/grupo-bimbo-inventory-demand/data\n",
    "\n",
    "# load train.csv\n",
    "data_path = \"..\\product-inventory\"\n",
    "filename = os.path.join(data_path, \"grupo-bimbo-inventory-demand/train.csv.zip\")\n",
    "\n",
    "train = pd.read_csv(filename, \n",
    "                 usecols=['Semana', 'Producto_ID', 'Cliente_ID', 'Demanda_uni_equil'])\n",
    "\n",
    "# rename columns\n",
    "train = train.rename(columns={  'Semana': 'Week_num',\n",
    "                                'Cliente_ID': 'Client_ID',\n",
    "                                'Demanda_uni_equil': 'adjusted_demand',\n",
    "                                'Producto_ID': 'Product_ID'})\n",
    "print(len(train))"
   ]
  },
  {
   "cell_type": "code",
   "execution_count": 4,
   "metadata": {},
   "outputs": [],
   "source": [
    "# Sort the data frame by ID and Week\n",
    "train = train.groupby(['Client_ID', 'Product_ID', 'Week_num'], as_index=False).agg({'adjusted_demand': 'sum'})\n",
    "# train = train.sort_values(by=['Client_ID', 'Product_ID', 'Week_num']).reset_index(drop=True)"
   ]
  },
  {
   "cell_type": "code",
   "execution_count": 34,
   "metadata": {},
   "outputs": [
    {
     "name": "stderr",
     "output_type": "stream",
     "text": [
      "<>:2: SyntaxWarning: invalid escape sequence '\\p'\n",
      "<>:2: SyntaxWarning: invalid escape sequence '\\p'\n",
      "C:\\Users\\amirh\\AppData\\Local\\Temp\\ipykernel_12528\\3137163994.py:2: SyntaxWarning: invalid escape sequence '\\p'\n",
      "  data_path = \"..\\product-inventory\"\n"
     ]
    }
   ],
   "source": [
    "# load test.csv\n",
    "data_path = \"..\\product-inventory\"\n",
    "filename = os.path.join(data_path, \"grupo-bimbo-inventory-demand/test.csv.zip\")\n",
    "\n",
    "test = pd.read_csv(filename, \n",
    "                 usecols=['id', 'Semana', 'Producto_ID', 'Cliente_ID'])\n",
    "# \n",
    "# rename columns\n",
    "test = test.rename(columns={'Semana': 'Week_num',\n",
    "                            'Cliente_ID': 'Client_ID',\n",
    "                            'Producto_ID': 'Product_ID'})"
   ]
  },
  {
   "cell_type": "markdown",
   "metadata": {},
   "source": [
    "## Data Imputation Function\n",
    "This function imputes missing observations based on the firms' demand. In this case, I set all missing observations to zero."
   ]
  },
  {
   "cell_type": "code",
   "execution_count": 6,
   "metadata": {},
   "outputs": [],
   "source": [
    "def fillin(df):\n",
    "    '''\n",
    "    Input\n",
    "        df: A dataframe of length at most 7, with column names 'Week_num', 'Client_ID', 'Product_ID', 'adjusted_demand', 'ID',\n",
    "        where 'ID' is the unique idenifier for client id and product id combinations.  The intended input is train[train['ID' == id]],\n",
    "        where id is an element of the list train['ID'].unique().\n",
    "\n",
    "    Outputs\n",
    "        new_df: If df has 'adjusted_demand' values for each week (3 through 9), new_df = df, i.e. nothing happens.\n",
    "\n",
    "                If df has missing 'adjusted_demand' values for any week, the 'adjusted_demand' for that week will be 0.\n",
    "    '''\n",
    "\n",
    "    # EB: I'm not sure if it matters, but does it need to be a deep copy?\n",
    "    new_df = df.copy(deep=True).reset_index(drop=True)\n",
    "\n",
    "    week_list = new_df['Week_num'].unique().tolist()\n",
    "    missing_week_list = [x for x in [3,4,5,6,7,8,9] if x not in week_list]\n",
    "\n",
    "    for i in missing_week_list:\n",
    "        \n",
    "        #create new row in new_df with the floor of the average value of prev_value and next_value\n",
    "        new_df = pd.concat([new_df, pd.DataFrame({'Week_num': i,\n",
    "                                                  'Client_ID': new_df['Client_ID'].iloc[0],\n",
    "                                                  'Product_ID': new_df['Product_ID'].iloc[0],\n",
    "                                                  'adjusted_demand': 0,\n",
    "                                                  'ID': new_df['ID'].iloc[0]}, index=[i])]).sort_values(by=['Week_num']).reset_index(drop=True)\n",
    "        \n",
    "        #update week_list\n",
    "        week_list.append(i)\n",
    "        \n",
    "    return new_df"
   ]
  },
  {
   "cell_type": "markdown",
   "metadata": {},
   "source": [
    "Another way to impute the data is to expand the `train` such as it incluldes all possible ID x Week combination. We'll impute the data a later point."
   ]
  },
  {
   "cell_type": "code",
   "execution_count": 7,
   "metadata": {},
   "outputs": [],
   "source": [
    "# unq_week = pd.DataFrame({'Week_num': train['Week_num'].unique()})\n",
    "# unq_week = unq_week.sort_values(by='Week_num').reset_index(drop=True)\n",
    "# unq_id = pd.DataFrame({'ID': train['ID'].unique()})\n",
    "# unq_id = unq_id.sort_values(by='ID').reset_index(drop=True)\n",
    "# combo = unq_id.merge(unq_week, how='cross')\n",
    "# train = combo.merge(train, how='outer', on=['ID', 'Week_num'], sort=True)\n",
    "\n",
    "# del combo, unq_week, unq_id\n",
    "# train"
   ]
  },
  {
   "cell_type": "markdown",
   "metadata": {},
   "source": [
    "## Time Series Estimation\n",
    "\n",
    "### Define Variables\n",
    "I define new variables and modify the existing ones."
   ]
  },
  {
   "cell_type": "code",
   "execution_count": 8,
   "metadata": {},
   "outputs": [
    {
     "name": "stderr",
     "output_type": "stream",
     "text": [
      "c:\\Users\\amirh\\.julia\\conda\\3\\envs\\erdos_spring_2025\\Lib\\site-packages\\pandas\\core\\arraylike.py:399: RuntimeWarning: divide by zero encountered in log\n",
      "  result = getattr(ufunc, method)(*inputs, **kwargs)\n",
      "c:\\Users\\amirh\\.julia\\conda\\3\\envs\\erdos_spring_2025\\Lib\\site-packages\\pandas\\core\\arraylike.py:399: RuntimeWarning: divide by zero encountered in log\n",
      "  result = getattr(ufunc, method)(*inputs, **kwargs)\n"
     ]
    }
   ],
   "source": [
    "# Define lagged demand in the training data\n",
    "train['adj_demand_1'] = train['adjusted_demand'].shift(1)\n",
    "train['adj_demand_1'] = train['adj_demand_1'].where(train['Week_num'] != 3, np.nan)\n",
    "\n",
    "# Define log demand and log lagged demand\n",
    "train['y'] = np.log(train['adjusted_demand'])\n",
    "train['y'] = train['y'].replace([np.inf, -np.inf], np.nan)\n",
    "train['y_1'] = np.log(train['adj_demand_1'])\n",
    "train['y_1'] = train['y_1'].replace([np.inf, -np.inf], np.nan)"
   ]
  },
  {
   "cell_type": "markdown",
   "metadata": {},
   "source": [
    "## Models\n",
    "1. $demand_{t}$ on $demand_{t-1}$\n",
    "2. $log(demand_{t})$ on $log(demand_{t-1})$\n",
    "3. $demand_{t} = demand_{t-1}$\n",
    "\n",
    "In all model, I drop observations where the outcome variable or the independent variables are missing i.e. no imputation."
   ]
  },
  {
   "cell_type": "code",
   "execution_count": 9,
   "metadata": {},
   "outputs": [],
   "source": [
    "from sklearn.model_selection import TimeSeriesSplit, GroupKFold\n",
    "from sklearn.linear_model import LinearRegression\n",
    "from sklearn.metrics import root_mean_squared_error\n",
    "from sklearn.metrics import root_mean_squared_log_error as rmsle"
   ]
  },
  {
   "cell_type": "code",
   "execution_count": 10,
   "metadata": {},
   "outputs": [],
   "source": [
    "# cross-validation for linear regression\n",
    "# y = adjusted demand\n",
    "# x = lagged adjusted demand\n",
    "\n",
    "def cross_val():\n",
    "    gap = 1\n",
    "    min_week = train['Week_num'].min()\n",
    "    max_week = train['Week_num'].max()\n",
    "\n",
    "    n_folds = 4\n",
    "    n_models = 3\n",
    "    i = 0\n",
    "    # model_mse = np.zeros(shape=(n_folds, n_models))\n",
    "    model_msle = np.zeros(shape=(n_folds, n_models))\n",
    "    lr = LinearRegression()\n",
    "    lr2 = LinearRegression()\n",
    "\n",
    "    for week in range(min_week + gap + 1, max_week):\n",
    "\n",
    "        # model 1\n",
    "        train_wo_na = train.dropna(subset=['adj_demand_1', 'adjusted_demand'])\n",
    "        df_tt = train_wo_na[train_wo_na['Week_num'] < week]\n",
    "        df_ho = train_wo_na[train_wo_na['Week_num'] == week]\n",
    "\n",
    "        lr.fit(X=df_tt[['adj_demand_1']], y=df_tt['adjusted_demand'])\n",
    "        pred = lr.predict(X=df_ho[['adj_demand_1']])\n",
    "\n",
    "        # model_mse[i, 0] = root_mean_squared_error(y_true = df_ho['adjusted_demand'], y_pred = pred)\n",
    "        model_msle[i, 0] = rmsle(y_true = df_ho['adjusted_demand'], y_pred = pred)\n",
    "\n",
    "        # model 2\n",
    "        train_wo_na = train.dropna(subset=['y', 'y_1'])\n",
    "\n",
    "        df_tt = train_wo_na[train_wo_na['Week_num'] < week]\n",
    "        df_ho = train_wo_na[train_wo_na['Week_num'] == week]\n",
    "        lr2.fit(X=df_tt[['y_1']], y=df_tt['y'])\n",
    "        pred = np.exp(lr2.predict(X=df_ho[['y_1']]))\n",
    "\n",
    "        # model_mse[i, 1] = root_mean_squared_error(y_true = np.exp(df_ho['y']), y_pred = pred)\n",
    "        model_msle[i, 1] = rmsle(y_true = np.exp(df_ho['y']), y_pred = pred)\n",
    "\n",
    "        #model 3\n",
    "        train_wo_na = train.dropna(subset=['adj_demand_1', 'adjusted_demand'])\n",
    "        df_tt = train_wo_na[train_wo_na['Week_num'] < week]\n",
    "        df_ho = train_wo_na[train_wo_na['Week_num'] == week]\n",
    "        pred = df_ho['adj_demand_1']\n",
    "\n",
    "        # model_mse[i, 2] = root_mean_squared_error(y_true = df_ho['adjusted_demand'], y_pred = pred)\n",
    "        model_msle[i, 2] = rmsle(y_true = df_ho['adjusted_demand'], y_pred = pred)\n",
    "\n",
    "        i += 1\n",
    "    # print(model_mse.mean(axis=0))  \n",
    "    print(model_msle.mean(axis=0)) \n",
    "\n",
    "# cross_val()"
   ]
  },
  {
   "cell_type": "code",
   "execution_count": null,
   "metadata": {},
   "outputs": [
    {
     "data": {
      "application/vnd.microsoft.datawrangler.viewer.v0+json": {
       "columns": [
        {
         "name": "index",
         "rawType": "int64",
         "type": "integer"
        },
        {
         "name": "Client_ID",
         "rawType": "int64",
         "type": "integer"
        },
        {
         "name": "Product_ID",
         "rawType": "int64",
         "type": "integer"
        },
        {
         "name": "Week_num",
         "rawType": "float64",
         "type": "float"
        },
        {
         "name": "y_1",
         "rawType": "float64",
         "type": "float"
        }
       ],
       "conversionMethod": "pd.DataFrame",
       "ref": "1666002c-a49d-454b-b7d3-d65527276f91",
       "rows": [
        [
         "0",
         "146030",
         "41",
         "9.0",
         "3.6888794541139363"
        ],
        [
         "1",
         "681747",
         "41",
         "9.0",
         "7.173958319756794"
        ],
        [
         "2",
         "684023",
         "41",
         "9.0",
         "4.248495242049359"
        ],
        [
         "3",
         "1105804",
         "41",
         null,
         "4.927253685157205"
        ],
        [
         "4",
         "1451516",
         "41",
         null,
         "1.6094379124341003"
        ],
        [
         "5",
         "1546790",
         "41",
         "9.0",
         "4.0943445622221"
        ],
        [
         "6",
         "1623763",
         "41",
         "9.0",
         "7.055312843339752"
        ],
        [
         "7",
         "1938075",
         "41",
         "9.0",
         "3.6888794541139363"
        ],
        [
         "8",
         "2284385",
         "41",
         "9.0",
         "4.605170185988092"
        ],
        [
         "9",
         "2470338",
         "41",
         "9.0",
         "2.995732273553991"
        ],
        [
         "10",
         "2482890",
         "41",
         "9.0",
         "5.68697535633982"
        ],
        [
         "11",
         "4586525",
         "41",
         null,
         "2.169053700369523"
        ],
        [
         "12",
         "22905",
         "53",
         null,
         "6.856988161928484"
        ],
        [
         "13",
         "26372",
         "53",
         "9.0",
         "4.927253685157205"
        ],
        [
         "14",
         "36161",
         "53",
         "9.0",
         "7.1204443723924875"
        ],
        [
         "15",
         "47866",
         "53",
         null,
         "0.6931471805599453"
        ],
        [
         "16",
         "48054",
         "53",
         null,
         "0.6931471805599453"
        ],
        [
         "17",
         "48056",
         "53",
         null,
         "0.6931471805599453"
        ],
        [
         "18",
         "48267",
         "53",
         null,
         "1.0986122886681098"
        ],
        [
         "19",
         "48271",
         "53",
         null,
         "1.6094379124341003"
        ],
        [
         "20",
         "48617",
         "53",
         null,
         "1.0986122886681098"
        ],
        [
         "21",
         "131812",
         "53",
         "9.0",
         "0.0"
        ],
        [
         "22",
         "168524",
         "53",
         null,
         "1.0986122886681098"
        ],
        [
         "23",
         "710222",
         "53",
         null,
         "1.3862943611198906"
        ],
        [
         "24",
         "839703",
         "53",
         "9.0",
         "1.791759469228055"
        ],
        [
         "25",
         "913705",
         "53",
         "9.0",
         "0.0"
        ],
        [
         "26",
         "994266",
         "53",
         null,
         "1.0986122886681098"
        ],
        [
         "27",
         "1011336",
         "53",
         "9.0",
         "0.6931471805599453"
        ],
        [
         "28",
         "1216931",
         "53",
         "9.0",
         "6.931471805599453"
        ],
        [
         "29",
         "1247552",
         "53",
         null,
         "1.3862943611198906"
        ],
        [
         "30",
         "1248206",
         "53",
         null,
         "0.6931471805599453"
        ],
        [
         "31",
         "1570837",
         "53",
         null,
         "1.3862943611198906"
        ],
        [
         "32",
         "2135423",
         "53",
         null,
         "0.6931471805599453"
        ],
        [
         "33",
         "2135428",
         "53",
         null,
         "1.0986122886681098"
        ],
        [
         "34",
         "2155654",
         "53",
         "9.0",
         "0.6931471805599453"
        ],
        [
         "35",
         "2379889",
         "53",
         null,
         "1.0986122886681098"
        ],
        [
         "36",
         "2386615",
         "53",
         "9.0",
         "2.70805020110221"
        ],
        [
         "37",
         "2424816",
         "53",
         "9.0",
         "0.0"
        ],
        [
         "38",
         "2439230",
         "53",
         null,
         "1.0986122886681098"
        ],
        [
         "39",
         "2439233",
         "53",
         null,
         "0.6931471805599453"
        ],
        [
         "40",
         "2502084",
         "53",
         "9.0",
         "7.569411792450712"
        ],
        [
         "41",
         "3476372",
         "53",
         "9.0",
         "6.263398262591624"
        ],
        [
         "42",
         "3971241",
         "53",
         null,
         "1.3862943611198906"
        ],
        [
         "43",
         "3971243",
         "53",
         null,
         "0.0"
        ],
        [
         "44",
         "4393824",
         "53",
         null,
         "1.3862943611198906"
        ],
        [
         "45",
         "4461013",
         "53",
         "9.0",
         "0.0"
        ],
        [
         "46",
         "4567949",
         "53",
         null,
         "0.6931471805599453"
        ],
        [
         "47",
         "4578087",
         "53",
         null,
         "0.6931471805599453"
        ],
        [
         "48",
         "4578089",
         "53",
         "9.0",
         "0.0"
        ],
        [
         "49",
         "4693500",
         "53",
         "9.0",
         "1.791759469228055"
        ]
       ],
       "shape": {
        "columns": 4,
        "rows": 23325744
       }
      },
      "text/html": [
       "<div>\n",
       "<style scoped>\n",
       "    .dataframe tbody tr th:only-of-type {\n",
       "        vertical-align: middle;\n",
       "    }\n",
       "\n",
       "    .dataframe tbody tr th {\n",
       "        vertical-align: top;\n",
       "    }\n",
       "\n",
       "    .dataframe thead th {\n",
       "        text-align: right;\n",
       "    }\n",
       "</style>\n",
       "<table border=\"1\" class=\"dataframe\">\n",
       "  <thead>\n",
       "    <tr style=\"text-align: right;\">\n",
       "      <th></th>\n",
       "      <th>Client_ID</th>\n",
       "      <th>Product_ID</th>\n",
       "      <th>Week_num</th>\n",
       "      <th>y_1</th>\n",
       "    </tr>\n",
       "  </thead>\n",
       "  <tbody>\n",
       "    <tr>\n",
       "      <th>0</th>\n",
       "      <td>146030</td>\n",
       "      <td>41</td>\n",
       "      <td>9.0</td>\n",
       "      <td>3.688879</td>\n",
       "    </tr>\n",
       "    <tr>\n",
       "      <th>1</th>\n",
       "      <td>681747</td>\n",
       "      <td>41</td>\n",
       "      <td>9.0</td>\n",
       "      <td>7.173958</td>\n",
       "    </tr>\n",
       "    <tr>\n",
       "      <th>2</th>\n",
       "      <td>684023</td>\n",
       "      <td>41</td>\n",
       "      <td>9.0</td>\n",
       "      <td>4.248495</td>\n",
       "    </tr>\n",
       "    <tr>\n",
       "      <th>3</th>\n",
       "      <td>1105804</td>\n",
       "      <td>41</td>\n",
       "      <td>NaN</td>\n",
       "      <td>4.927254</td>\n",
       "    </tr>\n",
       "    <tr>\n",
       "      <th>4</th>\n",
       "      <td>1451516</td>\n",
       "      <td>41</td>\n",
       "      <td>NaN</td>\n",
       "      <td>1.609438</td>\n",
       "    </tr>\n",
       "    <tr>\n",
       "      <th>...</th>\n",
       "      <td>...</td>\n",
       "      <td>...</td>\n",
       "      <td>...</td>\n",
       "      <td>...</td>\n",
       "    </tr>\n",
       "    <tr>\n",
       "      <th>23325739</th>\n",
       "      <td>2448215</td>\n",
       "      <td>49996</td>\n",
       "      <td>NaN</td>\n",
       "      <td>0.000000</td>\n",
       "    </tr>\n",
       "    <tr>\n",
       "      <th>23325740</th>\n",
       "      <td>4231916</td>\n",
       "      <td>49996</td>\n",
       "      <td>9.0</td>\n",
       "      <td>3.091042</td>\n",
       "    </tr>\n",
       "    <tr>\n",
       "      <th>23325741</th>\n",
       "      <td>6298181</td>\n",
       "      <td>49996</td>\n",
       "      <td>9.0</td>\n",
       "      <td>2.772589</td>\n",
       "    </tr>\n",
       "    <tr>\n",
       "      <th>23325742</th>\n",
       "      <td>9710814</td>\n",
       "      <td>49996</td>\n",
       "      <td>NaN</td>\n",
       "      <td>2.564949</td>\n",
       "    </tr>\n",
       "    <tr>\n",
       "      <th>23325743</th>\n",
       "      <td>136301</td>\n",
       "      <td>49997</td>\n",
       "      <td>9.0</td>\n",
       "      <td>3.583519</td>\n",
       "    </tr>\n",
       "  </tbody>\n",
       "</table>\n",
       "<p>23325744 rows × 4 columns</p>\n",
       "</div>"
      ],
      "text/plain": [
       "          Client_ID  Product_ID  Week_num       y_1\n",
       "0            146030          41       9.0  3.688879\n",
       "1            681747          41       9.0  7.173958\n",
       "2            684023          41       9.0  4.248495\n",
       "3           1105804          41       NaN  4.927254\n",
       "4           1451516          41       NaN  1.609438\n",
       "...             ...         ...       ...       ...\n",
       "23325739    2448215       49996       NaN  0.000000\n",
       "23325740    4231916       49996       9.0  3.091042\n",
       "23325741    6298181       49996       9.0  2.772589\n",
       "23325742    9710814       49996       NaN  2.564949\n",
       "23325743     136301       49997       9.0  3.583519\n",
       "\n",
       "[23325744 rows x 4 columns]"
      ]
     },
     "execution_count": 11,
     "metadata": {},
     "output_type": "execute_result"
    }
   ],
   "source": [
    "## Model 2 is the best performing model\n",
    "## Run the final model\n",
    "train_wo_na = train.dropna(subset=['y', 'y_1'])\n",
    "\n",
    "# training data set\n",
    "df_tt = train_wo_na\n",
    "\n",
    "# test data set\n",
    "# I impute the missing client-product demand in week 9\n",
    "# by using the average client-product demand in week 3-8\n",
    "df_ho = train_wo_na.groupby(by=['Product_ID', 'Client_ID'], as_index=False).agg({'adjusted_demand': 'mean'})\n",
    "df_ho['y_1'] = np.log(df_ho['adjusted_demand'])\n",
    "df_ho['y_1'] = df_ho['y_1'].replace([np.inf, -np.inf], np.nan)\n",
    "\n",
    "df_ho = df_ho[['Client_ID', 'Product_ID', 'y_1']].merge(train_wo_na.loc[train_wo_na['Week_num'] == 9, \n",
    "                                                                        ['Client_ID', 'Product_ID', 'Week_num', 'y_1']],\n",
    "                                                        how = 'left',\n",
    "                                                        on = ['Client_ID', 'Product_ID'])\n",
    "df_ho['y_1'] = df_ho['y_1_y'].fillna(df_ho['y_1_x'])\n",
    "df_ho = df_ho.drop(columns=['y_1_y', 'y_1_x'])\n",
    "\n",
    "# fit the model\n",
    "lr2.fit(X=df_tt[['y_1']], y=df_tt['y'])\n",
    "\n",
    "# predict the demand\n",
    "df_ho['pred'] = np.exp(lr2.predict(X=df_ho[['y_1']]))\n",
    "df_ho\n",
    "# print('Root Mean Squared Log Error=', rmsle(y_true = np.exp(df_ho['y']), y_pred = df_ho['pred']))"
   ]
  },
  {
   "cell_type": "code",
   "execution_count": null,
   "metadata": {},
   "outputs": [
    {
     "data": {
      "application/vnd.microsoft.datawrangler.viewer.v0+json": {
       "columns": [
        {
         "name": "index",
         "rawType": "int64",
         "type": "integer"
        },
        {
         "name": "Client_ID",
         "rawType": "int64",
         "type": "integer"
        },
        {
         "name": "Product_ID",
         "rawType": "int64",
         "type": "integer"
        },
        {
         "name": "Week_num",
         "rawType": "float64",
         "type": "float"
        },
        {
         "name": "y_1",
         "rawType": "float64",
         "type": "float"
        },
        {
         "name": "pred",
         "rawType": "float64",
         "type": "float"
        }
       ],
       "conversionMethod": "pd.DataFrame",
       "ref": "ce279849-608b-420f-85f4-8cea3da9cc1b",
       "rows": [
        [
         "0",
         "146030",
         "41",
         "9.0",
         "3.6888794541139363",
         "18.658819345770297"
        ],
        [
         "1",
         "681747",
         "41",
         "9.0",
         "7.173958319756794",
         "202.19251250831374"
        ],
        [
         "2",
         "684023",
         "41",
         "9.0",
         "4.248495242049359",
         "27.3564625879003"
        ],
        [
         "3",
         "1105804",
         "41",
         null,
         "4.927253685157205",
         "43.51256409507613"
        ],
        [
         "4",
         "1451516",
         "41",
         null,
         "1.6094379124341003",
         "4.501962840363598"
        ],
        [
         "5",
         "1546790",
         "41",
         "9.0",
         "4.0943445622221",
         "24.61985444580253"
        ],
        [
         "6",
         "1623763",
         "41",
         "9.0",
         "7.055312843339752",
         "186.43770411497863"
        ],
        [
         "7",
         "1938075",
         "41",
         "9.0",
         "3.6888794541139363",
         "18.658819345770297"
        ],
        [
         "8",
         "2284385",
         "41",
         "9.0",
         "4.605170185988092",
         "34.91187760967507"
        ],
        [
         "9",
         "2470338",
         "41",
         "9.0",
         "2.995732273553991",
         "11.616003706076947"
        ],
        [
         "10",
         "2482890",
         "41",
         "9.0",
         "5.68697535633982",
         "73.14946189180553"
        ],
        [
         "11",
         "4586525",
         "41",
         null,
         "2.169053700369523",
         "6.600512912004924"
        ],
        [
         "12",
         "22905",
         "53",
         null,
         "6.856988161928484",
         "162.79534656958657"
        ],
        [
         "13",
         "26372",
         "53",
         "9.0",
         "4.927253685157205",
         "43.51256409507613"
        ],
        [
         "14",
         "36161",
         "53",
         "9.0",
         "7.1204443723924875",
         "194.9280354817373"
        ],
        [
         "15",
         "47866",
         "53",
         null,
         "0.6931471805599453",
         "2.406095492166718"
        ],
        [
         "16",
         "48054",
         "53",
         null,
         "0.6931471805599453",
         "2.406095492166718"
        ],
        [
         "17",
         "48056",
         "53",
         null,
         "0.6931471805599453",
         "2.406095492166718"
        ],
        [
         "18",
         "48267",
         "53",
         null,
         "1.0986122886681098",
         "3.1747839829573468"
        ],
        [
         "19",
         "48271",
         "53",
         null,
         "1.6094379124341003",
         "4.501962840363598"
        ],
        [
         "20",
         "48617",
         "53",
         null,
         "1.0986122886681098",
         "3.1747839829573468"
        ],
        [
         "21",
         "131812",
         "53",
         "9.0",
         "0.0",
         "1.497909038951028"
        ],
        [
         "22",
         "168524",
         "53",
         null,
         "1.0986122886681098",
         "3.1747839829573468"
        ],
        [
         "23",
         "710222",
         "53",
         null,
         "1.3862943611198906",
         "3.8649179401969525"
        ],
        [
         "24",
         "839703",
         "53",
         "9.0",
         "1.791759469228055",
         "5.099664419774231"
        ],
        [
         "25",
         "913705",
         "53",
         "9.0",
         "0.0",
         "1.497909038951028"
        ],
        [
         "26",
         "994266",
         "53",
         null,
         "1.0986122886681098",
         "3.1747839829573468"
        ],
        [
         "27",
         "1011336",
         "53",
         "9.0",
         "0.6931471805599453",
         "2.406095492166718"
        ],
        [
         "28",
         "1216931",
         "53",
         "9.0",
         "6.931471805599453",
         "171.30089072952595"
        ],
        [
         "29",
         "1247552",
         "53",
         null,
         "1.3862943611198906",
         "3.8649179401969525"
        ],
        [
         "30",
         "1248206",
         "53",
         null,
         "0.6931471805599453",
         "2.406095492166718"
        ],
        [
         "31",
         "1570837",
         "53",
         null,
         "1.3862943611198906",
         "3.8649179401969525"
        ],
        [
         "32",
         "2135423",
         "53",
         null,
         "0.6931471805599453",
         "2.406095492166718"
        ],
        [
         "33",
         "2135428",
         "53",
         null,
         "1.0986122886681098",
         "3.1747839829573468"
        ],
        [
         "34",
         "2155654",
         "53",
         "9.0",
         "0.6931471805599453",
         "2.406095492166718"
        ],
        [
         "35",
         "2379889",
         "53",
         null,
         "1.0986122886681098",
         "3.1747839829573468"
        ],
        [
         "36",
         "2386615",
         "53",
         "9.0",
         "2.70805020110221",
         "9.541807376677962"
        ],
        [
         "37",
         "2424816",
         "53",
         "9.0",
         "0.0",
         "1.497909038951028"
        ],
        [
         "38",
         "2439230",
         "53",
         null,
         "1.0986122886681098",
         "3.1747839829573468"
        ],
        [
         "39",
         "2439233",
         "53",
         null,
         "0.6931471805599453",
         "2.406095492166718"
        ],
        [
         "40",
         "2502084",
         "53",
         "9.0",
         "7.569411792450712",
         "264.9680277022535"
        ],
        [
         "41",
         "3476372",
         "53",
         "9.0",
         "6.263398262591624",
         "108.48700617695805"
        ],
        [
         "42",
         "3971241",
         "53",
         null,
         "1.3862943611198906",
         "3.8649179401969525"
        ],
        [
         "43",
         "3971243",
         "53",
         null,
         "0.0",
         "1.497909038951028"
        ],
        [
         "44",
         "4393824",
         "53",
         null,
         "1.3862943611198906",
         "3.8649179401969525"
        ],
        [
         "45",
         "4461013",
         "53",
         "9.0",
         "0.0",
         "1.497909038951028"
        ],
        [
         "46",
         "4567949",
         "53",
         null,
         "0.6931471805599453",
         "2.406095492166718"
        ],
        [
         "47",
         "4578087",
         "53",
         null,
         "0.6931471805599453",
         "2.406095492166718"
        ],
        [
         "48",
         "4578089",
         "53",
         "9.0",
         "0.0",
         "1.497909038951028"
        ],
        [
         "49",
         "4693500",
         "53",
         "9.0",
         "1.791759469228055",
         "5.099664419774231"
        ]
       ],
       "shape": {
        "columns": 5,
        "rows": 23325744
       }
      },
      "text/html": [
       "<div>\n",
       "<style scoped>\n",
       "    .dataframe tbody tr th:only-of-type {\n",
       "        vertical-align: middle;\n",
       "    }\n",
       "\n",
       "    .dataframe tbody tr th {\n",
       "        vertical-align: top;\n",
       "    }\n",
       "\n",
       "    .dataframe thead th {\n",
       "        text-align: right;\n",
       "    }\n",
       "</style>\n",
       "<table border=\"1\" class=\"dataframe\">\n",
       "  <thead>\n",
       "    <tr style=\"text-align: right;\">\n",
       "      <th></th>\n",
       "      <th>Client_ID</th>\n",
       "      <th>Product_ID</th>\n",
       "      <th>Week_num</th>\n",
       "      <th>y_1</th>\n",
       "      <th>pred</th>\n",
       "    </tr>\n",
       "  </thead>\n",
       "  <tbody>\n",
       "    <tr>\n",
       "      <th>0</th>\n",
       "      <td>146030</td>\n",
       "      <td>41</td>\n",
       "      <td>9.0</td>\n",
       "      <td>3.688879</td>\n",
       "      <td>18.658819</td>\n",
       "    </tr>\n",
       "    <tr>\n",
       "      <th>1</th>\n",
       "      <td>681747</td>\n",
       "      <td>41</td>\n",
       "      <td>9.0</td>\n",
       "      <td>7.173958</td>\n",
       "      <td>202.192513</td>\n",
       "    </tr>\n",
       "    <tr>\n",
       "      <th>2</th>\n",
       "      <td>684023</td>\n",
       "      <td>41</td>\n",
       "      <td>9.0</td>\n",
       "      <td>4.248495</td>\n",
       "      <td>27.356463</td>\n",
       "    </tr>\n",
       "    <tr>\n",
       "      <th>3</th>\n",
       "      <td>1105804</td>\n",
       "      <td>41</td>\n",
       "      <td>NaN</td>\n",
       "      <td>4.927254</td>\n",
       "      <td>43.512564</td>\n",
       "    </tr>\n",
       "    <tr>\n",
       "      <th>4</th>\n",
       "      <td>1451516</td>\n",
       "      <td>41</td>\n",
       "      <td>NaN</td>\n",
       "      <td>1.609438</td>\n",
       "      <td>4.501963</td>\n",
       "    </tr>\n",
       "    <tr>\n",
       "      <th>...</th>\n",
       "      <td>...</td>\n",
       "      <td>...</td>\n",
       "      <td>...</td>\n",
       "      <td>...</td>\n",
       "      <td>...</td>\n",
       "    </tr>\n",
       "    <tr>\n",
       "      <th>23325739</th>\n",
       "      <td>2448215</td>\n",
       "      <td>49996</td>\n",
       "      <td>NaN</td>\n",
       "      <td>0.000000</td>\n",
       "      <td>1.497909</td>\n",
       "    </tr>\n",
       "    <tr>\n",
       "      <th>23325740</th>\n",
       "      <td>4231916</td>\n",
       "      <td>49996</td>\n",
       "      <td>9.0</td>\n",
       "      <td>3.091042</td>\n",
       "      <td>12.398203</td>\n",
       "    </tr>\n",
       "    <tr>\n",
       "      <th>23325741</th>\n",
       "      <td>6298181</td>\n",
       "      <td>49996</td>\n",
       "      <td>9.0</td>\n",
       "      <td>2.772589</td>\n",
       "      <td>9.972295</td>\n",
       "    </tr>\n",
       "    <tr>\n",
       "      <th>23325742</th>\n",
       "      <td>9710814</td>\n",
       "      <td>49996</td>\n",
       "      <td>NaN</td>\n",
       "      <td>2.564949</td>\n",
       "      <td>8.652416</td>\n",
       "    </tr>\n",
       "    <tr>\n",
       "      <th>23325743</th>\n",
       "      <td>136301</td>\n",
       "      <td>49997</td>\n",
       "      <td>9.0</td>\n",
       "      <td>3.583519</td>\n",
       "      <td>17.361920</td>\n",
       "    </tr>\n",
       "  </tbody>\n",
       "</table>\n",
       "<p>23325744 rows × 5 columns</p>\n",
       "</div>"
      ],
      "text/plain": [
       "          Client_ID  Product_ID  Week_num       y_1        pred\n",
       "0            146030          41       9.0  3.688879   18.658819\n",
       "1            681747          41       9.0  7.173958  202.192513\n",
       "2            684023          41       9.0  4.248495   27.356463\n",
       "3           1105804          41       NaN  4.927254   43.512564\n",
       "4           1451516          41       NaN  1.609438    4.501963\n",
       "...             ...         ...       ...       ...         ...\n",
       "23325739    2448215       49996       NaN  0.000000    1.497909\n",
       "23325740    4231916       49996       9.0  3.091042   12.398203\n",
       "23325741    6298181       49996       9.0  2.772589    9.972295\n",
       "23325742    9710814       49996       NaN  2.564949    8.652416\n",
       "23325743     136301       49997       9.0  3.583519   17.361920\n",
       "\n",
       "[23325744 rows x 5 columns]"
      ]
     },
     "execution_count": 17,
     "metadata": {},
     "output_type": "execute_result"
    }
   ],
   "source": [
    "# fit the model\n",
    "lr = LinearRegression()\n",
    "lr.fit(X=df_tt[['y_1']], y=df_tt['y'])\n",
    "\n",
    "# predict the demand\n",
    "df_ho['pred'] = np.exp(lr.predict(X=df_ho[['y_1']]))"
   ]
  },
  {
   "cell_type": "markdown",
   "metadata": {},
   "source": [
    "Let's merge the prediction value with the test data based on `Product_ID` and `Client_ID`."
   ]
  },
  {
   "cell_type": "code",
   "execution_count": 35,
   "metadata": {},
   "outputs": [],
   "source": [
    "test = test[['id','Client_ID', 'Product_ID', 'Week_num']].merge(right=df_ho[['Client_ID', 'Product_ID', 'pred']], \n",
    "                                                    how='left', \n",
    "                                                    on=['Client_ID', 'Product_ID'])\n",
    "test = test.sort_values(by=['Client_ID', 'Product_ID', 'Week_num']).reset_index(drop=True)"
   ]
  },
  {
   "cell_type": "markdown",
   "metadata": {},
   "source": [
    "**What share of test sample is not in the training sample?**\n",
    "\n",
    "22 percent"
   ]
  },
  {
   "cell_type": "code",
   "execution_count": 39,
   "metadata": {},
   "outputs": [
    {
     "data": {
      "application/vnd.microsoft.datawrangler.viewer.v0+json": {
       "columns": [
        {
         "name": "index",
         "rawType": "int64",
         "type": "integer"
        },
        {
         "name": "id",
         "rawType": "int64",
         "type": "integer"
        },
        {
         "name": "Client_ID",
         "rawType": "int64",
         "type": "integer"
        },
        {
         "name": "Product_ID",
         "rawType": "int64",
         "type": "integer"
        },
        {
         "name": "Week_num",
         "rawType": "int64",
         "type": "integer"
        },
        {
         "name": "pred",
         "rawType": "float64",
         "type": "float"
        }
       ],
       "conversionMethod": "pd.DataFrame",
       "ref": "19f289a9-c5af-491f-b6f3-00027968904d",
       "rows": [
        [
         "0",
         "1569352",
         "26",
         "31518",
         "10",
         "7.231515542283255"
        ],
        [
         "1",
         "4728674",
         "26",
         "31520",
         "11",
         null
        ],
        [
         "2",
         "1547831",
         "26",
         "34206",
         "11",
         "32.238062510313114"
        ],
        [
         "3",
         "6667200",
         "26",
         "34210",
         "10",
         "18.338598113383924"
        ],
        [
         "4",
         "1592616",
         "26",
         "34785",
         "10",
         "8.19160526634818"
        ],
        [
         "5",
         "6825659",
         "26",
         "34785",
         "11",
         "8.19160526634818"
        ],
        [
         "6",
         "3909690",
         "26",
         "34786",
         "10",
         "24.33854832824204"
        ],
        [
         "7",
         "3659672",
         "26",
         "35142",
         "10",
         "20.22364271808886"
        ],
        [
         "8",
         "5853787",
         "26",
         "35148",
         "11",
         "11.616003706076947"
        ],
        [
         "9",
         "5908199",
         "26",
         "43335",
         "10",
         "3.1747839829573468"
        ],
        [
         "10",
         "2316053",
         "26",
         "43335",
         "11",
         "3.1747839829573468"
        ],
        [
         "11",
         "900676",
         "26",
         "43342",
         "11",
         "4.501962840363598"
        ],
        [
         "12",
         "6312022",
         "26",
         "43345",
         "11",
         "5.099664419774231"
        ],
        [
         "13",
         "4837077",
         "26",
         "43388",
         "10",
         null
        ],
        [
         "14",
         "4091987",
         "26",
         "46876",
         "10",
         "27.0886435214826"
        ],
        [
         "15",
         "5794848",
         "60",
         "32275",
         "10",
         "29.198593648603463"
        ],
        [
         "16",
         "1597111",
         "60",
         "32441",
         "10",
         "68.85183848005062"
        ],
        [
         "17",
         "6631333",
         "60",
         "32441",
         "11",
         "68.85183848005062"
        ],
        [
         "18",
         "3110842",
         "60",
         "33262",
         "10",
         "36.09618135987921"
        ],
        [
         "19",
         "2297183",
         "60",
         "33262",
         "11",
         "36.09618135987921"
        ],
        [
         "20",
         "448555",
         "60",
         "33267",
         "10",
         "30.988434124687842"
        ],
        [
         "21",
         "774731",
         "60",
         "33267",
         "11",
         "30.988434124687842"
        ],
        [
         "22",
         "271105",
         "60",
         "34258",
         "10",
         "15.327031961984561"
        ],
        [
         "23",
         "1173105",
         "60",
         "34258",
         "11",
         "15.327031961984561"
        ],
        [
         "24",
         "4063439",
         "60",
         "34348",
         "10",
         "152.513661873912"
        ],
        [
         "25",
         "4642515",
         "60",
         "34348",
         "10",
         "152.513661873912"
        ],
        [
         "26",
         "5852296",
         "60",
         "34787",
         "11",
         "84.61308166482671"
        ],
        [
         "27",
         "1140141",
         "60",
         "34793",
         "11",
         "73.99492690676475"
        ],
        [
         "28",
         "4836141",
         "60",
         "34867",
         "10",
         "99.11281688054517"
        ],
        [
         "29",
         "3666423",
         "60",
         "34894",
         "10",
         "21.436144274170815"
        ],
        [
         "30",
         "993381",
         "60",
         "35247",
         "11",
         "14.62079178535784"
        ],
        [
         "31",
         "2974985",
         "60",
         "36978",
         "11",
         "54.53542329766554"
        ],
        [
         "32",
         "6746671",
         "60",
         "43380",
         "11",
         "18.015769275617302"
        ],
        [
         "33",
         "5660462",
         "65",
         "4767",
         "10",
         "57.981397398642144"
        ],
        [
         "34",
         "5455345",
         "65",
         "30007",
         "10",
         "40.88847871428163"
        ],
        [
         "35",
         "4060379",
         "65",
         "31198",
         "10",
         "37.72469422488156"
        ],
        [
         "36",
         "1017671",
         "65",
         "31200",
         "11",
         "59.10904092127036"
        ],
        [
         "37",
         "2473353",
         "65",
         "31690",
         "10",
         "40.88847871428163"
        ],
        [
         "38",
         "5203902",
         "65",
         "32838",
         "10",
         "63.343266632441726"
        ],
        [
         "39",
         "3374673",
         "65",
         "33678",
         "10",
         "8.19160526634818"
        ],
        [
         "40",
         "5177977",
         "65",
         "33678",
         "11",
         "8.19160526634818"
        ],
        [
         "41",
         "2995473",
         "65",
         "34054",
         "10",
         "12.398202835787233"
        ],
        [
         "42",
         "5468118",
         "65",
         "34204",
         "10",
         "40.22029728799902"
        ],
        [
         "43",
         "5616707",
         "65",
         "34204",
         "11",
         "40.22029728799902"
        ],
        [
         "44",
         "3892754",
         "65",
         "34206",
         "11",
         "73.82619262266256"
        ],
        [
         "45",
         "6302101",
         "65",
         "34211",
         "11",
         "67.80196994739411"
        ],
        [
         "46",
         "4258930",
         "65",
         "34264",
         "11",
         "21.7343065595423"
        ],
        [
         "47",
         "1237710",
         "65",
         "34469",
         "10",
         "24.61985444580253"
        ],
        [
         "48",
         "6379875",
         "65",
         "34786",
         "11",
         "77.66342725212374"
        ],
        [
         "49",
         "3482471",
         "65",
         "34794",
         "10",
         "44.79737760755783"
        ]
       ],
       "shape": {
        "columns": 5,
        "rows": 6999251
       }
      },
      "text/html": [
       "<div>\n",
       "<style scoped>\n",
       "    .dataframe tbody tr th:only-of-type {\n",
       "        vertical-align: middle;\n",
       "    }\n",
       "\n",
       "    .dataframe tbody tr th {\n",
       "        vertical-align: top;\n",
       "    }\n",
       "\n",
       "    .dataframe thead th {\n",
       "        text-align: right;\n",
       "    }\n",
       "</style>\n",
       "<table border=\"1\" class=\"dataframe\">\n",
       "  <thead>\n",
       "    <tr style=\"text-align: right;\">\n",
       "      <th></th>\n",
       "      <th>id</th>\n",
       "      <th>Client_ID</th>\n",
       "      <th>Product_ID</th>\n",
       "      <th>Week_num</th>\n",
       "      <th>pred</th>\n",
       "    </tr>\n",
       "  </thead>\n",
       "  <tbody>\n",
       "    <tr>\n",
       "      <th>0</th>\n",
       "      <td>1569352</td>\n",
       "      <td>26</td>\n",
       "      <td>31518</td>\n",
       "      <td>10</td>\n",
       "      <td>7.231516</td>\n",
       "    </tr>\n",
       "    <tr>\n",
       "      <th>1</th>\n",
       "      <td>4728674</td>\n",
       "      <td>26</td>\n",
       "      <td>31520</td>\n",
       "      <td>11</td>\n",
       "      <td>NaN</td>\n",
       "    </tr>\n",
       "    <tr>\n",
       "      <th>2</th>\n",
       "      <td>1547831</td>\n",
       "      <td>26</td>\n",
       "      <td>34206</td>\n",
       "      <td>11</td>\n",
       "      <td>32.238063</td>\n",
       "    </tr>\n",
       "    <tr>\n",
       "      <th>3</th>\n",
       "      <td>6667200</td>\n",
       "      <td>26</td>\n",
       "      <td>34210</td>\n",
       "      <td>10</td>\n",
       "      <td>18.338598</td>\n",
       "    </tr>\n",
       "    <tr>\n",
       "      <th>4</th>\n",
       "      <td>1592616</td>\n",
       "      <td>26</td>\n",
       "      <td>34785</td>\n",
       "      <td>10</td>\n",
       "      <td>8.191605</td>\n",
       "    </tr>\n",
       "    <tr>\n",
       "      <th>...</th>\n",
       "      <td>...</td>\n",
       "      <td>...</td>\n",
       "      <td>...</td>\n",
       "      <td>...</td>\n",
       "      <td>...</td>\n",
       "    </tr>\n",
       "    <tr>\n",
       "      <th>6999246</th>\n",
       "      <td>6093628</td>\n",
       "      <td>2015152015</td>\n",
       "      <td>1232</td>\n",
       "      <td>11</td>\n",
       "      <td>2.406095</td>\n",
       "    </tr>\n",
       "    <tr>\n",
       "      <th>6999247</th>\n",
       "      <td>2542921</td>\n",
       "      <td>2015152015</td>\n",
       "      <td>1238</td>\n",
       "      <td>10</td>\n",
       "      <td>3.174784</td>\n",
       "    </tr>\n",
       "    <tr>\n",
       "      <th>6999248</th>\n",
       "      <td>3223836</td>\n",
       "      <td>2015152015</td>\n",
       "      <td>1250</td>\n",
       "      <td>10</td>\n",
       "      <td>9.972295</td>\n",
       "    </tr>\n",
       "    <tr>\n",
       "      <th>6999249</th>\n",
       "      <td>1889878</td>\n",
       "      <td>2015152015</td>\n",
       "      <td>2233</td>\n",
       "      <td>11</td>\n",
       "      <td>10.394351</td>\n",
       "    </tr>\n",
       "    <tr>\n",
       "      <th>6999250</th>\n",
       "      <td>1066859</td>\n",
       "      <td>2015152015</td>\n",
       "      <td>4280</td>\n",
       "      <td>10</td>\n",
       "      <td>3.864918</td>\n",
       "    </tr>\n",
       "  </tbody>\n",
       "</table>\n",
       "<p>6999251 rows × 5 columns</p>\n",
       "</div>"
      ],
      "text/plain": [
       "              id   Client_ID  Product_ID  Week_num       pred\n",
       "0        1569352          26       31518        10   7.231516\n",
       "1        4728674          26       31520        11        NaN\n",
       "2        1547831          26       34206        11  32.238063\n",
       "3        6667200          26       34210        10  18.338598\n",
       "4        1592616          26       34785        10   8.191605\n",
       "...          ...         ...         ...       ...        ...\n",
       "6999246  6093628  2015152015        1232        11   2.406095\n",
       "6999247  2542921  2015152015        1238        10   3.174784\n",
       "6999248  3223836  2015152015        1250        10   9.972295\n",
       "6999249  1889878  2015152015        2233        11  10.394351\n",
       "6999250  1066859  2015152015        4280        10   3.864918\n",
       "\n",
       "[6999251 rows x 5 columns]"
      ]
     },
     "execution_count": 39,
     "metadata": {},
     "output_type": "execute_result"
    }
   ],
   "source": [
    "test['pred'].isna().mean()\n",
    "test"
   ]
  },
  {
   "cell_type": "code",
   "execution_count": null,
   "metadata": {},
   "outputs": [],
   "source": [
    "output = test[['id', 'pred']]\n",
    "output.rename({'pred': 'Demanda_uni_equil'})\n",
    "\n",
    "data_path = \"..\\product-inventory\"\n",
    "filename = os.path.join(data_path, \"prediction_1\")\n",
    "output.to_csv(filename, index=False)"
   ]
  },
  {
   "cell_type": "markdown",
   "metadata": {},
   "source": [
    "* We can expand this model to include missing clients\n",
    "* We can include longer lagged in the model\n",
    "* Auto ARIMA i.e. find out the right number of lags\n",
    "* We can use the average of the client's observations for prediction\n",
    "* Calculate autocorrelation\n",
    "* XGBoost"
   ]
  },
  {
   "cell_type": "markdown",
   "metadata": {},
   "source": [
    "## Out-of-Sample Prediction\n",
    "One of the main challenges is to predict the demand for the following cases:\n",
    "1. Existing Clients, New Products\n",
    "2. New Clients, Exisiting Products\n",
    "3. New Clients, New Prodcuts"
   ]
  },
  {
   "cell_type": "code",
   "execution_count": null,
   "metadata": {},
   "outputs": [
    {
     "name": "stderr",
     "output_type": "stream",
     "text": [
      "<>:2: SyntaxWarning: invalid escape sequence '\\p'\n",
      "<>:2: SyntaxWarning: invalid escape sequence '\\p'\n",
      "C:\\Users\\amirh\\AppData\\Local\\Temp\\ipykernel_18128\\2774898644.py:2: SyntaxWarning: invalid escape sequence '\\p'\n",
      "  data_path = \"..\\product-inventory\"\n"
     ]
    }
   ],
   "source": [
    "# load train.csv\n",
    "# data_path = \"..\\product-inventory\"\n",
    "# filename = os.path.join(data_path, \"grupo-bimbo-inventory-demand/train.csv.zip\")\n",
    "# \n",
    "# train = pd.read_csv(filename, \n",
    "                #  usecols=['Semana', 'Producto_ID', 'Cliente_ID', 'Demanda_uni_equil'])\n",
    "\n",
    "# rename columns\n",
    "# train = train.rename(columns={  'Semana': 'Week_num',\n",
    "                                # 'Cliente_ID': 'Client_ID',\n",
    "                                # 'Demanda_uni_equil': 'adjusted_demand',\n",
    "                                # 'Producto_ID': 'Product_ID'})\n",
    "\n",
    "# # load test.csv\n",
    "# data_path = \"..\\product-inventory\"\n",
    "# filename = os.path.join(data_path, \"grupo-bimbo-inventory-demand/test.csv.zip\")\n",
    "\n",
    "# test = pd.read_csv(filename, \n",
    "#                  usecols=['Semana', 'Producto_ID', 'Cliente_ID'])\n",
    "\n",
    "# # rename columns\n",
    "# test = test.rename(columns={  'Semana': 'Week_num',\n",
    "#                                 'Cliente_ID': 'Client_ID',\n",
    "#                                 'Producto_ID': 'Product_ID'})\n"
   ]
  },
  {
   "cell_type": "markdown",
   "metadata": {},
   "source": [
    "The list of existing clients in the test data."
   ]
  },
  {
   "cell_type": "code",
   "execution_count": 28,
   "metadata": {},
   "outputs": [
    {
     "name": "stdout",
     "output_type": "stream",
     "text": [
      "0.012967615182698037\n",
      "745164\n"
     ]
    }
   ],
   "source": [
    "# list of exisiting and new clients\n",
    "testID = test['Client_ID'].unique().tolist()\n",
    "trainID = train['Client_ID'].unique().tolist()\n",
    "commonID = list(set(testID).intersection(set(trainID)))\n",
    "newID = list(set(testID) - set(trainID))\n",
    "\n",
    "print(len(newID)/len(test['Client_ID'].unique()))\n",
    "\n",
    "print(len(test['Client_ID'].unique()))"
   ]
  },
  {
   "cell_type": "markdown",
   "metadata": {},
   "source": [
    "The list of existing and new products in the test data"
   ]
  },
  {
   "cell_type": "code",
   "execution_count": 29,
   "metadata": {},
   "outputs": [
    {
     "name": "stdout",
     "output_type": "stream",
     "text": [
      "0.022339027595269383\n",
      "1522\n"
     ]
    }
   ],
   "source": [
    "# list of existing and new products\n",
    "testPID = test['Product_ID'].unique().tolist()\n",
    "trainPID = train['Product_ID'].unique().tolist()\n",
    "commonPID = list(set(testPID).intersection(set(trainPID)))\n",
    "newPID = list(set(testPID) - set(trainPID))\n",
    "\n",
    "print(len(newPID)/len(test['Product_ID'].unique()))\n",
    "\n",
    "print(len(test['Product_ID'].unique()))"
   ]
  },
  {
   "cell_type": "markdown",
   "metadata": {},
   "source": [
    "### 1. New Clients, Existing Products"
   ]
  },
  {
   "cell_type": "code",
   "execution_count": 30,
   "metadata": {},
   "outputs": [
    {
     "data": {
      "application/vnd.microsoft.datawrangler.viewer.v0+json": {
       "columns": [
        {
         "name": "index",
         "rawType": "int64",
         "type": "integer"
        },
        {
         "name": "Client_ID",
         "rawType": "int64",
         "type": "integer"
        },
        {
         "name": "Product_ID",
         "rawType": "int64",
         "type": "integer"
        },
        {
         "name": "Week_num",
         "rawType": "int64",
         "type": "integer"
        },
        {
         "name": "pred",
         "rawType": "float64",
         "type": "float"
        },
        {
         "name": "adjusted_demand",
         "rawType": "float64",
         "type": "float"
        }
       ],
       "conversionMethod": "pd.DataFrame",
       "ref": "7caf0a45-eef5-4e39-9f21-ca3e0a155668",
       "rows": [
        [
         "0",
         "26",
         "31518",
         "10",
         null,
         null
        ],
        [
         "1",
         "26",
         "31520",
         "11",
         null,
         null
        ],
        [
         "2",
         "26",
         "34206",
         "11",
         null,
         null
        ],
        [
         "3",
         "26",
         "34210",
         "10",
         "18.061117502878865",
         null
        ],
        [
         "4",
         "26",
         "34785",
         "10",
         null,
         null
        ],
        [
         "5",
         "26",
         "34785",
         "11",
         null,
         null
        ],
        [
         "6",
         "26",
         "34786",
         "10",
         "23.906969015919138",
         null
        ],
        [
         "7",
         "26",
         "35142",
         "10",
         null,
         null
        ],
        [
         "8",
         "26",
         "35148",
         "11",
         null,
         null
        ],
        [
         "9",
         "26",
         "43335",
         "10",
         null,
         null
        ],
        [
         "10",
         "26",
         "43335",
         "11",
         null,
         null
        ],
        [
         "11",
         "26",
         "43342",
         "11",
         null,
         null
        ],
        [
         "12",
         "26",
         "43345",
         "11",
         null,
         null
        ],
        [
         "13",
         "26",
         "43388",
         "10",
         null,
         null
        ],
        [
         "14",
         "26",
         "46876",
         "10",
         null,
         null
        ],
        [
         "15",
         "60",
         "32275",
         "10",
         null,
         null
        ],
        [
         "16",
         "60",
         "32441",
         "10",
         null,
         null
        ],
        [
         "17",
         "60",
         "32441",
         "11",
         null,
         null
        ],
        [
         "18",
         "60",
         "33262",
         "10",
         "35.32577808543538",
         null
        ],
        [
         "19",
         "60",
         "33262",
         "11",
         "35.32577808543538",
         null
        ],
        [
         "20",
         "60",
         "33267",
         "10",
         null,
         null
        ],
        [
         "21",
         "60",
         "33267",
         "11",
         null,
         null
        ],
        [
         "22",
         "60",
         "34258",
         "10",
         "15.120443046823185",
         null
        ],
        [
         "23",
         "60",
         "34258",
         "11",
         "15.120443046823185",
         null
        ],
        [
         "24",
         "60",
         "34348",
         "10",
         null,
         null
        ],
        [
         "25",
         "60",
         "34348",
         "10",
         null,
         null
        ],
        [
         "26",
         "60",
         "34787",
         "11",
         "82.15064004004685",
         null
        ],
        [
         "27",
         "60",
         "34793",
         "11",
         "71.93156912985413",
         null
        ],
        [
         "28",
         "60",
         "34867",
         "10",
         "96.08628467263856",
         null
        ],
        [
         "29",
         "60",
         "34894",
         "10",
         null,
         null
        ],
        [
         "30",
         "60",
         "35247",
         "11",
         null,
         null
        ],
        [
         "31",
         "60",
         "36978",
         "11",
         null,
         null
        ],
        [
         "32",
         "60",
         "43380",
         "11",
         "17.746118168344637",
         null
        ],
        [
         "33",
         "65",
         "4767",
         "10",
         null,
         null
        ],
        [
         "34",
         "65",
         "30007",
         "10",
         "39.96920873686511",
         null
        ],
        [
         "35",
         "65",
         "31198",
         "10",
         null,
         null
        ],
        [
         "36",
         "65",
         "31200",
         "11",
         null,
         null
        ],
        [
         "37",
         "65",
         "31690",
         "10",
         "39.96920873686511",
         null
        ],
        [
         "38",
         "65",
         "32838",
         "10",
         null,
         null
        ],
        [
         "39",
         "65",
         "33678",
         "10",
         null,
         null
        ],
        [
         "40",
         "65",
         "33678",
         "11",
         null,
         null
        ],
        [
         "41",
         "65",
         "34054",
         "10",
         null,
         null
        ],
        [
         "42",
         "65",
         "34204",
         "10",
         null,
         null
        ],
        [
         "43",
         "65",
         "34204",
         "11",
         null,
         null
        ],
        [
         "44",
         "65",
         "34206",
         "11",
         null,
         null
        ],
        [
         "45",
         "65",
         "34211",
         "11",
         null,
         null
        ],
        [
         "46",
         "65",
         "34264",
         "11",
         null,
         null
        ],
        [
         "47",
         "65",
         "34469",
         "10",
         "24.180690295465613",
         null
        ],
        [
         "48",
         "65",
         "34786",
         "11",
         "75.46364548775966",
         null
        ],
        [
         "49",
         "65",
         "34794",
         "10",
         null,
         null
        ]
       ],
       "shape": {
        "columns": 5,
        "rows": 6999251
       }
      },
      "text/html": [
       "<div>\n",
       "<style scoped>\n",
       "    .dataframe tbody tr th:only-of-type {\n",
       "        vertical-align: middle;\n",
       "    }\n",
       "\n",
       "    .dataframe tbody tr th {\n",
       "        vertical-align: top;\n",
       "    }\n",
       "\n",
       "    .dataframe thead th {\n",
       "        text-align: right;\n",
       "    }\n",
       "</style>\n",
       "<table border=\"1\" class=\"dataframe\">\n",
       "  <thead>\n",
       "    <tr style=\"text-align: right;\">\n",
       "      <th></th>\n",
       "      <th>Client_ID</th>\n",
       "      <th>Product_ID</th>\n",
       "      <th>Week_num</th>\n",
       "      <th>pred</th>\n",
       "      <th>adjusted_demand</th>\n",
       "    </tr>\n",
       "  </thead>\n",
       "  <tbody>\n",
       "    <tr>\n",
       "      <th>0</th>\n",
       "      <td>26</td>\n",
       "      <td>31518</td>\n",
       "      <td>10</td>\n",
       "      <td>NaN</td>\n",
       "      <td>NaN</td>\n",
       "    </tr>\n",
       "    <tr>\n",
       "      <th>1</th>\n",
       "      <td>26</td>\n",
       "      <td>31520</td>\n",
       "      <td>11</td>\n",
       "      <td>NaN</td>\n",
       "      <td>NaN</td>\n",
       "    </tr>\n",
       "    <tr>\n",
       "      <th>2</th>\n",
       "      <td>26</td>\n",
       "      <td>34206</td>\n",
       "      <td>11</td>\n",
       "      <td>NaN</td>\n",
       "      <td>NaN</td>\n",
       "    </tr>\n",
       "    <tr>\n",
       "      <th>3</th>\n",
       "      <td>26</td>\n",
       "      <td>34210</td>\n",
       "      <td>10</td>\n",
       "      <td>18.061118</td>\n",
       "      <td>NaN</td>\n",
       "    </tr>\n",
       "    <tr>\n",
       "      <th>4</th>\n",
       "      <td>26</td>\n",
       "      <td>34785</td>\n",
       "      <td>10</td>\n",
       "      <td>NaN</td>\n",
       "      <td>NaN</td>\n",
       "    </tr>\n",
       "    <tr>\n",
       "      <th>...</th>\n",
       "      <td>...</td>\n",
       "      <td>...</td>\n",
       "      <td>...</td>\n",
       "      <td>...</td>\n",
       "      <td>...</td>\n",
       "    </tr>\n",
       "    <tr>\n",
       "      <th>6999246</th>\n",
       "      <td>2015152015</td>\n",
       "      <td>1232</td>\n",
       "      <td>11</td>\n",
       "      <td>NaN</td>\n",
       "      <td>NaN</td>\n",
       "    </tr>\n",
       "    <tr>\n",
       "      <th>6999247</th>\n",
       "      <td>2015152015</td>\n",
       "      <td>1238</td>\n",
       "      <td>10</td>\n",
       "      <td>5.642355</td>\n",
       "      <td>NaN</td>\n",
       "    </tr>\n",
       "    <tr>\n",
       "      <th>6999248</th>\n",
       "      <td>2015152015</td>\n",
       "      <td>1250</td>\n",
       "      <td>10</td>\n",
       "      <td>9.877470</td>\n",
       "      <td>NaN</td>\n",
       "    </tr>\n",
       "    <tr>\n",
       "      <th>6999249</th>\n",
       "      <td>2015152015</td>\n",
       "      <td>2233</td>\n",
       "      <td>11</td>\n",
       "      <td>NaN</td>\n",
       "      <td>NaN</td>\n",
       "    </tr>\n",
       "    <tr>\n",
       "      <th>6999250</th>\n",
       "      <td>2015152015</td>\n",
       "      <td>4280</td>\n",
       "      <td>10</td>\n",
       "      <td>NaN</td>\n",
       "      <td>NaN</td>\n",
       "    </tr>\n",
       "  </tbody>\n",
       "</table>\n",
       "<p>6999251 rows × 5 columns</p>\n",
       "</div>"
      ],
      "text/plain": [
       "          Client_ID  Product_ID  Week_num       pred  adjusted_demand\n",
       "0                26       31518        10        NaN              NaN\n",
       "1                26       31520        11        NaN              NaN\n",
       "2                26       34206        11        NaN              NaN\n",
       "3                26       34210        10  18.061118              NaN\n",
       "4                26       34785        10        NaN              NaN\n",
       "...             ...         ...       ...        ...              ...\n",
       "6999246  2015152015        1232        11        NaN              NaN\n",
       "6999247  2015152015        1238        10   5.642355              NaN\n",
       "6999248  2015152015        1250        10   9.877470              NaN\n",
       "6999249  2015152015        2233        11        NaN              NaN\n",
       "6999250  2015152015        4280        10        NaN              NaN\n",
       "\n",
       "[6999251 rows x 5 columns]"
      ]
     },
     "execution_count": 30,
     "metadata": {},
     "output_type": "execute_result"
    }
   ],
   "source": [
    "# identify the list of existing products with new clients in the test data\n",
    "existingPID = test.loc[(test['Client_ID'].isin(newID)) & \n",
    "                       (test['Product_ID'].isin(commonPID)),\n",
    "                       'Product_ID'].unique().tolist()\n",
    "\n",
    "# use product's average demand in week 3-9 as a prediction for the new client.\n",
    "#pred_1 contains existing product with new client, and a prediction for the client's demand.\n",
    "pred_1 = train.loc[train['Product_ID'].isin(existingPID)].groupby('Product_ID', as_index=False).agg({'adjusted_demand': 'mean'})\n",
    "test = test.merge(right=pred_1, how='left', on='Product_ID')\n",
    "test.loc[test['Client_ID'].isin(commonID), 'adjusted_demand'] = np.nan\n",
    "\n",
    "del pred_1\n",
    "test"
   ]
  },
  {
   "cell_type": "markdown",
   "metadata": {},
   "source": [
    "### 2. Existing Client, New Products"
   ]
  },
  {
   "cell_type": "code",
   "execution_count": 31,
   "metadata": {},
   "outputs": [
    {
     "data": {
      "application/vnd.microsoft.datawrangler.viewer.v0+json": {
       "columns": [
        {
         "name": "index",
         "rawType": "int64",
         "type": "integer"
        },
        {
         "name": "Client_ID",
         "rawType": "int64",
         "type": "integer"
        },
        {
         "name": "Product_ID",
         "rawType": "int64",
         "type": "integer"
        },
        {
         "name": "Week_num",
         "rawType": "int64",
         "type": "integer"
        },
        {
         "name": "pred",
         "rawType": "float64",
         "type": "float"
        },
        {
         "name": "adjusted_demand_x",
         "rawType": "float64",
         "type": "float"
        },
        {
         "name": "adjusted_demand_y",
         "rawType": "float64",
         "type": "float"
        }
       ],
       "conversionMethod": "pd.DataFrame",
       "ref": "ba94086c-1501-4722-97ce-aa5d7334b873",
       "rows": [
        [
         "0",
         "26",
         "31518",
         "10",
         null,
         null,
         null
        ],
        [
         "1",
         "26",
         "31520",
         "11",
         null,
         null,
         null
        ],
        [
         "2",
         "26",
         "34206",
         "11",
         null,
         null,
         null
        ],
        [
         "3",
         "26",
         "34210",
         "10",
         "18.061117502878865",
         null,
         null
        ],
        [
         "4",
         "26",
         "34785",
         "10",
         null,
         null,
         null
        ],
        [
         "5",
         "26",
         "34785",
         "11",
         null,
         null,
         null
        ],
        [
         "6",
         "26",
         "34786",
         "10",
         "23.906969015919138",
         null,
         null
        ],
        [
         "7",
         "26",
         "35142",
         "10",
         null,
         null,
         null
        ],
        [
         "8",
         "26",
         "35148",
         "11",
         null,
         null,
         null
        ],
        [
         "9",
         "26",
         "43335",
         "10",
         null,
         null,
         null
        ],
        [
         "10",
         "26",
         "43335",
         "11",
         null,
         null,
         null
        ],
        [
         "11",
         "26",
         "43342",
         "11",
         null,
         null,
         null
        ],
        [
         "12",
         "26",
         "43345",
         "11",
         null,
         null,
         null
        ],
        [
         "13",
         "26",
         "43388",
         "10",
         null,
         null,
         null
        ],
        [
         "14",
         "26",
         "46876",
         "10",
         null,
         null,
         null
        ],
        [
         "15",
         "60",
         "32275",
         "10",
         null,
         null,
         null
        ],
        [
         "16",
         "60",
         "32441",
         "10",
         null,
         null,
         null
        ],
        [
         "17",
         "60",
         "32441",
         "11",
         null,
         null,
         null
        ],
        [
         "18",
         "60",
         "33262",
         "10",
         "35.32577808543538",
         null,
         null
        ],
        [
         "19",
         "60",
         "33262",
         "11",
         "35.32577808543538",
         null,
         null
        ],
        [
         "20",
         "60",
         "33267",
         "10",
         null,
         null,
         null
        ],
        [
         "21",
         "60",
         "33267",
         "11",
         null,
         null,
         null
        ],
        [
         "22",
         "60",
         "34258",
         "10",
         "15.120443046823185",
         null,
         null
        ],
        [
         "23",
         "60",
         "34258",
         "11",
         "15.120443046823185",
         null,
         null
        ],
        [
         "24",
         "60",
         "34348",
         "10",
         null,
         null,
         null
        ],
        [
         "25",
         "60",
         "34348",
         "10",
         null,
         null,
         null
        ],
        [
         "26",
         "60",
         "34787",
         "11",
         "82.15064004004685",
         null,
         null
        ],
        [
         "27",
         "60",
         "34793",
         "11",
         "71.93156912985413",
         null,
         null
        ],
        [
         "28",
         "60",
         "34867",
         "10",
         "96.08628467263856",
         null,
         null
        ],
        [
         "29",
         "60",
         "34894",
         "10",
         null,
         null,
         null
        ],
        [
         "30",
         "60",
         "35247",
         "11",
         null,
         null,
         null
        ],
        [
         "31",
         "60",
         "36978",
         "11",
         null,
         null,
         null
        ],
        [
         "32",
         "60",
         "43380",
         "11",
         "17.746118168344637",
         null,
         null
        ],
        [
         "33",
         "65",
         "4767",
         "10",
         null,
         null,
         null
        ],
        [
         "34",
         "65",
         "30007",
         "10",
         "39.96920873686511",
         null,
         null
        ],
        [
         "35",
         "65",
         "31198",
         "10",
         null,
         null,
         null
        ],
        [
         "36",
         "65",
         "31200",
         "11",
         null,
         null,
         null
        ],
        [
         "37",
         "65",
         "31690",
         "10",
         "39.96920873686511",
         null,
         null
        ],
        [
         "38",
         "65",
         "32838",
         "10",
         null,
         null,
         null
        ],
        [
         "39",
         "65",
         "33678",
         "10",
         null,
         null,
         null
        ],
        [
         "40",
         "65",
         "33678",
         "11",
         null,
         null,
         null
        ],
        [
         "41",
         "65",
         "34054",
         "10",
         null,
         null,
         null
        ],
        [
         "42",
         "65",
         "34204",
         "10",
         null,
         null,
         null
        ],
        [
         "43",
         "65",
         "34204",
         "11",
         null,
         null,
         null
        ],
        [
         "44",
         "65",
         "34206",
         "11",
         null,
         null,
         null
        ],
        [
         "45",
         "65",
         "34211",
         "11",
         null,
         null,
         null
        ],
        [
         "46",
         "65",
         "34264",
         "11",
         null,
         null,
         null
        ],
        [
         "47",
         "65",
         "34469",
         "10",
         "24.180690295465613",
         null,
         null
        ],
        [
         "48",
         "65",
         "34786",
         "11",
         "75.46364548775966",
         null,
         null
        ],
        [
         "49",
         "65",
         "34794",
         "10",
         null,
         null,
         null
        ]
       ],
       "shape": {
        "columns": 6,
        "rows": 6999251
       }
      },
      "text/html": [
       "<div>\n",
       "<style scoped>\n",
       "    .dataframe tbody tr th:only-of-type {\n",
       "        vertical-align: middle;\n",
       "    }\n",
       "\n",
       "    .dataframe tbody tr th {\n",
       "        vertical-align: top;\n",
       "    }\n",
       "\n",
       "    .dataframe thead th {\n",
       "        text-align: right;\n",
       "    }\n",
       "</style>\n",
       "<table border=\"1\" class=\"dataframe\">\n",
       "  <thead>\n",
       "    <tr style=\"text-align: right;\">\n",
       "      <th></th>\n",
       "      <th>Client_ID</th>\n",
       "      <th>Product_ID</th>\n",
       "      <th>Week_num</th>\n",
       "      <th>pred</th>\n",
       "      <th>adjusted_demand_x</th>\n",
       "      <th>adjusted_demand_y</th>\n",
       "    </tr>\n",
       "  </thead>\n",
       "  <tbody>\n",
       "    <tr>\n",
       "      <th>0</th>\n",
       "      <td>26</td>\n",
       "      <td>31518</td>\n",
       "      <td>10</td>\n",
       "      <td>NaN</td>\n",
       "      <td>NaN</td>\n",
       "      <td>NaN</td>\n",
       "    </tr>\n",
       "    <tr>\n",
       "      <th>1</th>\n",
       "      <td>26</td>\n",
       "      <td>31520</td>\n",
       "      <td>11</td>\n",
       "      <td>NaN</td>\n",
       "      <td>NaN</td>\n",
       "      <td>NaN</td>\n",
       "    </tr>\n",
       "    <tr>\n",
       "      <th>2</th>\n",
       "      <td>26</td>\n",
       "      <td>34206</td>\n",
       "      <td>11</td>\n",
       "      <td>NaN</td>\n",
       "      <td>NaN</td>\n",
       "      <td>NaN</td>\n",
       "    </tr>\n",
       "    <tr>\n",
       "      <th>3</th>\n",
       "      <td>26</td>\n",
       "      <td>34210</td>\n",
       "      <td>10</td>\n",
       "      <td>18.061118</td>\n",
       "      <td>NaN</td>\n",
       "      <td>NaN</td>\n",
       "    </tr>\n",
       "    <tr>\n",
       "      <th>4</th>\n",
       "      <td>26</td>\n",
       "      <td>34785</td>\n",
       "      <td>10</td>\n",
       "      <td>NaN</td>\n",
       "      <td>NaN</td>\n",
       "      <td>NaN</td>\n",
       "    </tr>\n",
       "    <tr>\n",
       "      <th>...</th>\n",
       "      <td>...</td>\n",
       "      <td>...</td>\n",
       "      <td>...</td>\n",
       "      <td>...</td>\n",
       "      <td>...</td>\n",
       "      <td>...</td>\n",
       "    </tr>\n",
       "    <tr>\n",
       "      <th>6999246</th>\n",
       "      <td>2015152015</td>\n",
       "      <td>1232</td>\n",
       "      <td>11</td>\n",
       "      <td>NaN</td>\n",
       "      <td>NaN</td>\n",
       "      <td>NaN</td>\n",
       "    </tr>\n",
       "    <tr>\n",
       "      <th>6999247</th>\n",
       "      <td>2015152015</td>\n",
       "      <td>1238</td>\n",
       "      <td>10</td>\n",
       "      <td>5.642355</td>\n",
       "      <td>NaN</td>\n",
       "      <td>NaN</td>\n",
       "    </tr>\n",
       "    <tr>\n",
       "      <th>6999248</th>\n",
       "      <td>2015152015</td>\n",
       "      <td>1250</td>\n",
       "      <td>10</td>\n",
       "      <td>9.877470</td>\n",
       "      <td>NaN</td>\n",
       "      <td>NaN</td>\n",
       "    </tr>\n",
       "    <tr>\n",
       "      <th>6999249</th>\n",
       "      <td>2015152015</td>\n",
       "      <td>2233</td>\n",
       "      <td>11</td>\n",
       "      <td>NaN</td>\n",
       "      <td>NaN</td>\n",
       "      <td>NaN</td>\n",
       "    </tr>\n",
       "    <tr>\n",
       "      <th>6999250</th>\n",
       "      <td>2015152015</td>\n",
       "      <td>4280</td>\n",
       "      <td>10</td>\n",
       "      <td>NaN</td>\n",
       "      <td>NaN</td>\n",
       "      <td>NaN</td>\n",
       "    </tr>\n",
       "  </tbody>\n",
       "</table>\n",
       "<p>6999251 rows × 6 columns</p>\n",
       "</div>"
      ],
      "text/plain": [
       "          Client_ID  Product_ID  Week_num       pred  adjusted_demand_x  \\\n",
       "0                26       31518        10        NaN                NaN   \n",
       "1                26       31520        11        NaN                NaN   \n",
       "2                26       34206        11        NaN                NaN   \n",
       "3                26       34210        10  18.061118                NaN   \n",
       "4                26       34785        10        NaN                NaN   \n",
       "...             ...         ...       ...        ...                ...   \n",
       "6999246  2015152015        1232        11        NaN                NaN   \n",
       "6999247  2015152015        1238        10   5.642355                NaN   \n",
       "6999248  2015152015        1250        10   9.877470                NaN   \n",
       "6999249  2015152015        2233        11        NaN                NaN   \n",
       "6999250  2015152015        4280        10        NaN                NaN   \n",
       "\n",
       "         adjusted_demand_y  \n",
       "0                      NaN  \n",
       "1                      NaN  \n",
       "2                      NaN  \n",
       "3                      NaN  \n",
       "4                      NaN  \n",
       "...                    ...  \n",
       "6999246                NaN  \n",
       "6999247                NaN  \n",
       "6999248                NaN  \n",
       "6999249                NaN  \n",
       "6999250                NaN  \n",
       "\n",
       "[6999251 rows x 6 columns]"
      ]
     },
     "execution_count": 31,
     "metadata": {},
     "output_type": "execute_result"
    }
   ],
   "source": [
    "# identify the list of existing clients with new products in the test data\n",
    "existingID = test.loc[(test['Client_ID'].isin(commonID)) & \n",
    "                      (test['Product_ID'].isin(newPID)),\n",
    "                      'Client_ID'].unique().tolist()\n",
    "\n",
    "# use client's average demand in week 3-9 as a prediction for new product.\n",
    "#pred_1 contains existing clients with new products, and a prediction for the product.\n",
    "pred_1 = train.loc[train['Client_ID'].isin(existingID)].groupby('Client_ID', as_index=False).agg({'adjusted_demand': 'mean'})\n",
    "test = test.merge(right=pred_1, how='left', on='Client_ID')\n",
    "test.loc[test['Product_ID'].isin(commonPID), 'adjusted_demand_y'] = np.nan\n",
    "\n",
    "\n",
    "del pred_1\n",
    "test\n",
    "# WATCH OUT: This replaces missing values for existing clients and existing products with the client's average demand. \n",
    "# THEY SHOULD BE REPLACED WITH THE ACTUAL PREDICTION"
   ]
  },
  {
   "cell_type": "markdown",
   "metadata": {},
   "source": [
    "### 3. New Clients, New Products\n",
    "The intersection of new clients and new product in the test data. Here the first guess is the average demand for all product across all weeks.\n"
   ]
  },
  {
   "cell_type": "code",
   "execution_count": 32,
   "metadata": {},
   "outputs": [
    {
     "data": {
      "application/vnd.microsoft.datawrangler.viewer.v0+json": {
       "columns": [
        {
         "name": "index",
         "rawType": "int64",
         "type": "integer"
        },
        {
         "name": "Client_ID",
         "rawType": "int64",
         "type": "integer"
        },
        {
         "name": "Product_ID",
         "rawType": "int64",
         "type": "integer"
        },
        {
         "name": "Week_num",
         "rawType": "int64",
         "type": "integer"
        },
        {
         "name": "pred",
         "rawType": "float64",
         "type": "float"
        },
        {
         "name": "adjusted_demand_x",
         "rawType": "float64",
         "type": "float"
        },
        {
         "name": "adjusted_demand_y",
         "rawType": "float64",
         "type": "float"
        },
        {
         "name": "adjusted_demand",
         "rawType": "float64",
         "type": "float"
        }
       ],
       "conversionMethod": "pd.DataFrame",
       "ref": "993817b2-148f-499a-af34-70a6de90337f",
       "rows": [
        [
         "0",
         "26",
         "31518",
         "10",
         null,
         null,
         null,
         null
        ],
        [
         "1",
         "26",
         "31520",
         "11",
         null,
         null,
         null,
         null
        ],
        [
         "2",
         "26",
         "34206",
         "11",
         null,
         null,
         null,
         null
        ],
        [
         "3",
         "26",
         "34210",
         "10",
         "18.061117502878865",
         null,
         null,
         null
        ],
        [
         "4",
         "26",
         "34785",
         "10",
         null,
         null,
         null,
         null
        ],
        [
         "5",
         "26",
         "34785",
         "11",
         null,
         null,
         null,
         null
        ],
        [
         "6",
         "26",
         "34786",
         "10",
         "23.906969015919138",
         null,
         null,
         null
        ],
        [
         "7",
         "26",
         "35142",
         "10",
         null,
         null,
         null,
         null
        ],
        [
         "8",
         "26",
         "35148",
         "11",
         null,
         null,
         null,
         null
        ],
        [
         "9",
         "26",
         "43335",
         "10",
         null,
         null,
         null,
         null
        ],
        [
         "10",
         "26",
         "43335",
         "11",
         null,
         null,
         null,
         null
        ],
        [
         "11",
         "26",
         "43342",
         "11",
         null,
         null,
         null,
         null
        ],
        [
         "12",
         "26",
         "43345",
         "11",
         null,
         null,
         null,
         null
        ],
        [
         "13",
         "26",
         "43388",
         "10",
         null,
         null,
         null,
         null
        ],
        [
         "14",
         "26",
         "46876",
         "10",
         null,
         null,
         null,
         null
        ],
        [
         "15",
         "60",
         "32275",
         "10",
         null,
         null,
         null,
         null
        ],
        [
         "16",
         "60",
         "32441",
         "10",
         null,
         null,
         null,
         null
        ],
        [
         "17",
         "60",
         "32441",
         "11",
         null,
         null,
         null,
         null
        ],
        [
         "18",
         "60",
         "33262",
         "10",
         "35.32577808543538",
         null,
         null,
         null
        ],
        [
         "19",
         "60",
         "33262",
         "11",
         "35.32577808543538",
         null,
         null,
         null
        ],
        [
         "20",
         "60",
         "33267",
         "10",
         null,
         null,
         null,
         null
        ],
        [
         "21",
         "60",
         "33267",
         "11",
         null,
         null,
         null,
         null
        ],
        [
         "22",
         "60",
         "34258",
         "10",
         "15.120443046823185",
         null,
         null,
         null
        ],
        [
         "23",
         "60",
         "34258",
         "11",
         "15.120443046823185",
         null,
         null,
         null
        ],
        [
         "24",
         "60",
         "34348",
         "10",
         null,
         null,
         null,
         null
        ],
        [
         "25",
         "60",
         "34348",
         "10",
         null,
         null,
         null,
         null
        ],
        [
         "26",
         "60",
         "34787",
         "11",
         "82.15064004004685",
         null,
         null,
         null
        ],
        [
         "27",
         "60",
         "34793",
         "11",
         "71.93156912985413",
         null,
         null,
         null
        ],
        [
         "28",
         "60",
         "34867",
         "10",
         "96.08628467263856",
         null,
         null,
         null
        ],
        [
         "29",
         "60",
         "34894",
         "10",
         null,
         null,
         null,
         null
        ],
        [
         "30",
         "60",
         "35247",
         "11",
         null,
         null,
         null,
         null
        ],
        [
         "31",
         "60",
         "36978",
         "11",
         null,
         null,
         null,
         null
        ],
        [
         "32",
         "60",
         "43380",
         "11",
         "17.746118168344637",
         null,
         null,
         null
        ],
        [
         "33",
         "65",
         "4767",
         "10",
         null,
         null,
         null,
         null
        ],
        [
         "34",
         "65",
         "30007",
         "10",
         "39.96920873686511",
         null,
         null,
         null
        ],
        [
         "35",
         "65",
         "31198",
         "10",
         null,
         null,
         null,
         null
        ],
        [
         "36",
         "65",
         "31200",
         "11",
         null,
         null,
         null,
         null
        ],
        [
         "37",
         "65",
         "31690",
         "10",
         "39.96920873686511",
         null,
         null,
         null
        ],
        [
         "38",
         "65",
         "32838",
         "10",
         null,
         null,
         null,
         null
        ],
        [
         "39",
         "65",
         "33678",
         "10",
         null,
         null,
         null,
         null
        ],
        [
         "40",
         "65",
         "33678",
         "11",
         null,
         null,
         null,
         null
        ],
        [
         "41",
         "65",
         "34054",
         "10",
         null,
         null,
         null,
         null
        ],
        [
         "42",
         "65",
         "34204",
         "10",
         null,
         null,
         null,
         null
        ],
        [
         "43",
         "65",
         "34204",
         "11",
         null,
         null,
         null,
         null
        ],
        [
         "44",
         "65",
         "34206",
         "11",
         null,
         null,
         null,
         null
        ],
        [
         "45",
         "65",
         "34211",
         "11",
         null,
         null,
         null,
         null
        ],
        [
         "46",
         "65",
         "34264",
         "11",
         null,
         null,
         null,
         null
        ],
        [
         "47",
         "65",
         "34469",
         "10",
         "24.180690295465613",
         null,
         null,
         null
        ],
        [
         "48",
         "65",
         "34786",
         "11",
         "75.46364548775966",
         null,
         null,
         null
        ],
        [
         "49",
         "65",
         "34794",
         "10",
         null,
         null,
         null,
         null
        ]
       ],
       "shape": {
        "columns": 7,
        "rows": 6999251
       }
      },
      "text/html": [
       "<div>\n",
       "<style scoped>\n",
       "    .dataframe tbody tr th:only-of-type {\n",
       "        vertical-align: middle;\n",
       "    }\n",
       "\n",
       "    .dataframe tbody tr th {\n",
       "        vertical-align: top;\n",
       "    }\n",
       "\n",
       "    .dataframe thead th {\n",
       "        text-align: right;\n",
       "    }\n",
       "</style>\n",
       "<table border=\"1\" class=\"dataframe\">\n",
       "  <thead>\n",
       "    <tr style=\"text-align: right;\">\n",
       "      <th></th>\n",
       "      <th>Client_ID</th>\n",
       "      <th>Product_ID</th>\n",
       "      <th>Week_num</th>\n",
       "      <th>pred</th>\n",
       "      <th>adjusted_demand_x</th>\n",
       "      <th>adjusted_demand_y</th>\n",
       "      <th>adjusted_demand</th>\n",
       "    </tr>\n",
       "  </thead>\n",
       "  <tbody>\n",
       "    <tr>\n",
       "      <th>0</th>\n",
       "      <td>26</td>\n",
       "      <td>31518</td>\n",
       "      <td>10</td>\n",
       "      <td>NaN</td>\n",
       "      <td>NaN</td>\n",
       "      <td>NaN</td>\n",
       "      <td>NaN</td>\n",
       "    </tr>\n",
       "    <tr>\n",
       "      <th>1</th>\n",
       "      <td>26</td>\n",
       "      <td>31520</td>\n",
       "      <td>11</td>\n",
       "      <td>NaN</td>\n",
       "      <td>NaN</td>\n",
       "      <td>NaN</td>\n",
       "      <td>NaN</td>\n",
       "    </tr>\n",
       "    <tr>\n",
       "      <th>2</th>\n",
       "      <td>26</td>\n",
       "      <td>34206</td>\n",
       "      <td>11</td>\n",
       "      <td>NaN</td>\n",
       "      <td>NaN</td>\n",
       "      <td>NaN</td>\n",
       "      <td>NaN</td>\n",
       "    </tr>\n",
       "    <tr>\n",
       "      <th>3</th>\n",
       "      <td>26</td>\n",
       "      <td>34210</td>\n",
       "      <td>10</td>\n",
       "      <td>18.061118</td>\n",
       "      <td>NaN</td>\n",
       "      <td>NaN</td>\n",
       "      <td>NaN</td>\n",
       "    </tr>\n",
       "    <tr>\n",
       "      <th>4</th>\n",
       "      <td>26</td>\n",
       "      <td>34785</td>\n",
       "      <td>10</td>\n",
       "      <td>NaN</td>\n",
       "      <td>NaN</td>\n",
       "      <td>NaN</td>\n",
       "      <td>NaN</td>\n",
       "    </tr>\n",
       "    <tr>\n",
       "      <th>...</th>\n",
       "      <td>...</td>\n",
       "      <td>...</td>\n",
       "      <td>...</td>\n",
       "      <td>...</td>\n",
       "      <td>...</td>\n",
       "      <td>...</td>\n",
       "      <td>...</td>\n",
       "    </tr>\n",
       "    <tr>\n",
       "      <th>6999246</th>\n",
       "      <td>2015152015</td>\n",
       "      <td>1232</td>\n",
       "      <td>11</td>\n",
       "      <td>NaN</td>\n",
       "      <td>NaN</td>\n",
       "      <td>NaN</td>\n",
       "      <td>NaN</td>\n",
       "    </tr>\n",
       "    <tr>\n",
       "      <th>6999247</th>\n",
       "      <td>2015152015</td>\n",
       "      <td>1238</td>\n",
       "      <td>10</td>\n",
       "      <td>5.642355</td>\n",
       "      <td>NaN</td>\n",
       "      <td>NaN</td>\n",
       "      <td>NaN</td>\n",
       "    </tr>\n",
       "    <tr>\n",
       "      <th>6999248</th>\n",
       "      <td>2015152015</td>\n",
       "      <td>1250</td>\n",
       "      <td>10</td>\n",
       "      <td>9.877470</td>\n",
       "      <td>NaN</td>\n",
       "      <td>NaN</td>\n",
       "      <td>NaN</td>\n",
       "    </tr>\n",
       "    <tr>\n",
       "      <th>6999249</th>\n",
       "      <td>2015152015</td>\n",
       "      <td>2233</td>\n",
       "      <td>11</td>\n",
       "      <td>NaN</td>\n",
       "      <td>NaN</td>\n",
       "      <td>NaN</td>\n",
       "      <td>NaN</td>\n",
       "    </tr>\n",
       "    <tr>\n",
       "      <th>6999250</th>\n",
       "      <td>2015152015</td>\n",
       "      <td>4280</td>\n",
       "      <td>10</td>\n",
       "      <td>NaN</td>\n",
       "      <td>NaN</td>\n",
       "      <td>NaN</td>\n",
       "      <td>NaN</td>\n",
       "    </tr>\n",
       "  </tbody>\n",
       "</table>\n",
       "<p>6999251 rows × 7 columns</p>\n",
       "</div>"
      ],
      "text/plain": [
       "          Client_ID  Product_ID  Week_num       pred  adjusted_demand_x  \\\n",
       "0                26       31518        10        NaN                NaN   \n",
       "1                26       31520        11        NaN                NaN   \n",
       "2                26       34206        11        NaN                NaN   \n",
       "3                26       34210        10  18.061118                NaN   \n",
       "4                26       34785        10        NaN                NaN   \n",
       "...             ...         ...       ...        ...                ...   \n",
       "6999246  2015152015        1232        11        NaN                NaN   \n",
       "6999247  2015152015        1238        10   5.642355                NaN   \n",
       "6999248  2015152015        1250        10   9.877470                NaN   \n",
       "6999249  2015152015        2233        11        NaN                NaN   \n",
       "6999250  2015152015        4280        10        NaN                NaN   \n",
       "\n",
       "         adjusted_demand_y  adjusted_demand  \n",
       "0                      NaN              NaN  \n",
       "1                      NaN              NaN  \n",
       "2                      NaN              NaN  \n",
       "3                      NaN              NaN  \n",
       "4                      NaN              NaN  \n",
       "...                    ...              ...  \n",
       "6999246                NaN              NaN  \n",
       "6999247                NaN              NaN  \n",
       "6999248                NaN              NaN  \n",
       "6999249                NaN              NaN  \n",
       "6999250                NaN              NaN  \n",
       "\n",
       "[6999251 rows x 7 columns]"
      ]
     },
     "execution_count": 32,
     "metadata": {},
     "output_type": "execute_result"
    }
   ],
   "source": [
    "pred_1 = train['adjusted_demand'].mean()\n",
    "test.loc[(test['Product_ID'].isin(newPID)) & (test['Client_ID'].isin(newID)), 'adjusted_demand'] = pred_1\n",
    "test"
   ]
  },
  {
   "cell_type": "markdown",
   "metadata": {},
   "source": [
    "What share of the test dataset is estimated?"
   ]
  },
  {
   "cell_type": "code",
   "execution_count": 38,
   "metadata": {},
   "outputs": [
    {
     "name": "stdout",
     "output_type": "stream",
     "text": [
      "6999251\n"
     ]
    },
    {
     "data": {
      "text/plain": [
       "adjusted_demand_x    0.004277\n",
       "adjusted_demand_y    0.003646\n",
       "adjusted_demand      0.004277\n",
       "dtype: float64"
      ]
     },
     "execution_count": 38,
     "metadata": {},
     "output_type": "execute_result"
    }
   ],
   "source": [
    "print(len(test['adjusted_demand']))\n",
    "      \n",
    "1-test[['adjusted_demand_x', 'adjusted_demand_y', 'adjusted_demand']].isna().mean()"
   ]
  },
  {
   "cell_type": "code",
   "execution_count": null,
   "metadata": {},
   "outputs": [
    {
     "data": {
      "text/plain": [
       "adjusted_demand_x    0.004277\n",
       "adjusted_demand_y    0.003646\n",
       "adjusted_demand      0.285966\n",
       "pred                 0.285966\n",
       "dtype: float64"
      ]
     },
     "execution_count": 39,
     "metadata": {},
     "output_type": "execute_result"
    }
   ],
   "source": [
    "test['adjusted_demand'] = test.loc[~test['adjusted_demand_x'].isna(),'adjusted_demand_x']\n",
    "test['adjusted_demand'] = test.loc[~test['adjusted_demand_y'].isna(),'adjusted_demand_y']\n",
    "test['adjusted_demand'] = test.loc[~test['pred'].isna(),'pred']\n",
    "\n",
    "print(\"Non-Missing Prediction Values:\", 1-test[['adjusted_demand_x', 'adjusted_demand_y', 'adjusted_demand', 'pred']].isna().mean())"
   ]
  },
  {
   "cell_type": "markdown",
   "metadata": {},
   "source": [
    "## Leftover"
   ]
  },
  {
   "cell_type": "code",
   "execution_count": 15,
   "metadata": {},
   "outputs": [],
   "source": [
    "# x = np.arange(0, 10, 0.5).reshape(-1,1)\n",
    "# y = lr2.predict(x)\n",
    "\n",
    "# plt.scatter(df_ho['y_1'], df_ho['y'])\n",
    "# plt.plot(x, y)\n",
    "\n",
    "# plt.show()"
   ]
  }
 ],
 "metadata": {
  "kernelspec": {
   "display_name": "erdos_spring_2025",
   "language": "python",
   "name": "python3"
  },
  "language_info": {
   "codemirror_mode": {
    "name": "ipython",
    "version": 3
   },
   "file_extension": ".py",
   "mimetype": "text/x-python",
   "name": "python",
   "nbconvert_exporter": "python",
   "pygments_lexer": "ipython3",
   "version": "3.12.8"
  }
 },
 "nbformat": 4,
 "nbformat_minor": 2
}
