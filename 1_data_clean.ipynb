{
 "cells": [
  {
   "cell_type": "markdown",
   "metadata": {},
   "source": [
    "# Data Preparation\n"
   ]
  },
  {
   "cell_type": "code",
   "execution_count": 1,
   "metadata": {},
   "outputs": [],
   "source": [
    "import pandas as pd\n",
    "import numpy as np\n",
    "import dask.dataframe as dd\n",
    "import matplotlib.pyplot as plt\n",
    "import seaborn as sns\n",
    "import os\n",
    "import gc\n",
    "\n",
    "sns.set_style(\"whitegrid\")"
   ]
  },
  {
   "cell_type": "markdown",
   "metadata": {},
   "source": [
    "## Load Data"
   ]
  },
  {
   "cell_type": "code",
   "execution_count": 2,
   "metadata": {},
   "outputs": [
    {
     "name": "stderr",
     "output_type": "stream",
     "text": [
      "<>:4: SyntaxWarning: invalid escape sequence '\\p'\n",
      "<>:4: SyntaxWarning: invalid escape sequence '\\p'\n",
      "C:\\Users\\amirh\\AppData\\Local\\Temp\\ipykernel_19872\\3118936594.py:4: SyntaxWarning: invalid escape sequence '\\p'\n",
      "  data_path = \"..\\product-inventory\"\n"
     ]
    },
    {
     "name": "stdout",
     "output_type": "stream",
     "text": [
      "740674\n"
     ]
    }
   ],
   "source": [
    "#data set from kaggle: https://www.kaggle.com/competitions/grupo-bimbo-inventory-demand/data\n",
    "\n",
    "# load train.csv\n",
    "data_path = \"..\\product-inventory\"\n",
    "filename = os.path.join(data_path, \"grupo-bimbo-inventory-demand/train.csv.zip\")\n",
    "\n",
    "train = pd.read_csv(filename, \n",
    "                 usecols=['Semana', 'Producto_ID', 'Cliente_ID', 'Demanda_uni_equil'])\n",
    "\n",
    "# rename columns\n",
    "train = train.rename(columns={  'Semana': 'Week_num',\n",
    "                                'Cliente_ID': 'Client_ID',\n",
    "                                'Demanda_uni_equil': 'adjusted_demand',\n",
    "                                'Producto_ID': 'Product_ID'})\n",
    "# define client-product ID\n",
    "train['ID'] = train.groupby(['Client_ID', 'Product_ID']).ngroup()\n",
    "unique_ids = train['ID'].unique()\n",
    "\n",
    "# Define the fraction of IDs to sample\n",
    "fraction = 0.01  # sample 1% of the IDs\n",
    "\n",
    "# Calculate the number of IDs to sample\n",
    "sample_size = int(len(unique_ids) * fraction)\n",
    "\n",
    "# Choose a random sample of IDs\n",
    "sampled_ids = np.random.choice(unique_ids, size=sample_size, replace=False)\n",
    "\n",
    "# Filter the DataFrame to keep all rows with the sampled IDs\n",
    "train = train[train['ID'].isin(sampled_ids)]\n",
    "\n",
    "print(len(train))"
   ]
  },
  {
   "cell_type": "code",
   "execution_count": 3,
   "metadata": {},
   "outputs": [],
   "source": [
    "# Sort the data frame by ID and Week\n",
    "train = train.groupby(['ID', 'Week_num'], as_index=False).agg({'adjusted_demand': 'sum'})\n",
    "train = train.sort_values(by=['ID', 'Week_num']).reset_index(drop=True)"
   ]
  },
  {
   "cell_type": "markdown",
   "metadata": {},
   "source": [
    "## Data Imputation Function\n",
    "This function imputes missing observations based on the firms' demand. In this case, I set all missing observations to zero."
   ]
  },
  {
   "cell_type": "code",
   "execution_count": 4,
   "metadata": {},
   "outputs": [],
   "source": [
    "def fillin(df):\n",
    "    '''\n",
    "    Input\n",
    "        df: A dataframe of length at most 7, with column names 'Week_num', 'Client_ID', 'Product_ID', 'adjusted_demand', 'ID',\n",
    "        where 'ID' is the unique idenifier for client id and product id combinations.  The intended input is train[train['ID' == id]],\n",
    "        where id is an element of the list train['ID'].unique().\n",
    "\n",
    "    Outputs\n",
    "        new_df: If df has 'adjusted_demand' values for each week (3 through 9), new_df = df, i.e. nothing happens.\n",
    "\n",
    "                If df has missing 'adjusted_demand' values for any week, the 'adjusted_demand' for that week will be 0.\n",
    "    '''\n",
    "\n",
    "    # EB: I'm not sure if it matters, but does it need to be a deep copy?\n",
    "    new_df = df.copy(deep=True).reset_index(drop=True)\n",
    "\n",
    "    week_list = new_df['Week_num'].unique().tolist()\n",
    "    missing_week_list = [x for x in [3,4,5,6,7,8,9] if x not in week_list]\n",
    "\n",
    "    for i in missing_week_list:\n",
    "        \n",
    "        #create new row in new_df with the floor of the average value of prev_value and next_value\n",
    "        new_df = pd.concat([new_df, pd.DataFrame({'Week_num': i,\n",
    "                                                  'Client_ID': new_df['Client_ID'].iloc[0],\n",
    "                                                  'Product_ID': new_df['Product_ID'].iloc[0],\n",
    "                                                  'adjusted_demand': 0,\n",
    "                                                  'ID': new_df['ID'].iloc[0]}, index=[i])]).sort_values(by=['Week_num']).reset_index(drop=True)\n",
    "        \n",
    "        #update week_list\n",
    "        week_list.append(i)\n",
    "        \n",
    "    return new_df"
   ]
  },
  {
   "cell_type": "markdown",
   "metadata": {},
   "source": [
    "Another way to impute the data is to expand the `train` such as it incluldes all possible ID x Week combination. We'll impute the data a later point."
   ]
  },
  {
   "cell_type": "code",
   "execution_count": 5,
   "metadata": {},
   "outputs": [
    {
     "data": {
      "application/vnd.microsoft.datawrangler.viewer.v0+json": {
       "columns": [
        {
         "name": "index",
         "rawType": "int64",
         "type": "integer"
        },
        {
         "name": "ID",
         "rawType": "int64",
         "type": "integer"
        },
        {
         "name": "Week_num",
         "rawType": "int64",
         "type": "integer"
        },
        {
         "name": "adjusted_demand",
         "rawType": "float64",
         "type": "float"
        }
       ],
       "conversionMethod": "pd.DataFrame",
       "ref": "5b8b8d28-e0d3-4aab-b8bc-526a60f64e01",
       "rows": [
        [
         "0",
         "345",
         "3",
         "8.0"
        ],
        [
         "1",
         "345",
         "4",
         "9.0"
        ],
        [
         "2",
         "345",
         "5",
         "3.0"
        ],
        [
         "3",
         "345",
         "6",
         "11.0"
        ],
        [
         "4",
         "345",
         "7",
         "12.0"
        ],
        [
         "5",
         "345",
         "8",
         "4.0"
        ],
        [
         "6",
         "345",
         "9",
         "20.0"
        ],
        [
         "7",
         "425",
         "3",
         null
        ],
        [
         "8",
         "425",
         "4",
         null
        ],
        [
         "9",
         "425",
         "5",
         null
        ],
        [
         "10",
         "425",
         "6",
         null
        ],
        [
         "11",
         "425",
         "7",
         null
        ],
        [
         "12",
         "425",
         "8",
         "5.0"
        ],
        [
         "13",
         "425",
         "9",
         "2.0"
        ],
        [
         "14",
         "485",
         "3",
         null
        ],
        [
         "15",
         "485",
         "4",
         null
        ],
        [
         "16",
         "485",
         "5",
         null
        ],
        [
         "17",
         "485",
         "6",
         null
        ],
        [
         "18",
         "485",
         "7",
         null
        ],
        [
         "19",
         "485",
         "8",
         null
        ],
        [
         "20",
         "485",
         "9",
         "5.0"
        ],
        [
         "21",
         "572",
         "3",
         "8.0"
        ],
        [
         "22",
         "572",
         "4",
         null
        ],
        [
         "23",
         "572",
         "5",
         null
        ],
        [
         "24",
         "572",
         "6",
         null
        ],
        [
         "25",
         "572",
         "7",
         null
        ],
        [
         "26",
         "572",
         "8",
         null
        ],
        [
         "27",
         "572",
         "9",
         null
        ],
        [
         "28",
         "667",
         "3",
         null
        ],
        [
         "29",
         "667",
         "4",
         null
        ],
        [
         "30",
         "667",
         "5",
         null
        ],
        [
         "31",
         "667",
         "6",
         "7.0"
        ],
        [
         "32",
         "667",
         "7",
         null
        ],
        [
         "33",
         "667",
         "8",
         null
        ],
        [
         "34",
         "667",
         "9",
         "4.0"
        ],
        [
         "35",
         "879",
         "3",
         "1.0"
        ],
        [
         "36",
         "879",
         "4",
         null
        ],
        [
         "37",
         "879",
         "5",
         null
        ],
        [
         "38",
         "879",
         "6",
         null
        ],
        [
         "39",
         "879",
         "7",
         null
        ],
        [
         "40",
         "879",
         "8",
         null
        ],
        [
         "41",
         "879",
         "9",
         null
        ],
        [
         "42",
         "988",
         "3",
         null
        ],
        [
         "43",
         "988",
         "4",
         "6.0"
        ],
        [
         "44",
         "988",
         "5",
         "6.0"
        ],
        [
         "45",
         "988",
         "6",
         "2.0"
        ],
        [
         "46",
         "988",
         "7",
         "10.0"
        ],
        [
         "47",
         "988",
         "8",
         "4.0"
        ],
        [
         "48",
         "988",
         "9",
         "10.0"
        ],
        [
         "49",
         "1219",
         "3",
         null
        ]
       ],
       "shape": {
        "columns": 3,
        "rows": 1808205
       }
      },
      "text/html": [
       "<div>\n",
       "<style scoped>\n",
       "    .dataframe tbody tr th:only-of-type {\n",
       "        vertical-align: middle;\n",
       "    }\n",
       "\n",
       "    .dataframe tbody tr th {\n",
       "        vertical-align: top;\n",
       "    }\n",
       "\n",
       "    .dataframe thead th {\n",
       "        text-align: right;\n",
       "    }\n",
       "</style>\n",
       "<table border=\"1\" class=\"dataframe\">\n",
       "  <thead>\n",
       "    <tr style=\"text-align: right;\">\n",
       "      <th></th>\n",
       "      <th>ID</th>\n",
       "      <th>Week_num</th>\n",
       "      <th>adjusted_demand</th>\n",
       "    </tr>\n",
       "  </thead>\n",
       "  <tbody>\n",
       "    <tr>\n",
       "      <th>0</th>\n",
       "      <td>345</td>\n",
       "      <td>3</td>\n",
       "      <td>8.0</td>\n",
       "    </tr>\n",
       "    <tr>\n",
       "      <th>1</th>\n",
       "      <td>345</td>\n",
       "      <td>4</td>\n",
       "      <td>9.0</td>\n",
       "    </tr>\n",
       "    <tr>\n",
       "      <th>2</th>\n",
       "      <td>345</td>\n",
       "      <td>5</td>\n",
       "      <td>3.0</td>\n",
       "    </tr>\n",
       "    <tr>\n",
       "      <th>3</th>\n",
       "      <td>345</td>\n",
       "      <td>6</td>\n",
       "      <td>11.0</td>\n",
       "    </tr>\n",
       "    <tr>\n",
       "      <th>4</th>\n",
       "      <td>345</td>\n",
       "      <td>7</td>\n",
       "      <td>12.0</td>\n",
       "    </tr>\n",
       "    <tr>\n",
       "      <th>...</th>\n",
       "      <td>...</td>\n",
       "      <td>...</td>\n",
       "      <td>...</td>\n",
       "    </tr>\n",
       "    <tr>\n",
       "      <th>1808200</th>\n",
       "      <td>25831381</td>\n",
       "      <td>5</td>\n",
       "      <td>NaN</td>\n",
       "    </tr>\n",
       "    <tr>\n",
       "      <th>1808201</th>\n",
       "      <td>25831381</td>\n",
       "      <td>6</td>\n",
       "      <td>NaN</td>\n",
       "    </tr>\n",
       "    <tr>\n",
       "      <th>1808202</th>\n",
       "      <td>25831381</td>\n",
       "      <td>7</td>\n",
       "      <td>NaN</td>\n",
       "    </tr>\n",
       "    <tr>\n",
       "      <th>1808203</th>\n",
       "      <td>25831381</td>\n",
       "      <td>8</td>\n",
       "      <td>NaN</td>\n",
       "    </tr>\n",
       "    <tr>\n",
       "      <th>1808204</th>\n",
       "      <td>25831381</td>\n",
       "      <td>9</td>\n",
       "      <td>NaN</td>\n",
       "    </tr>\n",
       "  </tbody>\n",
       "</table>\n",
       "<p>1808205 rows × 3 columns</p>\n",
       "</div>"
      ],
      "text/plain": [
       "               ID  Week_num  adjusted_demand\n",
       "0             345         3              8.0\n",
       "1             345         4              9.0\n",
       "2             345         5              3.0\n",
       "3             345         6             11.0\n",
       "4             345         7             12.0\n",
       "...           ...       ...              ...\n",
       "1808200  25831381         5              NaN\n",
       "1808201  25831381         6              NaN\n",
       "1808202  25831381         7              NaN\n",
       "1808203  25831381         8              NaN\n",
       "1808204  25831381         9              NaN\n",
       "\n",
       "[1808205 rows x 3 columns]"
      ]
     },
     "execution_count": 5,
     "metadata": {},
     "output_type": "execute_result"
    }
   ],
   "source": [
    "unq_week = pd.DataFrame({'Week_num': train['Week_num'].unique()})\n",
    "unq_week = unq_week.sort_values(by='Week_num').reset_index(drop=True)\n",
    "unq_id = pd.DataFrame({'ID': train['ID'].unique()})\n",
    "unq_id = unq_id.sort_values(by='ID').reset_index(drop=True)\n",
    "combo = unq_id.merge(unq_week, how='cross')\n",
    "train = combo.merge(train, how='outer', on=['ID', 'Week_num'], sort=True)\n",
    "\n",
    "del combo, unq_week, unq_id\n",
    "train"
   ]
  },
  {
   "cell_type": "markdown",
   "metadata": {},
   "source": [
    "## Time Series Estimation\n",
    "\n",
    "### Define Variables\n",
    "I define new variables and modify the existing ones."
   ]
  },
  {
   "cell_type": "code",
   "execution_count": 6,
   "metadata": {},
   "outputs": [
    {
     "name": "stderr",
     "output_type": "stream",
     "text": [
      "c:\\Users\\amirh\\.julia\\conda\\3\\envs\\erdos_spring_2025\\Lib\\site-packages\\pandas\\core\\arraylike.py:399: RuntimeWarning: divide by zero encountered in log\n",
      "  result = getattr(ufunc, method)(*inputs, **kwargs)\n",
      "c:\\Users\\amirh\\.julia\\conda\\3\\envs\\erdos_spring_2025\\Lib\\site-packages\\pandas\\core\\arraylike.py:399: RuntimeWarning: divide by zero encountered in log\n",
      "  result = getattr(ufunc, method)(*inputs, **kwargs)\n"
     ]
    }
   ],
   "source": [
    "# Define lagged demand and lagged week\n",
    "train['adj_demand_1'] = train['adjusted_demand'].shift(1)\n",
    "train['week_1'] = train['Week_num']-1\n",
    "train['adj_demand_1'] = train['adj_demand_1'].where(train['Week_num'] != 3, np.nan)\n",
    "\n",
    "# Define log demand and log lagged demand\n",
    "train['y'] = np.log(train['adjusted_demand'])\n",
    "train['y'] = train['y'].replace([np.inf, -np.inf], np.nan)\n",
    "train['y_1'] = np.log(train['adj_demand_1'])\n",
    "train['y_1'] = train['y_1'].replace([np.inf, -np.inf], np.nan)"
   ]
  },
  {
   "cell_type": "markdown",
   "metadata": {},
   "source": [
    "## Models\n",
    "1. $demand_{t}$ on $demand_{t-1}$\n",
    "2. $log(demand_{t})$ on $log(demand_{t-1})$\n",
    "3. $demand_{t} = demand_{t-1}$\n",
    "\n",
    "In all model, I drop observations where the outcome variable or the independent variables are missing i.e. no imputation."
   ]
  },
  {
   "cell_type": "code",
   "execution_count": 7,
   "metadata": {},
   "outputs": [],
   "source": [
    "from sklearn.model_selection import TimeSeriesSplit, GroupKFold\n",
    "from sklearn.linear_model import LinearRegression\n",
    "from sklearn.metrics import root_mean_squared_error\n",
    "from sklearn.metrics import root_mean_squared_log_error as rmsle"
   ]
  },
  {
   "cell_type": "code",
   "execution_count": 8,
   "metadata": {},
   "outputs": [
    {
     "name": "stdout",
     "output_type": "stream",
     "text": [
      "[13.28691466 34.37158866 13.45602846]\n",
      "[0.55621516 0.51196662 0.56266535]\n"
     ]
    }
   ],
   "source": [
    "# cross-validation for linear regression\n",
    "# y = adjusted demand\n",
    "# x = lagged adjusted demand\n",
    "\n",
    "gap = 1\n",
    "min_week = train['Week_num'].min()\n",
    "max_week = train['Week_num'].max()\n",
    "\n",
    "n_folds = 4\n",
    "n_models = 3\n",
    "i = 0\n",
    "model_mse = np.zeros(shape=(n_folds, n_models))\n",
    "model_msle = np.zeros(shape=(n_folds, n_models))\n",
    "lr = LinearRegression()\n",
    "lr2 = LinearRegression()\n",
    "\n",
    "for week in range(min_week + gap + 1, max_week):\n",
    "\n",
    "    # model 1\n",
    "    train_wo_na = train.dropna(subset=['adj_demand_1', 'adjusted_demand'])\n",
    "    df_tt = train_wo_na[train_wo_na['Week_num'] < week]\n",
    "    df_ho = train_wo_na[train_wo_na['Week_num'] == week]\n",
    "\n",
    "    lr.fit(X=df_tt[['adj_demand_1']], y=df_tt['adjusted_demand'])\n",
    "    pred = lr.predict(X=df_ho[['adj_demand_1']])\n",
    "\n",
    "    model_mse[i, 0] = root_mean_squared_error(y_true = df_ho['adjusted_demand'], y_pred = pred)\n",
    "    model_msle[i, 0] = rmsle(y_true = df_ho['adjusted_demand'], y_pred = pred)\n",
    "\n",
    "    # model 2\n",
    "    train_wo_na = train.dropna(subset=['y', 'y_1'])\n",
    "\n",
    "    df_tt = train_wo_na[train_wo_na['Week_num'] < week]\n",
    "    df_ho = train_wo_na[train_wo_na['Week_num'] == week]\n",
    "    lr2.fit(X=df_tt[['y_1']], y=df_tt['y'])\n",
    "    pred = np.exp(lr2.predict(X=df_ho[['y_1']]))\n",
    "\n",
    "    model_mse[i, 1] = root_mean_squared_error(y_true = np.exp(df_ho['y']), y_pred = pred)\n",
    "    model_msle[i, 1] = rmsle(y_true = np.exp(df_ho['y']), y_pred = pred)\n",
    "\n",
    "    #model 3\n",
    "    train_wo_na = train.dropna(subset=['adj_demand_1', 'adjusted_demand'])\n",
    "    df_tt = train_wo_na[train_wo_na['Week_num'] < week]\n",
    "    df_ho = train_wo_na[train_wo_na['Week_num'] == week]\n",
    "    pred = df_ho['adj_demand_1']\n",
    "\n",
    "    model_mse[i, 2] = root_mean_squared_error(y_true = df_ho['adjusted_demand'], y_pred = pred)\n",
    "    model_msle[i, 2] = rmsle(y_true = df_ho['adjusted_demand'], y_pred = pred)\n",
    "\n",
    "    i += 1\n",
    "print(model_mse.mean(axis=0))  \n",
    "print(model_msle.mean(axis=0)) \n"
   ]
  },
  {
   "cell_type": "markdown",
   "metadata": {},
   "source": [
    "* We can expand this model to include missing clients\n",
    "* We can include longer lagged in the model\n",
    "* Auto ARIMA i.e. find out the right number of lags\n",
    "* We can use the average of the client's observations for prediction\n",
    "* Calculate autocorrelation\n",
    "* XGBoost"
   ]
  },
  {
   "cell_type": "markdown",
   "metadata": {},
   "source": [
    "## Out-of-Sample Prediction\n",
    "One of the main challenges is to predict the demand for the following cases:\n",
    "1. Existing Clients, New Products\n",
    "2. New Clients, Exisiting Products\n",
    "3. New Clients, New Prodcuts"
   ]
  },
  {
   "cell_type": "code",
   "execution_count": 9,
   "metadata": {},
   "outputs": [
    {
     "name": "stderr",
     "output_type": "stream",
     "text": [
      "<>:2: SyntaxWarning: invalid escape sequence '\\p'\n",
      "<>:15: SyntaxWarning: invalid escape sequence '\\p'\n",
      "<>:2: SyntaxWarning: invalid escape sequence '\\p'\n",
      "<>:15: SyntaxWarning: invalid escape sequence '\\p'\n",
      "C:\\Users\\amirh\\AppData\\Local\\Temp\\ipykernel_19872\\76495832.py:2: SyntaxWarning: invalid escape sequence '\\p'\n",
      "  data_path = \"..\\product-inventory\"\n",
      "C:\\Users\\amirh\\AppData\\Local\\Temp\\ipykernel_19872\\76495832.py:15: SyntaxWarning: invalid escape sequence '\\p'\n",
      "  data_path = \"..\\product-inventory\"\n"
     ]
    }
   ],
   "source": [
    "# load train.csv\n",
    "data_path = \"..\\product-inventory\"\n",
    "filename = os.path.join(data_path, \"grupo-bimbo-inventory-demand/train.csv.zip\")\n",
    "\n",
    "train = pd.read_csv(filename, \n",
    "                 usecols=['Semana', 'Producto_ID', 'Cliente_ID', 'Demanda_uni_equil'])\n",
    "\n",
    "# rename columns\n",
    "train = train.rename(columns={  'Semana': 'Week_num',\n",
    "                                'Cliente_ID': 'Client_ID',\n",
    "                                'Demanda_uni_equil': 'adjusted_demand',\n",
    "                                'Producto_ID': 'Product_ID'})\n",
    "\n",
    "# load test.csv\n",
    "data_path = \"..\\product-inventory\"\n",
    "filename = os.path.join(data_path, \"grupo-bimbo-inventory-demand/test.csv.zip\")\n",
    "\n",
    "test = pd.read_csv(filename, \n",
    "                 usecols=['Semana', 'Producto_ID', 'Cliente_ID'])\n",
    "\n",
    "# rename columns\n",
    "test = test.rename(columns={  'Semana': 'Week_num',\n",
    "                                'Cliente_ID': 'Client_ID',\n",
    "                                'Producto_ID': 'Product_ID'})\n"
   ]
  },
  {
   "cell_type": "markdown",
   "metadata": {},
   "source": [
    "The list of existing clients in the test data."
   ]
  },
  {
   "cell_type": "code",
   "execution_count": 33,
   "metadata": {},
   "outputs": [
    {
     "name": "stdout",
     "output_type": "stream",
     "text": [
      "0.012967615182698037\n",
      "745164\n"
     ]
    }
   ],
   "source": [
    "# list of exisiting and new clients\n",
    "testID = test['Client_ID'].unique().tolist()\n",
    "trainID = train['Client_ID'].unique().tolist()\n",
    "commonID = list(set(testID).intersection(set(trainID)))\n",
    "newID = list(set(testID) - set(trainID))\n",
    "\n",
    "print(len(newID)/len(test['Client_ID'].unique()))\n",
    "\n",
    "print(len(test['Client_ID'].unique()))"
   ]
  },
  {
   "cell_type": "markdown",
   "metadata": {},
   "source": [
    "The list of existing and new products in the test data"
   ]
  },
  {
   "cell_type": "code",
   "execution_count": 11,
   "metadata": {},
   "outputs": [
    {
     "name": "stdout",
     "output_type": "stream",
     "text": [
      "0.022339027595269383\n",
      "1522\n"
     ]
    }
   ],
   "source": [
    "# list of existing and new products\n",
    "testPID = test['Product_ID'].unique().tolist()\n",
    "trainPID = train['Product_ID'].unique().tolist()\n",
    "commonPID = list(set(testPID).intersection(set(trainPID)))\n",
    "newPID = list(set(testPID) - set(trainPID))\n",
    "\n",
    "print(len(newPID)/len(test['Product_ID'].unique()))\n",
    "\n",
    "print(len(test['Product_ID'].unique()))"
   ]
  },
  {
   "cell_type": "markdown",
   "metadata": {},
   "source": [
    "### 1. New Clients, Existing Products"
   ]
  },
  {
   "cell_type": "code",
   "execution_count": 18,
   "metadata": {},
   "outputs": [
    {
     "data": {
      "application/vnd.microsoft.datawrangler.viewer.v0+json": {
       "columns": [
        {
         "name": "index",
         "rawType": "int64",
         "type": "integer"
        },
        {
         "name": "Week_num",
         "rawType": "int64",
         "type": "integer"
        },
        {
         "name": "Client_ID",
         "rawType": "int64",
         "type": "integer"
        },
        {
         "name": "Product_ID",
         "rawType": "int64",
         "type": "integer"
        },
        {
         "name": "adjusted_demand",
         "rawType": "float64",
         "type": "float"
        }
       ],
       "conversionMethod": "pd.DataFrame",
       "ref": "0c450f9c-9e0e-4cf1-bd2f-eab656c95da9",
       "rows": [
        [
         "0",
         "11",
         "4639078",
         "35305",
         null
        ],
        [
         "1",
         "11",
         "4705135",
         "1238",
         null
        ],
        [
         "2",
         "10",
         "4549769",
         "32940",
         null
        ],
        [
         "3",
         "11",
         "4717855",
         "43066",
         null
        ],
        [
         "4",
         "11",
         "966351",
         "1277",
         null
        ],
        [
         "5",
         "11",
         "1741414",
         "972",
         null
        ],
        [
         "6",
         "11",
         "4659766",
         "1232",
         null
        ],
        [
         "7",
         "10",
         "4414012",
         "35305",
         null
        ],
        [
         "8",
         "10",
         "397854",
         "1240",
         null
        ],
        [
         "9",
         "11",
         "1646915",
         "43203",
         null
        ],
        [
         "10",
         "11",
         "4555688",
         "1278",
         null
        ],
        [
         "11",
         "10",
         "4387996",
         "2233",
         null
        ],
        [
         "12",
         "11",
         "290608",
         "4270",
         null
        ],
        [
         "13",
         "10",
         "4446449",
         "1240",
         null
        ],
        [
         "14",
         "10",
         "69110",
         "43274",
         null
        ],
        [
         "15",
         "11",
         "1034925",
         "37361",
         null
        ],
        [
         "16",
         "11",
         "91580",
         "43200",
         null
        ],
        [
         "17",
         "11",
         "325074",
         "1150",
         null
        ],
        [
         "18",
         "10",
         "2325923",
         "4270",
         null
        ],
        [
         "19",
         "11",
         "4752270",
         "35456",
         null
        ],
        [
         "20",
         "11",
         "2257091",
         "30552",
         null
        ],
        [
         "21",
         "11",
         "5885765",
         "1125",
         null
        ],
        [
         "22",
         "10",
         "4670562",
         "35525",
         null
        ],
        [
         "23",
         "11",
         "245366",
         "1150",
         null
        ],
        [
         "24",
         "11",
         "2197573",
         "1232",
         null
        ],
        [
         "25",
         "11",
         "3342223",
         "43285",
         null
        ],
        [
         "26",
         "10",
         "4721398",
         "36920",
         null
        ],
        [
         "27",
         "11",
         "1500391",
         "37361",
         null
        ],
        [
         "28",
         "11",
         "4461695",
         "2233",
         null
        ],
        [
         "29",
         "11",
         "1485041",
         "41938",
         null
        ],
        [
         "30",
         "11",
         "714739",
         "37058",
         null
        ],
        [
         "31",
         "10",
         "1042331",
         "1278",
         null
        ],
        [
         "32",
         "10",
         "331630",
         "3631",
         null
        ],
        [
         "33",
         "11",
         "1433947",
         "43285",
         null
        ],
        [
         "34",
         "11",
         "2163152",
         "43069",
         null
        ],
        [
         "35",
         "11",
         "4358585",
         "2233",
         null
        ],
        [
         "36",
         "11",
         "4676529",
         "43201",
         null
        ],
        [
         "37",
         "10",
         "4682651",
         "42434",
         null
        ],
        [
         "38",
         "10",
         "2194171",
         "31507",
         null
        ],
        [
         "39",
         "11",
         "404260",
         "40930",
         null
        ],
        [
         "40",
         "11",
         "2458138",
         "43064",
         null
        ],
        [
         "41",
         "10",
         "2427417",
         "1125",
         null
        ],
        [
         "42",
         "11",
         "594640",
         "43285",
         null
        ],
        [
         "43",
         "10",
         "409049",
         "43274",
         null
        ],
        [
         "44",
         "10",
         "1965412",
         "30314",
         null
        ],
        [
         "45",
         "11",
         "4257075",
         "1238",
         null
        ],
        [
         "46",
         "11",
         "1675930",
         "43069",
         null
        ],
        [
         "47",
         "11",
         "604170",
         "2665",
         null
        ],
        [
         "48",
         "10",
         "1397467",
         "34794",
         null
        ],
        [
         "49",
         "11",
         "2366101",
         "44371",
         null
        ]
       ],
       "shape": {
        "columns": 4,
        "rows": 6999251
       }
      },
      "text/html": [
       "<div>\n",
       "<style scoped>\n",
       "    .dataframe tbody tr th:only-of-type {\n",
       "        vertical-align: middle;\n",
       "    }\n",
       "\n",
       "    .dataframe tbody tr th {\n",
       "        vertical-align: top;\n",
       "    }\n",
       "\n",
       "    .dataframe thead th {\n",
       "        text-align: right;\n",
       "    }\n",
       "</style>\n",
       "<table border=\"1\" class=\"dataframe\">\n",
       "  <thead>\n",
       "    <tr style=\"text-align: right;\">\n",
       "      <th></th>\n",
       "      <th>Week_num</th>\n",
       "      <th>Client_ID</th>\n",
       "      <th>Product_ID</th>\n",
       "      <th>adjusted_demand</th>\n",
       "    </tr>\n",
       "  </thead>\n",
       "  <tbody>\n",
       "    <tr>\n",
       "      <th>0</th>\n",
       "      <td>11</td>\n",
       "      <td>4639078</td>\n",
       "      <td>35305</td>\n",
       "      <td>NaN</td>\n",
       "    </tr>\n",
       "    <tr>\n",
       "      <th>1</th>\n",
       "      <td>11</td>\n",
       "      <td>4705135</td>\n",
       "      <td>1238</td>\n",
       "      <td>NaN</td>\n",
       "    </tr>\n",
       "    <tr>\n",
       "      <th>2</th>\n",
       "      <td>10</td>\n",
       "      <td>4549769</td>\n",
       "      <td>32940</td>\n",
       "      <td>NaN</td>\n",
       "    </tr>\n",
       "    <tr>\n",
       "      <th>3</th>\n",
       "      <td>11</td>\n",
       "      <td>4717855</td>\n",
       "      <td>43066</td>\n",
       "      <td>NaN</td>\n",
       "    </tr>\n",
       "    <tr>\n",
       "      <th>4</th>\n",
       "      <td>11</td>\n",
       "      <td>966351</td>\n",
       "      <td>1277</td>\n",
       "      <td>NaN</td>\n",
       "    </tr>\n",
       "    <tr>\n",
       "      <th>...</th>\n",
       "      <td>...</td>\n",
       "      <td>...</td>\n",
       "      <td>...</td>\n",
       "      <td>...</td>\n",
       "    </tr>\n",
       "    <tr>\n",
       "      <th>6999246</th>\n",
       "      <td>11</td>\n",
       "      <td>4379638</td>\n",
       "      <td>1232</td>\n",
       "      <td>NaN</td>\n",
       "    </tr>\n",
       "    <tr>\n",
       "      <th>6999247</th>\n",
       "      <td>10</td>\n",
       "      <td>970421</td>\n",
       "      <td>43069</td>\n",
       "      <td>NaN</td>\n",
       "    </tr>\n",
       "    <tr>\n",
       "      <th>6999248</th>\n",
       "      <td>11</td>\n",
       "      <td>192749</td>\n",
       "      <td>30532</td>\n",
       "      <td>NaN</td>\n",
       "    </tr>\n",
       "    <tr>\n",
       "      <th>6999249</th>\n",
       "      <td>11</td>\n",
       "      <td>286071</td>\n",
       "      <td>35107</td>\n",
       "      <td>NaN</td>\n",
       "    </tr>\n",
       "    <tr>\n",
       "      <th>6999250</th>\n",
       "      <td>11</td>\n",
       "      <td>978760</td>\n",
       "      <td>1232</td>\n",
       "      <td>NaN</td>\n",
       "    </tr>\n",
       "  </tbody>\n",
       "</table>\n",
       "<p>6999251 rows × 4 columns</p>\n",
       "</div>"
      ],
      "text/plain": [
       "         Week_num  Client_ID  Product_ID  adjusted_demand\n",
       "0              11    4639078       35305              NaN\n",
       "1              11    4705135        1238              NaN\n",
       "2              10    4549769       32940              NaN\n",
       "3              11    4717855       43066              NaN\n",
       "4              11     966351        1277              NaN\n",
       "...           ...        ...         ...              ...\n",
       "6999246        11    4379638        1232              NaN\n",
       "6999247        10     970421       43069              NaN\n",
       "6999248        11     192749       30532              NaN\n",
       "6999249        11     286071       35107              NaN\n",
       "6999250        11     978760        1232              NaN\n",
       "\n",
       "[6999251 rows x 4 columns]"
      ]
     },
     "execution_count": 18,
     "metadata": {},
     "output_type": "execute_result"
    }
   ],
   "source": [
    "# identify the list of existing products with new clients in the test data\n",
    "existingPID = test.loc[(test['Client_ID'].isin(newID)) & \n",
    "                       (test['Product_ID'].isin(commonPID)),\n",
    "                       'Product_ID'].unique().tolist()\n",
    "\n",
    "# use product's average demand in week 3-9 as a prediction for the new client.\n",
    "#pred_1 contains existing product with new client, and a prediction for the client's demand.\n",
    "pred_1 = train.loc[train['Product_ID'].isin(existingPID)].groupby('Product_ID', as_index=False).agg({'adjusted_demand': 'mean'})\n",
    "test = test.merge(right=pred_1, how='left', on='Product_ID')\n",
    "test.loc[test['Client_ID'].isin(commonID), 'adjusted_demand'] = np.nan\n",
    "\n",
    "del pred_1\n",
    "test"
   ]
  },
  {
   "cell_type": "markdown",
   "metadata": {},
   "source": [
    "### 2. Existing Client, New Products"
   ]
  },
  {
   "cell_type": "code",
   "execution_count": 19,
   "metadata": {},
   "outputs": [
    {
     "data": {
      "application/vnd.microsoft.datawrangler.viewer.v0+json": {
       "columns": [
        {
         "name": "index",
         "rawType": "int64",
         "type": "integer"
        },
        {
         "name": "Week_num",
         "rawType": "int64",
         "type": "integer"
        },
        {
         "name": "Client_ID",
         "rawType": "int64",
         "type": "integer"
        },
        {
         "name": "Product_ID",
         "rawType": "int64",
         "type": "integer"
        },
        {
         "name": "adjusted_demand_x",
         "rawType": "float64",
         "type": "float"
        },
        {
         "name": "adjusted_demand_y",
         "rawType": "float64",
         "type": "float"
        }
       ],
       "conversionMethod": "pd.DataFrame",
       "ref": "dd94a1d3-80ac-4eb3-8205-b187513d1431",
       "rows": [
        [
         "0",
         "11",
         "4639078",
         "35305",
         null,
         null
        ],
        [
         "1",
         "11",
         "4705135",
         "1238",
         null,
         null
        ],
        [
         "2",
         "10",
         "4549769",
         "32940",
         null,
         null
        ],
        [
         "3",
         "11",
         "4717855",
         "43066",
         null,
         null
        ],
        [
         "4",
         "11",
         "966351",
         "1277",
         null,
         null
        ],
        [
         "5",
         "11",
         "1741414",
         "972",
         null,
         null
        ],
        [
         "6",
         "11",
         "4659766",
         "1232",
         null,
         null
        ],
        [
         "7",
         "10",
         "4414012",
         "35305",
         null,
         null
        ],
        [
         "8",
         "10",
         "397854",
         "1240",
         null,
         null
        ],
        [
         "9",
         "11",
         "1646915",
         "43203",
         null,
         null
        ],
        [
         "10",
         "11",
         "4555688",
         "1278",
         null,
         null
        ],
        [
         "11",
         "10",
         "4387996",
         "2233",
         null,
         null
        ],
        [
         "12",
         "11",
         "290608",
         "4270",
         null,
         null
        ],
        [
         "13",
         "10",
         "4446449",
         "1240",
         null,
         null
        ],
        [
         "14",
         "10",
         "69110",
         "43274",
         null,
         null
        ],
        [
         "15",
         "11",
         "1034925",
         "37361",
         null,
         null
        ],
        [
         "16",
         "11",
         "91580",
         "43200",
         null,
         null
        ],
        [
         "17",
         "11",
         "325074",
         "1150",
         null,
         null
        ],
        [
         "18",
         "10",
         "2325923",
         "4270",
         null,
         null
        ],
        [
         "19",
         "11",
         "4752270",
         "35456",
         null,
         null
        ],
        [
         "20",
         "11",
         "2257091",
         "30552",
         null,
         null
        ],
        [
         "21",
         "11",
         "5885765",
         "1125",
         null,
         null
        ],
        [
         "22",
         "10",
         "4670562",
         "35525",
         null,
         null
        ],
        [
         "23",
         "11",
         "245366",
         "1150",
         null,
         null
        ],
        [
         "24",
         "11",
         "2197573",
         "1232",
         null,
         null
        ],
        [
         "25",
         "11",
         "3342223",
         "43285",
         null,
         null
        ],
        [
         "26",
         "10",
         "4721398",
         "36920",
         null,
         null
        ],
        [
         "27",
         "11",
         "1500391",
         "37361",
         null,
         null
        ],
        [
         "28",
         "11",
         "4461695",
         "2233",
         null,
         null
        ],
        [
         "29",
         "11",
         "1485041",
         "41938",
         null,
         null
        ],
        [
         "30",
         "11",
         "714739",
         "37058",
         null,
         null
        ],
        [
         "31",
         "10",
         "1042331",
         "1278",
         null,
         null
        ],
        [
         "32",
         "10",
         "331630",
         "3631",
         null,
         null
        ],
        [
         "33",
         "11",
         "1433947",
         "43285",
         null,
         null
        ],
        [
         "34",
         "11",
         "2163152",
         "43069",
         null,
         null
        ],
        [
         "35",
         "11",
         "4358585",
         "2233",
         null,
         null
        ],
        [
         "36",
         "11",
         "4676529",
         "43201",
         null,
         null
        ],
        [
         "37",
         "10",
         "4682651",
         "42434",
         null,
         null
        ],
        [
         "38",
         "10",
         "2194171",
         "31507",
         null,
         null
        ],
        [
         "39",
         "11",
         "404260",
         "40930",
         null,
         null
        ],
        [
         "40",
         "11",
         "2458138",
         "43064",
         null,
         null
        ],
        [
         "41",
         "10",
         "2427417",
         "1125",
         null,
         null
        ],
        [
         "42",
         "11",
         "594640",
         "43285",
         null,
         null
        ],
        [
         "43",
         "10",
         "409049",
         "43274",
         null,
         null
        ],
        [
         "44",
         "10",
         "1965412",
         "30314",
         null,
         null
        ],
        [
         "45",
         "11",
         "4257075",
         "1238",
         null,
         null
        ],
        [
         "46",
         "11",
         "1675930",
         "43069",
         null,
         null
        ],
        [
         "47",
         "11",
         "604170",
         "2665",
         null,
         null
        ],
        [
         "48",
         "10",
         "1397467",
         "34794",
         null,
         null
        ],
        [
         "49",
         "11",
         "2366101",
         "44371",
         null,
         null
        ]
       ],
       "shape": {
        "columns": 5,
        "rows": 6999251
       }
      },
      "text/html": [
       "<div>\n",
       "<style scoped>\n",
       "    .dataframe tbody tr th:only-of-type {\n",
       "        vertical-align: middle;\n",
       "    }\n",
       "\n",
       "    .dataframe tbody tr th {\n",
       "        vertical-align: top;\n",
       "    }\n",
       "\n",
       "    .dataframe thead th {\n",
       "        text-align: right;\n",
       "    }\n",
       "</style>\n",
       "<table border=\"1\" class=\"dataframe\">\n",
       "  <thead>\n",
       "    <tr style=\"text-align: right;\">\n",
       "      <th></th>\n",
       "      <th>Week_num</th>\n",
       "      <th>Client_ID</th>\n",
       "      <th>Product_ID</th>\n",
       "      <th>adjusted_demand_x</th>\n",
       "      <th>adjusted_demand_y</th>\n",
       "    </tr>\n",
       "  </thead>\n",
       "  <tbody>\n",
       "    <tr>\n",
       "      <th>0</th>\n",
       "      <td>11</td>\n",
       "      <td>4639078</td>\n",
       "      <td>35305</td>\n",
       "      <td>NaN</td>\n",
       "      <td>NaN</td>\n",
       "    </tr>\n",
       "    <tr>\n",
       "      <th>1</th>\n",
       "      <td>11</td>\n",
       "      <td>4705135</td>\n",
       "      <td>1238</td>\n",
       "      <td>NaN</td>\n",
       "      <td>NaN</td>\n",
       "    </tr>\n",
       "    <tr>\n",
       "      <th>2</th>\n",
       "      <td>10</td>\n",
       "      <td>4549769</td>\n",
       "      <td>32940</td>\n",
       "      <td>NaN</td>\n",
       "      <td>NaN</td>\n",
       "    </tr>\n",
       "    <tr>\n",
       "      <th>3</th>\n",
       "      <td>11</td>\n",
       "      <td>4717855</td>\n",
       "      <td>43066</td>\n",
       "      <td>NaN</td>\n",
       "      <td>NaN</td>\n",
       "    </tr>\n",
       "    <tr>\n",
       "      <th>4</th>\n",
       "      <td>11</td>\n",
       "      <td>966351</td>\n",
       "      <td>1277</td>\n",
       "      <td>NaN</td>\n",
       "      <td>NaN</td>\n",
       "    </tr>\n",
       "    <tr>\n",
       "      <th>...</th>\n",
       "      <td>...</td>\n",
       "      <td>...</td>\n",
       "      <td>...</td>\n",
       "      <td>...</td>\n",
       "      <td>...</td>\n",
       "    </tr>\n",
       "    <tr>\n",
       "      <th>6999246</th>\n",
       "      <td>11</td>\n",
       "      <td>4379638</td>\n",
       "      <td>1232</td>\n",
       "      <td>NaN</td>\n",
       "      <td>NaN</td>\n",
       "    </tr>\n",
       "    <tr>\n",
       "      <th>6999247</th>\n",
       "      <td>10</td>\n",
       "      <td>970421</td>\n",
       "      <td>43069</td>\n",
       "      <td>NaN</td>\n",
       "      <td>NaN</td>\n",
       "    </tr>\n",
       "    <tr>\n",
       "      <th>6999248</th>\n",
       "      <td>11</td>\n",
       "      <td>192749</td>\n",
       "      <td>30532</td>\n",
       "      <td>NaN</td>\n",
       "      <td>NaN</td>\n",
       "    </tr>\n",
       "    <tr>\n",
       "      <th>6999249</th>\n",
       "      <td>11</td>\n",
       "      <td>286071</td>\n",
       "      <td>35107</td>\n",
       "      <td>NaN</td>\n",
       "      <td>NaN</td>\n",
       "    </tr>\n",
       "    <tr>\n",
       "      <th>6999250</th>\n",
       "      <td>11</td>\n",
       "      <td>978760</td>\n",
       "      <td>1232</td>\n",
       "      <td>NaN</td>\n",
       "      <td>NaN</td>\n",
       "    </tr>\n",
       "  </tbody>\n",
       "</table>\n",
       "<p>6999251 rows × 5 columns</p>\n",
       "</div>"
      ],
      "text/plain": [
       "         Week_num  Client_ID  Product_ID  adjusted_demand_x  adjusted_demand_y\n",
       "0              11    4639078       35305                NaN                NaN\n",
       "1              11    4705135        1238                NaN                NaN\n",
       "2              10    4549769       32940                NaN                NaN\n",
       "3              11    4717855       43066                NaN                NaN\n",
       "4              11     966351        1277                NaN                NaN\n",
       "...           ...        ...         ...                ...                ...\n",
       "6999246        11    4379638        1232                NaN                NaN\n",
       "6999247        10     970421       43069                NaN                NaN\n",
       "6999248        11     192749       30532                NaN                NaN\n",
       "6999249        11     286071       35107                NaN                NaN\n",
       "6999250        11     978760        1232                NaN                NaN\n",
       "\n",
       "[6999251 rows x 5 columns]"
      ]
     },
     "execution_count": 19,
     "metadata": {},
     "output_type": "execute_result"
    }
   ],
   "source": [
    "# identify the list of existing clients with new products in the test data\n",
    "existingID = test.loc[(test['Client_ID'].isin(commonID)) & \n",
    "                      (test['Product_ID'].isin(newPID)),\n",
    "                      'Client_ID'].unique().tolist()\n",
    "\n",
    "# use client's average demand in week 3-9 as a prediction for new product.\n",
    "#pred_1 contains existing clients with new products, and a prediction for the product.\n",
    "pred_1 = train.loc[train['Client_ID'].isin(existingID)].groupby('Client_ID', as_index=False).agg({'adjusted_demand': 'mean'})\n",
    "test = test.merge(right=pred_1, how='left', on='Client_ID')\n",
    "test.loc[test['Product_ID'].isin(commonPID), 'adjusted_demand_y'] = np.nan\n",
    "\n",
    "\n",
    "del pred_1\n",
    "test\n",
    "# WATCH OUT: This replaces missing values for existing clients and existing products with the client's average demand. \n",
    "# THEY SHOULD BE REPLACED WITH THE ACTUAL PREDICTION"
   ]
  },
  {
   "cell_type": "markdown",
   "metadata": {},
   "source": [
    "### 3. New Clients, New Products\n",
    "The intersection of new clients and new product in the test data. Here the first guess is the average demand for all product across all weeks.\n"
   ]
  },
  {
   "cell_type": "code",
   "execution_count": 20,
   "metadata": {},
   "outputs": [
    {
     "data": {
      "application/vnd.microsoft.datawrangler.viewer.v0+json": {
       "columns": [
        {
         "name": "index",
         "rawType": "int64",
         "type": "integer"
        },
        {
         "name": "Week_num",
         "rawType": "int64",
         "type": "integer"
        },
        {
         "name": "Client_ID",
         "rawType": "int64",
         "type": "integer"
        },
        {
         "name": "Product_ID",
         "rawType": "int64",
         "type": "integer"
        },
        {
         "name": "adjusted_demand_x",
         "rawType": "float64",
         "type": "float"
        },
        {
         "name": "adjusted_demand_y",
         "rawType": "float64",
         "type": "float"
        },
        {
         "name": "adjusted_demand",
         "rawType": "float64",
         "type": "float"
        }
       ],
       "conversionMethod": "pd.DataFrame",
       "ref": "c4de6627-de00-4d45-b9af-c51ad94ed708",
       "rows": [
        [
         "0",
         "11",
         "4639078",
         "35305",
         null,
         null,
         null
        ],
        [
         "1",
         "11",
         "4705135",
         "1238",
         null,
         null,
         null
        ],
        [
         "2",
         "10",
         "4549769",
         "32940",
         null,
         null,
         null
        ],
        [
         "3",
         "11",
         "4717855",
         "43066",
         null,
         null,
         null
        ],
        [
         "4",
         "11",
         "966351",
         "1277",
         null,
         null,
         null
        ],
        [
         "5",
         "11",
         "1741414",
         "972",
         null,
         null,
         null
        ],
        [
         "6",
         "11",
         "4659766",
         "1232",
         null,
         null,
         null
        ],
        [
         "7",
         "10",
         "4414012",
         "35305",
         null,
         null,
         null
        ],
        [
         "8",
         "10",
         "397854",
         "1240",
         null,
         null,
         null
        ],
        [
         "9",
         "11",
         "1646915",
         "43203",
         null,
         null,
         null
        ],
        [
         "10",
         "11",
         "4555688",
         "1278",
         null,
         null,
         null
        ],
        [
         "11",
         "10",
         "4387996",
         "2233",
         null,
         null,
         null
        ],
        [
         "12",
         "11",
         "290608",
         "4270",
         null,
         null,
         null
        ],
        [
         "13",
         "10",
         "4446449",
         "1240",
         null,
         null,
         null
        ],
        [
         "14",
         "10",
         "69110",
         "43274",
         null,
         null,
         null
        ],
        [
         "15",
         "11",
         "1034925",
         "37361",
         null,
         null,
         null
        ],
        [
         "16",
         "11",
         "91580",
         "43200",
         null,
         null,
         null
        ],
        [
         "17",
         "11",
         "325074",
         "1150",
         null,
         null,
         null
        ],
        [
         "18",
         "10",
         "2325923",
         "4270",
         null,
         null,
         null
        ],
        [
         "19",
         "11",
         "4752270",
         "35456",
         null,
         null,
         null
        ],
        [
         "20",
         "11",
         "2257091",
         "30552",
         null,
         null,
         null
        ],
        [
         "21",
         "11",
         "5885765",
         "1125",
         null,
         null,
         null
        ],
        [
         "22",
         "10",
         "4670562",
         "35525",
         null,
         null,
         null
        ],
        [
         "23",
         "11",
         "245366",
         "1150",
         null,
         null,
         null
        ],
        [
         "24",
         "11",
         "2197573",
         "1232",
         null,
         null,
         null
        ],
        [
         "25",
         "11",
         "3342223",
         "43285",
         null,
         null,
         null
        ],
        [
         "26",
         "10",
         "4721398",
         "36920",
         null,
         null,
         null
        ],
        [
         "27",
         "11",
         "1500391",
         "37361",
         null,
         null,
         null
        ],
        [
         "28",
         "11",
         "4461695",
         "2233",
         null,
         null,
         null
        ],
        [
         "29",
         "11",
         "1485041",
         "41938",
         null,
         null,
         null
        ],
        [
         "30",
         "11",
         "714739",
         "37058",
         null,
         null,
         null
        ],
        [
         "31",
         "10",
         "1042331",
         "1278",
         null,
         null,
         null
        ],
        [
         "32",
         "10",
         "331630",
         "3631",
         null,
         null,
         null
        ],
        [
         "33",
         "11",
         "1433947",
         "43285",
         null,
         null,
         null
        ],
        [
         "34",
         "11",
         "2163152",
         "43069",
         null,
         null,
         null
        ],
        [
         "35",
         "11",
         "4358585",
         "2233",
         null,
         null,
         null
        ],
        [
         "36",
         "11",
         "4676529",
         "43201",
         null,
         null,
         null
        ],
        [
         "37",
         "10",
         "4682651",
         "42434",
         null,
         null,
         null
        ],
        [
         "38",
         "10",
         "2194171",
         "31507",
         null,
         null,
         null
        ],
        [
         "39",
         "11",
         "404260",
         "40930",
         null,
         null,
         null
        ],
        [
         "40",
         "11",
         "2458138",
         "43064",
         null,
         null,
         null
        ],
        [
         "41",
         "10",
         "2427417",
         "1125",
         null,
         null,
         null
        ],
        [
         "42",
         "11",
         "594640",
         "43285",
         null,
         null,
         null
        ],
        [
         "43",
         "10",
         "409049",
         "43274",
         null,
         null,
         null
        ],
        [
         "44",
         "10",
         "1965412",
         "30314",
         null,
         null,
         null
        ],
        [
         "45",
         "11",
         "4257075",
         "1238",
         null,
         null,
         null
        ],
        [
         "46",
         "11",
         "1675930",
         "43069",
         null,
         null,
         null
        ],
        [
         "47",
         "11",
         "604170",
         "2665",
         null,
         null,
         null
        ],
        [
         "48",
         "10",
         "1397467",
         "34794",
         null,
         null,
         null
        ],
        [
         "49",
         "11",
         "2366101",
         "44371",
         null,
         null,
         null
        ]
       ],
       "shape": {
        "columns": 6,
        "rows": 6999251
       }
      },
      "text/html": [
       "<div>\n",
       "<style scoped>\n",
       "    .dataframe tbody tr th:only-of-type {\n",
       "        vertical-align: middle;\n",
       "    }\n",
       "\n",
       "    .dataframe tbody tr th {\n",
       "        vertical-align: top;\n",
       "    }\n",
       "\n",
       "    .dataframe thead th {\n",
       "        text-align: right;\n",
       "    }\n",
       "</style>\n",
       "<table border=\"1\" class=\"dataframe\">\n",
       "  <thead>\n",
       "    <tr style=\"text-align: right;\">\n",
       "      <th></th>\n",
       "      <th>Week_num</th>\n",
       "      <th>Client_ID</th>\n",
       "      <th>Product_ID</th>\n",
       "      <th>adjusted_demand_x</th>\n",
       "      <th>adjusted_demand_y</th>\n",
       "      <th>adjusted_demand</th>\n",
       "    </tr>\n",
       "  </thead>\n",
       "  <tbody>\n",
       "    <tr>\n",
       "      <th>0</th>\n",
       "      <td>11</td>\n",
       "      <td>4639078</td>\n",
       "      <td>35305</td>\n",
       "      <td>NaN</td>\n",
       "      <td>NaN</td>\n",
       "      <td>NaN</td>\n",
       "    </tr>\n",
       "    <tr>\n",
       "      <th>1</th>\n",
       "      <td>11</td>\n",
       "      <td>4705135</td>\n",
       "      <td>1238</td>\n",
       "      <td>NaN</td>\n",
       "      <td>NaN</td>\n",
       "      <td>NaN</td>\n",
       "    </tr>\n",
       "    <tr>\n",
       "      <th>2</th>\n",
       "      <td>10</td>\n",
       "      <td>4549769</td>\n",
       "      <td>32940</td>\n",
       "      <td>NaN</td>\n",
       "      <td>NaN</td>\n",
       "      <td>NaN</td>\n",
       "    </tr>\n",
       "    <tr>\n",
       "      <th>3</th>\n",
       "      <td>11</td>\n",
       "      <td>4717855</td>\n",
       "      <td>43066</td>\n",
       "      <td>NaN</td>\n",
       "      <td>NaN</td>\n",
       "      <td>NaN</td>\n",
       "    </tr>\n",
       "    <tr>\n",
       "      <th>4</th>\n",
       "      <td>11</td>\n",
       "      <td>966351</td>\n",
       "      <td>1277</td>\n",
       "      <td>NaN</td>\n",
       "      <td>NaN</td>\n",
       "      <td>NaN</td>\n",
       "    </tr>\n",
       "    <tr>\n",
       "      <th>...</th>\n",
       "      <td>...</td>\n",
       "      <td>...</td>\n",
       "      <td>...</td>\n",
       "      <td>...</td>\n",
       "      <td>...</td>\n",
       "      <td>...</td>\n",
       "    </tr>\n",
       "    <tr>\n",
       "      <th>6999246</th>\n",
       "      <td>11</td>\n",
       "      <td>4379638</td>\n",
       "      <td>1232</td>\n",
       "      <td>NaN</td>\n",
       "      <td>NaN</td>\n",
       "      <td>NaN</td>\n",
       "    </tr>\n",
       "    <tr>\n",
       "      <th>6999247</th>\n",
       "      <td>10</td>\n",
       "      <td>970421</td>\n",
       "      <td>43069</td>\n",
       "      <td>NaN</td>\n",
       "      <td>NaN</td>\n",
       "      <td>NaN</td>\n",
       "    </tr>\n",
       "    <tr>\n",
       "      <th>6999248</th>\n",
       "      <td>11</td>\n",
       "      <td>192749</td>\n",
       "      <td>30532</td>\n",
       "      <td>NaN</td>\n",
       "      <td>NaN</td>\n",
       "      <td>NaN</td>\n",
       "    </tr>\n",
       "    <tr>\n",
       "      <th>6999249</th>\n",
       "      <td>11</td>\n",
       "      <td>286071</td>\n",
       "      <td>35107</td>\n",
       "      <td>NaN</td>\n",
       "      <td>NaN</td>\n",
       "      <td>NaN</td>\n",
       "    </tr>\n",
       "    <tr>\n",
       "      <th>6999250</th>\n",
       "      <td>11</td>\n",
       "      <td>978760</td>\n",
       "      <td>1232</td>\n",
       "      <td>NaN</td>\n",
       "      <td>NaN</td>\n",
       "      <td>NaN</td>\n",
       "    </tr>\n",
       "  </tbody>\n",
       "</table>\n",
       "<p>6999251 rows × 6 columns</p>\n",
       "</div>"
      ],
      "text/plain": [
       "         Week_num  Client_ID  Product_ID  adjusted_demand_x  \\\n",
       "0              11    4639078       35305                NaN   \n",
       "1              11    4705135        1238                NaN   \n",
       "2              10    4549769       32940                NaN   \n",
       "3              11    4717855       43066                NaN   \n",
       "4              11     966351        1277                NaN   \n",
       "...           ...        ...         ...                ...   \n",
       "6999246        11    4379638        1232                NaN   \n",
       "6999247        10     970421       43069                NaN   \n",
       "6999248        11     192749       30532                NaN   \n",
       "6999249        11     286071       35107                NaN   \n",
       "6999250        11     978760        1232                NaN   \n",
       "\n",
       "         adjusted_demand_y  adjusted_demand  \n",
       "0                      NaN              NaN  \n",
       "1                      NaN              NaN  \n",
       "2                      NaN              NaN  \n",
       "3                      NaN              NaN  \n",
       "4                      NaN              NaN  \n",
       "...                    ...              ...  \n",
       "6999246                NaN              NaN  \n",
       "6999247                NaN              NaN  \n",
       "6999248                NaN              NaN  \n",
       "6999249                NaN              NaN  \n",
       "6999250                NaN              NaN  \n",
       "\n",
       "[6999251 rows x 6 columns]"
      ]
     },
     "execution_count": 20,
     "metadata": {},
     "output_type": "execute_result"
    }
   ],
   "source": [
    "pred_1 = train['adjusted_demand'].mean()\n",
    "test.loc[(test['Product_ID'].isin(newPID)) & (test['Client_ID'].isin(newID)), 'adjusted_demand'] = pred_1\n",
    "test"
   ]
  },
  {
   "cell_type": "markdown",
   "metadata": {},
   "source": [
    "What share of the test dataset is estimated?"
   ]
  },
  {
   "cell_type": "code",
   "execution_count": 35,
   "metadata": {},
   "outputs": [
    {
     "name": "stdout",
     "output_type": "stream",
     "text": [
      "6999251\n"
     ]
    },
    {
     "data": {
      "text/plain": [
       "adjusted_demand_x    0.004277\n",
       "adjusted_demand_y    0.003646\n",
       "adjusted_demand      0.007940\n",
       "dtype: float64"
      ]
     },
     "execution_count": 35,
     "metadata": {},
     "output_type": "execute_result"
    }
   ],
   "source": [
    "print(len(test['adjusted_demand']))\n",
    "      \n",
    "1-test[['adjusted_demand_x', 'adjusted_demand_y', 'adjusted_demand']].isna().mean()"
   ]
  },
  {
   "cell_type": "code",
   "execution_count": null,
   "metadata": {},
   "outputs": [],
   "source": []
  }
 ],
 "metadata": {
  "kernelspec": {
   "display_name": "erdos_spring_2025",
   "language": "python",
   "name": "python3"
  },
  "language_info": {
   "codemirror_mode": {
    "name": "ipython",
    "version": 3
   },
   "file_extension": ".py",
   "mimetype": "text/x-python",
   "name": "python",
   "nbconvert_exporter": "python",
   "pygments_lexer": "ipython3",
   "version": "3.12.8"
  }
 },
 "nbformat": 4,
 "nbformat_minor": 2
}
