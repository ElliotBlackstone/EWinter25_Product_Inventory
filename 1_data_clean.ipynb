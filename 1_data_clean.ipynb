{
 "cells": [
  {
   "cell_type": "markdown",
   "metadata": {},
   "source": [
    "# Data Preparation\n"
   ]
  },
  {
   "cell_type": "markdown",
   "metadata": {},
   "source": []
  },
  {
   "cell_type": "code",
   "execution_count": 2,
   "metadata": {},
   "outputs": [],
   "source": [
    "import pandas as pd\n",
    "import numpy as np\n",
    "import matplotlib.pyplot as plt\n",
    "import seaborn as sns\n",
    "\n",
    "sns.set_style(\"whitegrid\")"
   ]
  },
  {
   "cell_type": "code",
   "execution_count": 41,
   "metadata": {},
   "outputs": [],
   "source": [
    "#data set from kaggle: https://www.kaggle.com/competitions/grupo-bimbo-inventory-demand/data\n",
    "\n",
    "# Define the chunk size\n",
    "chunk_size = 4000000  # Adjust the chunk size based on your memory capacity\n",
    "chunks = pd.read_csv('grupo-bimbo-inventory-demand/train.csv/train.csv', chunksize=chunk_size)\n",
    "\n",
    "# Now you can work with the 'train' DataFrame\n",
    "train = next(chunks)\n",
    "\n",
    "# rename columns\n",
    "train = train.rename(columns={'Semana': 'Week_num',\n",
    "                                  'Agencia_ID': 'Sales_Depot_ID',\n",
    "                                  'Canal_ID': 'Sales_Channel_ID',\n",
    "                                  'Ruta_SAK': 'Route_ID',\n",
    "                                  'Cliente_ID': 'Client_ID',\n",
    "                                  'Venta_uni_hoy': 'Sales_unit_this_week',\n",
    "                                  'Venta_hoy': 'Sales_this_week',\n",
    "                                  'Dev_uni_proxima': 'Returns_unit_next_week',\n",
    "                                  'Dev_proxima': 'Returns_next_week',\n",
    "                                  'Demanda_uni_equil': 'Adjusted_demand',\n",
    "                                  'Producto_ID': 'Product_ID'})\n",
    "\n",
    "# calculate price\n",
    "train['Price'] = train['Sales_this_week']/train['Sales_unit_this_week']\n",
    "\n",
    "# read town/state data and merge with train\n",
    "town_state = pd.read_csv('grupo-bimbo-inventory-demand/town_state.csv.zip', compression=\"zip\")\n",
    "town_state = town_state.rename(columns={'Agencia_ID': 'Sales_Depot_ID',\n",
    "                                      'Town': 'Town',\n",
    "                                      'State': 'State'})\n",
    "train = train.merge(town_state, on='Sales_Depot_ID', how='left', copy=False)\n",
    "del town_state\n",
    "\n",
    "week_dummies = pd.get_dummies(train['Week_num'], prefix='week')\n",
    "state_dummies = pd.get_dummies(train['State'], prefix='state')\n",
    "train = pd.concat([train, week_dummies], axis=1)\n",
    "train = pd.concat([train, state_dummies], axis=1)\n",
    "del week_dummies, state_dummies"
   ]
  },
  {
   "cell_type": "markdown",
   "metadata": {},
   "source": [
    "Let's write down the first regression which includes price, week FE, and state FE."
   ]
  },
  {
   "cell_type": "code",
   "execution_count": 60,
   "metadata": {},
   "outputs": [
    {
     "data": {
      "text/plain": [
       "array([-2.62103086, -2.13254328, -2.77693987, -3.83499745, -4.14273686,\n",
       "       -2.37306535, -4.30066955, -3.21935692, -1.00674958, -2.64411151,\n",
       "       -4.93266354, -4.26405085, -2.19712383, -2.84132394, 50.78604382,\n",
       "       -4.88400161, -2.61467882,  0.        , -0.15614487])"
      ]
     },
     "execution_count": 60,
     "metadata": {},
     "output_type": "execute_result"
    }
   ],
   "source": [
    "from sklearn.linear_model import LinearRegression\n",
    "from sklearn.metrics import classification_report\n",
    "\n",
    "lr = LinearRegression()\n",
    "state_dummies = [col for col in train.columns if 'state_' in col]\n",
    "week_dummies = [col for col in train.columns if 'week_' in col]\n",
    "X = train[state_dummies + week_dummies + ['Price']]\n",
    "X = X.fillna(0)\n",
    "y = train['Adjusted_demand']\n",
    "lr.fit(X, y)\n",
    "\n",
    "preds = lr.predict(X)\n",
    "lr.coef_"
   ]
  },
  {
   "cell_type": "code",
   "execution_count": 57,
   "metadata": {},
   "outputs": [
    {
     "data": {
      "image/png": "[encoded data removed]",
      "text/plain": [
       "<Figure size 640x480 with 1 Axes>"
      ]
     },
     "metadata": {},
     "output_type": "display_data"
    }
   ],
   "source": [
    "plt.scatter(x = train[['Price']], y = train['Adjusted_demand'], c = 'blue')\n",
    "plt.scatter(x = train[['Price']], y = preds, c = 'red')\n",
    "\n",
    "plt.show()"
   ]
  }
 ],
 "metadata": {
  "kernelspec": {
   "display_name": "erdos_spring_2025",
   "language": "python",
   "name": "python3"
  },
  "language_info": {
   "codemirror_mode": {
    "name": "ipython",
    "version": 3
   },
   "file_extension": ".py",
   "mimetype": "text/x-python",
   "name": "python",
   "nbconvert_exporter": "python",
   "pygments_lexer": "ipython3",
   "version": "3.12.8"
  }
 },
 "nbformat": 4,
 "nbformat_minor": 2
}
