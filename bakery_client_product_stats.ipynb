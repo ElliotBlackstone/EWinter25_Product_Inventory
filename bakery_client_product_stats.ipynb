{
 "cells": [
  {
   "cell_type": "code",
   "execution_count": 1,
   "metadata": {},
   "outputs": [],
   "source": [
    "import pandas as pd\n",
    "import numpy as np\n",
    "#import dask.dataframe as dd\n",
    "import matplotlib.pyplot as plt\n",
    "import seaborn as sns\n",
    "import gc\n",
    "import pmdarima as pm\n",
    "from pmdarima import auto_arima\n",
    "from statsmodels.graphics.tsaplots import plot_acf, plot_pacf\n",
    "from sklearn.model_selection import TimeSeriesSplit, GroupKFold\n",
    "from sklearn.linear_model import LinearRegression\n",
    "from sklearn.metrics import root_mean_squared_error\n",
    "\n",
    "sns.set_style(\"whitegrid\")"
   ]
  },
  {
   "cell_type": "code",
   "execution_count": 2,
   "metadata": {},
   "outputs": [],
   "source": [
    "#data set from kaggle: https://www.kaggle.com/competitions/grupo-bimbo-inventory-demand/data\n",
    "\n",
    "#office\n",
    "train = pd.read_csv(\"train.csv\", usecols=['Semana', 'Producto_ID', 'Cliente_ID', 'Demanda_uni_equil'])\n",
    "test = pd.read_csv(\"test.csv\", usecols=['Semana', 'Producto_ID', 'Cliente_ID', 'id'])\n",
    "\n",
    "train = train.rename(columns={'Semana': 'Week_num',\n",
    "                                  'Agencia_ID': 'Sales_Depot_ID',\n",
    "                                  'Canal_ID': 'Sales_Channel_ID',\n",
    "                                  'Ruta_SAK': 'Route_ID',\n",
    "                                  'Cliente_ID': 'Client_ID',\n",
    "                                  'Venta_uni_hoy': 'Sales_unit_this_week',\n",
    "                                  'Venta_hoy': 'Sales_this_week',\n",
    "                                  'Dev_uni_proxima': 'Returns_unit_next_week',\n",
    "                                  'Dev_proxima': 'Returns_next_week',\n",
    "                                  'Demanda_uni_equil': 'adjusted_demand',\n",
    "                                  'Producto_ID': 'Product_ID'})\n",
    "\n",
    "test = test.rename(columns={'Semana': 'Week_num',\n",
    "                                  'Agencia_ID': 'Sales_Depot_ID',\n",
    "                                  'Canal_ID': 'Sales_Channel_ID',\n",
    "                                  'Ruta_SAK': 'Route_ID',\n",
    "                                  'Cliente_ID': 'Client_ID',\n",
    "                                  'Venta_uni_hoy': 'Sales_unit_this_week',\n",
    "                                  'Venta_hoy': 'Sales_this_week',\n",
    "                                  'Dev_uni_proxima': 'Returns_unit_next_week',\n",
    "                                  'Dev_proxima': 'Returns_next_week',\n",
    "                                  'Demanda_uni_equil': 'adjusted_demand',\n",
    "                                  'Producto_ID': 'Product_ID'})\n",
    "\n",
    "\n",
    "\n",
    "#set a unique id for each client, product combination (thanks Gemini)\n",
    "combined_df = pd.concat([train,test])\n",
    "combined_df['ID'] = combined_df.groupby(['Client_ID', 'Product_ID']).ngroup()\n",
    "\n",
    "train = combined_df.iloc[:len(train)].copy()\n",
    "test = combined_df.iloc[len(train):].copy()\n",
    "\n",
    "del combined_df\n",
    "\n",
    "\n",
    "train = train.drop(columns='id')\n",
    "train['adjusted_demand'] = train['adjusted_demand'].astype(int)\n",
    "train = train.sort_values(by=['ID', 'Week_num']).reset_index(drop=True)\n",
    "\n",
    "test = test.drop(columns='adjusted_demand')\n",
    "test['id'] = test['id'].astype(int)\n",
    "test = test.sort_values(by=['ID', 'Week_num']).reset_index(drop=True)"
   ]
  },
  {
   "cell_type": "code",
   "execution_count": 10,
   "metadata": {},
   "outputs": [
    {
     "data": {
      "text/html": [
       "<div>\n",
       "<style scoped>\n",
       "    .dataframe tbody tr th:only-of-type {\n",
       "        vertical-align: middle;\n",
       "    }\n",
       "\n",
       "    .dataframe tbody tr th {\n",
       "        vertical-align: top;\n",
       "    }\n",
       "\n",
       "    .dataframe thead th {\n",
       "        text-align: right;\n",
       "    }\n",
       "</style>\n",
       "<table border=\"1\" class=\"dataframe\">\n",
       "  <thead>\n",
       "    <tr style=\"text-align: right;\">\n",
       "      <th></th>\n",
       "      <th>Client_ID</th>\n",
       "      <th>Products</th>\n",
       "      <th>adj_dem_mean</th>\n",
       "      <th>adj_dem_median</th>\n",
       "      <th>adj_dem_std</th>\n",
       "      <th>adj_dem_min</th>\n",
       "      <th>adj_dem_max</th>\n",
       "    </tr>\n",
       "  </thead>\n",
       "  <tbody>\n",
       "    <tr>\n",
       "      <th>0</th>\n",
       "      <td>26</td>\n",
       "      <td>51</td>\n",
       "      <td>28.10</td>\n",
       "      <td>20</td>\n",
       "      <td>26.62</td>\n",
       "      <td>0</td>\n",
       "      <td>132</td>\n",
       "    </tr>\n",
       "    <tr>\n",
       "      <th>1</th>\n",
       "      <td>60</td>\n",
       "      <td>34</td>\n",
       "      <td>188.83</td>\n",
       "      <td>130</td>\n",
       "      <td>228.27</td>\n",
       "      <td>11</td>\n",
       "      <td>2304</td>\n",
       "    </tr>\n",
       "    <tr>\n",
       "      <th>2</th>\n",
       "      <td>65</td>\n",
       "      <td>112</td>\n",
       "      <td>109.10</td>\n",
       "      <td>60</td>\n",
       "      <td>140.54</td>\n",
       "      <td>0</td>\n",
       "      <td>1669</td>\n",
       "    </tr>\n",
       "    <tr>\n",
       "      <th>3</th>\n",
       "      <td>101</td>\n",
       "      <td>4</td>\n",
       "      <td>81.60</td>\n",
       "      <td>28</td>\n",
       "      <td>86.40</td>\n",
       "      <td>20</td>\n",
       "      <td>280</td>\n",
       "    </tr>\n",
       "    <tr>\n",
       "      <th>4</th>\n",
       "      <td>105</td>\n",
       "      <td>72</td>\n",
       "      <td>50.36</td>\n",
       "      <td>26</td>\n",
       "      <td>57.83</td>\n",
       "      <td>2</td>\n",
       "      <td>459</td>\n",
       "    </tr>\n",
       "  </tbody>\n",
       "</table>\n",
       "</div>"
      ],
      "text/plain": [
       "   Client_ID  Products  adj_dem_mean  adj_dem_median  adj_dem_std  \\\n",
       "0         26        51         28.10              20        26.62   \n",
       "1         60        34        188.83             130       228.27   \n",
       "2         65       112        109.10              60       140.54   \n",
       "3        101         4         81.60              28        86.40   \n",
       "4        105        72         50.36              26        57.83   \n",
       "\n",
       "   adj_dem_min  adj_dem_max  \n",
       "0            0          132  \n",
       "1           11         2304  \n",
       "2            0         1669  \n",
       "3           20          280  \n",
       "4            2          459  "
      ]
     },
     "execution_count": 10,
     "metadata": {},
     "output_type": "execute_result"
    }
   ],
   "source": [
    "#create a dataframe of aggregate statistics for each client\n",
    "\n",
    "testagg = train.groupby('Client_ID').agg({'Product_ID':'nunique', 'adjusted_demand':['mean', 'median', 'std', 'min', 'max']})\n",
    "testagg = testagg.reset_index()\n",
    "\n",
    "client_stats = pd.DataFrame()\n",
    "\n",
    "client_stats['Client_ID'] = train['Client_ID'].unique()\n",
    "client_stats['Products'] = testagg['Product_ID']['nunique']\n",
    "client_stats['adj_dem_mean'] = testagg['adjusted_demand']['mean'].round(2)\n",
    "client_stats['adj_dem_median'] = testagg['adjusted_demand']['median'].astype(int)\n",
    "client_stats['adj_dem_std'] = testagg['adjusted_demand']['std'].round(2)\n",
    "client_stats['adj_dem_min'] = testagg['adjusted_demand']['min']\n",
    "client_stats['adj_dem_max'] = testagg['adjusted_demand']['max']\n",
    "\n",
    "client_stats.head()"
   ]
  },
  {
   "cell_type": "code",
   "execution_count": 11,
   "metadata": {},
   "outputs": [
    {
     "data": {
      "text/html": [
       "<div>\n",
       "<style scoped>\n",
       "    .dataframe tbody tr th:only-of-type {\n",
       "        vertical-align: middle;\n",
       "    }\n",
       "\n",
       "    .dataframe tbody tr th {\n",
       "        vertical-align: top;\n",
       "    }\n",
       "\n",
       "    .dataframe thead th {\n",
       "        text-align: right;\n",
       "    }\n",
       "</style>\n",
       "<table border=\"1\" class=\"dataframe\">\n",
       "  <thead>\n",
       "    <tr style=\"text-align: right;\">\n",
       "      <th></th>\n",
       "      <th>Client_ID</th>\n",
       "      <th>Products</th>\n",
       "      <th>adj_dem_mean</th>\n",
       "      <th>adj_dem_median</th>\n",
       "      <th>adj_dem_std</th>\n",
       "      <th>adj_dem_min</th>\n",
       "      <th>adj_dem_max</th>\n",
       "    </tr>\n",
       "  </thead>\n",
       "  <tbody>\n",
       "    <tr>\n",
       "      <th>880599</th>\n",
       "      <td>11011586</td>\n",
       "      <td>58</td>\n",
       "      <td>16.92</td>\n",
       "      <td>12</td>\n",
       "      <td>13.82</td>\n",
       "      <td>1</td>\n",
       "      <td>64</td>\n",
       "    </tr>\n",
       "    <tr>\n",
       "      <th>880600</th>\n",
       "      <td>11693264</td>\n",
       "      <td>88</td>\n",
       "      <td>11.19</td>\n",
       "      <td>6</td>\n",
       "      <td>14.56</td>\n",
       "      <td>0</td>\n",
       "      <td>100</td>\n",
       "    </tr>\n",
       "    <tr>\n",
       "      <th>880601</th>\n",
       "      <td>19988629</td>\n",
       "      <td>15</td>\n",
       "      <td>2.85</td>\n",
       "      <td>2</td>\n",
       "      <td>2.84</td>\n",
       "      <td>1</td>\n",
       "      <td>15</td>\n",
       "    </tr>\n",
       "    <tr>\n",
       "      <th>880602</th>\n",
       "      <td>99999999</td>\n",
       "      <td>18</td>\n",
       "      <td>2.17</td>\n",
       "      <td>1</td>\n",
       "      <td>3.95</td>\n",
       "      <td>1</td>\n",
       "      <td>20</td>\n",
       "    </tr>\n",
       "    <tr>\n",
       "      <th>880603</th>\n",
       "      <td>2015152015</td>\n",
       "      <td>16</td>\n",
       "      <td>24.77</td>\n",
       "      <td>10</td>\n",
       "      <td>63.96</td>\n",
       "      <td>1</td>\n",
       "      <td>400</td>\n",
       "    </tr>\n",
       "  </tbody>\n",
       "</table>\n",
       "</div>"
      ],
      "text/plain": [
       "         Client_ID  Products  adj_dem_mean  adj_dem_median  adj_dem_std  \\\n",
       "880599    11011586        58         16.92              12        13.82   \n",
       "880600    11693264        88         11.19               6        14.56   \n",
       "880601    19988629        15          2.85               2         2.84   \n",
       "880602    99999999        18          2.17               1         3.95   \n",
       "880603  2015152015        16         24.77              10        63.96   \n",
       "\n",
       "        adj_dem_min  adj_dem_max  \n",
       "880599            1           64  \n",
       "880600            0          100  \n",
       "880601            1           15  \n",
       "880602            1           20  \n",
       "880603            1          400  "
      ]
     },
     "execution_count": 11,
     "metadata": {},
     "output_type": "execute_result"
    }
   ],
   "source": [
    "client_stats.tail()"
   ]
  },
  {
   "cell_type": "code",
   "execution_count": 21,
   "metadata": {},
   "outputs": [
    {
     "data": {
      "text/html": [
       "<div>\n",
       "<style scoped>\n",
       "    .dataframe tbody tr th:only-of-type {\n",
       "        vertical-align: middle;\n",
       "    }\n",
       "\n",
       "    .dataframe tbody tr th {\n",
       "        vertical-align: top;\n",
       "    }\n",
       "\n",
       "    .dataframe thead th {\n",
       "        text-align: right;\n",
       "    }\n",
       "</style>\n",
       "<table border=\"1\" class=\"dataframe\">\n",
       "  <thead>\n",
       "    <tr style=\"text-align: right;\">\n",
       "      <th></th>\n",
       "      <th>Product_ID</th>\n",
       "      <th>Clients</th>\n",
       "      <th>adj_dem_mean</th>\n",
       "      <th>adj_dem_median</th>\n",
       "      <th>adj_dem_std</th>\n",
       "      <th>adj_dem_min</th>\n",
       "      <th>adj_dem_max</th>\n",
       "    </tr>\n",
       "  </thead>\n",
       "  <tbody>\n",
       "    <tr>\n",
       "      <th>0</th>\n",
       "      <td>1182</td>\n",
       "      <td>15</td>\n",
       "      <td>367.44</td>\n",
       "      <td>70</td>\n",
       "      <td>532.94</td>\n",
       "      <td>0</td>\n",
       "      <td>2064</td>\n",
       "    </tr>\n",
       "    <tr>\n",
       "      <th>1</th>\n",
       "      <td>4767</td>\n",
       "      <td>45</td>\n",
       "      <td>291.10</td>\n",
       "      <td>119</td>\n",
       "      <td>409.19</td>\n",
       "      <td>0</td>\n",
       "      <td>1919</td>\n",
       "    </tr>\n",
       "    <tr>\n",
       "      <th>2</th>\n",
       "      <td>30235</td>\n",
       "      <td>67417</td>\n",
       "      <td>4.90</td>\n",
       "      <td>4</td>\n",
       "      <td>5.16</td>\n",
       "      <td>0</td>\n",
       "      <td>659</td>\n",
       "    </tr>\n",
       "    <tr>\n",
       "      <th>3</th>\n",
       "      <td>30314</td>\n",
       "      <td>59643</td>\n",
       "      <td>3.19</td>\n",
       "      <td>2</td>\n",
       "      <td>7.71</td>\n",
       "      <td>0</td>\n",
       "      <td>450</td>\n",
       "    </tr>\n",
       "    <tr>\n",
       "      <th>4</th>\n",
       "      <td>31393</td>\n",
       "      <td>40</td>\n",
       "      <td>8.81</td>\n",
       "      <td>3</td>\n",
       "      <td>11.83</td>\n",
       "      <td>0</td>\n",
       "      <td>52</td>\n",
       "    </tr>\n",
       "  </tbody>\n",
       "</table>\n",
       "</div>"
      ],
      "text/plain": [
       "   Product_ID  Clients  adj_dem_mean  adj_dem_median  adj_dem_std  \\\n",
       "0        1182       15        367.44              70       532.94   \n",
       "1        4767       45        291.10             119       409.19   \n",
       "2       30235    67417          4.90               4         5.16   \n",
       "3       30314    59643          3.19               2         7.71   \n",
       "4       31393       40          8.81               3        11.83   \n",
       "\n",
       "   adj_dem_min  adj_dem_max  \n",
       "0            0         2064  \n",
       "1            0         1919  \n",
       "2            0          659  \n",
       "3            0          450  \n",
       "4            0           52  "
      ]
     },
     "execution_count": 21,
     "metadata": {},
     "output_type": "execute_result"
    }
   ],
   "source": [
    "#create a dataframe of aggregate statistics for each product\n",
    "del testagg\n",
    "testagg = train.groupby('Product_ID').agg({'Client_ID':'nunique', 'adjusted_demand':['mean', 'median', 'std', 'min', 'max']})\n",
    "testagg = testagg.reset_index()\n",
    "\n",
    "product_stats = pd.DataFrame()\n",
    "\n",
    "product_stats['Product_ID'] = train['Product_ID'].unique()\n",
    "product_stats['Clients'] = testagg['Client_ID']['nunique']\n",
    "product_stats['adj_dem_mean'] = testagg['adjusted_demand']['mean'].round(2)\n",
    "product_stats['adj_dem_median'] = testagg['adjusted_demand']['median'].astype(int)\n",
    "product_stats['adj_dem_std'] = testagg['adjusted_demand']['std'].round(2)\n",
    "product_stats['adj_dem_min'] = testagg['adjusted_demand']['min']\n",
    "product_stats['adj_dem_max'] = testagg['adjusted_demand']['max']\n",
    "\n",
    "product_stats.head()"
   ]
  },
  {
   "cell_type": "code",
   "execution_count": 25,
   "metadata": {},
   "outputs": [
    {
     "name": "stdout",
     "output_type": "stream",
     "text": [
      "242967\n",
      "8.046851726019327\n"
     ]
    }
   ],
   "source": [
    "print(len(train[train['Product_ID'] == 1182]['Client_ID'].unique()))\n",
    "\n",
    "print(train[train['Product_ID'] == 1182]['adjusted_demand'].mean())"
   ]
  },
  {
   "cell_type": "code",
   "execution_count": 48,
   "metadata": {},
   "outputs": [
    {
     "name": "stdout",
     "output_type": "stream",
     "text": [
      "1799\n",
      "1799\n"
     ]
    }
   ],
   "source": [
    "print(len(train['Product_ID'].unique()))\n",
    "\n",
    "print(len(product_stats['Product_ID'].unique()))"
   ]
  },
  {
   "cell_type": "code",
   "execution_count": 53,
   "metadata": {},
   "outputs": [
    {
     "data": {
      "image/png": "[encoded data removed]",
      "text/plain": [
       "<Figure size 640x480 with 1 Axes>"
      ]
     },
     "metadata": {},
     "output_type": "display_data"
    }
   ],
   "source": [
    "plt.hist(client_stats['Products'], bins=np.arange(0,len(client_stats['Products'].unique())))\n",
    "\n",
    "plt.ylabel(\"Amount of clients\")\n",
    "plt.xlabel(\"Number of Products sold\")\n",
    "\n",
    "\n",
    "plt.show()"
   ]
  },
  {
   "cell_type": "code",
   "execution_count": 35,
   "metadata": {},
   "outputs": [
    {
     "data": {
      "text/html": [
       "<div>\n",
       "<style scoped>\n",
       "    .dataframe tbody tr th:only-of-type {\n",
       "        vertical-align: middle;\n",
       "    }\n",
       "\n",
       "    .dataframe tbody tr th {\n",
       "        vertical-align: top;\n",
       "    }\n",
       "\n",
       "    .dataframe thead th {\n",
       "        text-align: right;\n",
       "    }\n",
       "</style>\n",
       "<table border=\"1\" class=\"dataframe\">\n",
       "  <thead>\n",
       "    <tr style=\"text-align: right;\">\n",
       "      <th></th>\n",
       "      <th>Product_ID</th>\n",
       "      <th>Unique_Clients</th>\n",
       "      <th>adj_dem_mean</th>\n",
       "      <th>adj_dem_median</th>\n",
       "      <th>adj_dem_std</th>\n",
       "      <th>adj_dem_min</th>\n",
       "      <th>adj_dem_max</th>\n",
       "    </tr>\n",
       "  </thead>\n",
       "  <tbody>\n",
       "    <tr>\n",
       "      <th>113</th>\n",
       "      <td>35052</td>\n",
       "      <td>2</td>\n",
       "      <td>78.50</td>\n",
       "      <td>78</td>\n",
       "      <td>58.69</td>\n",
       "      <td>37</td>\n",
       "      <td>120</td>\n",
       "    </tr>\n",
       "    <tr>\n",
       "      <th>132</th>\n",
       "      <td>43161</td>\n",
       "      <td>2</td>\n",
       "      <td>10.50</td>\n",
       "      <td>10</td>\n",
       "      <td>7.78</td>\n",
       "      <td>5</td>\n",
       "      <td>16</td>\n",
       "    </tr>\n",
       "    <tr>\n",
       "      <th>146</th>\n",
       "      <td>43341</td>\n",
       "      <td>2</td>\n",
       "      <td>32.50</td>\n",
       "      <td>32</td>\n",
       "      <td>44.55</td>\n",
       "      <td>1</td>\n",
       "      <td>64</td>\n",
       "    </tr>\n",
       "    <tr>\n",
       "      <th>148</th>\n",
       "      <td>43388</td>\n",
       "      <td>2</td>\n",
       "      <td>2.00</td>\n",
       "      <td>2</td>\n",
       "      <td>1.41</td>\n",
       "      <td>1</td>\n",
       "      <td>3</td>\n",
       "    </tr>\n",
       "    <tr>\n",
       "      <th>169</th>\n",
       "      <td>34495</td>\n",
       "      <td>2</td>\n",
       "      <td>78.60</td>\n",
       "      <td>42</td>\n",
       "      <td>70.63</td>\n",
       "      <td>30</td>\n",
       "      <td>197</td>\n",
       "    </tr>\n",
       "    <tr>\n",
       "      <th>...</th>\n",
       "      <td>...</td>\n",
       "      <td>...</td>\n",
       "      <td>...</td>\n",
       "      <td>...</td>\n",
       "      <td>...</td>\n",
       "      <td>...</td>\n",
       "      <td>...</td>\n",
       "    </tr>\n",
       "    <tr>\n",
       "      <th>1722</th>\n",
       "      <td>35441</td>\n",
       "      <td>2</td>\n",
       "      <td>19.88</td>\n",
       "      <td>17</td>\n",
       "      <td>12.56</td>\n",
       "      <td>6</td>\n",
       "      <td>36</td>\n",
       "    </tr>\n",
       "    <tr>\n",
       "      <th>1725</th>\n",
       "      <td>4109</td>\n",
       "      <td>2</td>\n",
       "      <td>122.50</td>\n",
       "      <td>122</td>\n",
       "      <td>173.24</td>\n",
       "      <td>0</td>\n",
       "      <td>245</td>\n",
       "    </tr>\n",
       "    <tr>\n",
       "      <th>1757</th>\n",
       "      <td>34644</td>\n",
       "      <td>2</td>\n",
       "      <td>0.00</td>\n",
       "      <td>0</td>\n",
       "      <td>0.00</td>\n",
       "      <td>0</td>\n",
       "      <td>0</td>\n",
       "    </tr>\n",
       "    <tr>\n",
       "      <th>1775</th>\n",
       "      <td>36036</td>\n",
       "      <td>2</td>\n",
       "      <td>27.28</td>\n",
       "      <td>18</td>\n",
       "      <td>25.11</td>\n",
       "      <td>0</td>\n",
       "      <td>149</td>\n",
       "    </tr>\n",
       "    <tr>\n",
       "      <th>1776</th>\n",
       "      <td>2060</td>\n",
       "      <td>2</td>\n",
       "      <td>21.10</td>\n",
       "      <td>14</td>\n",
       "      <td>19.11</td>\n",
       "      <td>0</td>\n",
       "      <td>84</td>\n",
       "    </tr>\n",
       "  </tbody>\n",
       "</table>\n",
       "<p>73 rows × 7 columns</p>\n",
       "</div>"
      ],
      "text/plain": [
       "      Product_ID  Unique_Clients  adj_dem_mean  adj_dem_median  adj_dem_std  \\\n",
       "113        35052               2         78.50              78        58.69   \n",
       "132        43161               2         10.50              10         7.78   \n",
       "146        43341               2         32.50              32        44.55   \n",
       "148        43388               2          2.00               2         1.41   \n",
       "169        34495               2         78.60              42        70.63   \n",
       "...          ...             ...           ...             ...          ...   \n",
       "1722       35441               2         19.88              17        12.56   \n",
       "1725        4109               2        122.50             122       173.24   \n",
       "1757       34644               2          0.00               0         0.00   \n",
       "1775       36036               2         27.28              18        25.11   \n",
       "1776        2060               2         21.10              14        19.11   \n",
       "\n",
       "      adj_dem_min  adj_dem_max  \n",
       "113            37          120  \n",
       "132             5           16  \n",
       "146             1           64  \n",
       "148             1            3  \n",
       "169            30          197  \n",
       "...           ...          ...  \n",
       "1722            6           36  \n",
       "1725            0          245  \n",
       "1757            0            0  \n",
       "1775            0          149  \n",
       "1776            0           84  \n",
       "\n",
       "[73 rows x 7 columns]"
      ]
     },
     "execution_count": 35,
     "metadata": {},
     "output_type": "execute_result"
    }
   ],
   "source": [
    "product_stats[product_stats['Unique_Clients'] == 2]"
   ]
  },
  {
   "cell_type": "code",
   "execution_count": 45,
   "metadata": {},
   "outputs": [
    {
     "data": {
      "text/html": [
       "<div>\n",
       "<style scoped>\n",
       "    .dataframe tbody tr th:only-of-type {\n",
       "        vertical-align: middle;\n",
       "    }\n",
       "\n",
       "    .dataframe tbody tr th {\n",
       "        vertical-align: top;\n",
       "    }\n",
       "\n",
       "    .dataframe thead th {\n",
       "        text-align: right;\n",
       "    }\n",
       "</style>\n",
       "<table border=\"1\" class=\"dataframe\">\n",
       "  <thead>\n",
       "    <tr style=\"text-align: right;\">\n",
       "      <th></th>\n",
       "      <th>Product_ID</th>\n",
       "      <th>Unique_Clients</th>\n",
       "      <th>adj_dem_mean</th>\n",
       "      <th>adj_dem_median</th>\n",
       "      <th>adj_dem_std</th>\n",
       "      <th>adj_dem_min</th>\n",
       "      <th>adj_dem_max</th>\n",
       "    </tr>\n",
       "  </thead>\n",
       "  <tbody>\n",
       "    <tr>\n",
       "      <th>0</th>\n",
       "      <td>1182</td>\n",
       "      <td>15</td>\n",
       "      <td>367.44</td>\n",
       "      <td>70</td>\n",
       "      <td>532.94</td>\n",
       "      <td>0</td>\n",
       "      <td>2064</td>\n",
       "    </tr>\n",
       "  </tbody>\n",
       "</table>\n",
       "</div>"
      ],
      "text/plain": [
       "   Product_ID  Unique_Clients  adj_dem_mean  adj_dem_median  adj_dem_std  \\\n",
       "0        1182              15        367.44              70       532.94   \n",
       "\n",
       "   adj_dem_min  adj_dem_max  \n",
       "0            0         2064  "
      ]
     },
     "execution_count": 45,
     "metadata": {},
     "output_type": "execute_result"
    }
   ],
   "source": [
    "product_stats[product_stats['Product_ID'] == 1182]"
   ]
  },
  {
   "cell_type": "code",
   "execution_count": 44,
   "metadata": {},
   "outputs": [
    {
     "data": {
      "text/plain": [
       "array([      26,       65,      105, ..., 10351808, 10351814, 11011586],\n",
       "      shape=(242967,))"
      ]
     },
     "execution_count": 44,
     "metadata": {},
     "output_type": "execute_result"
    }
   ],
   "source": [
    "train[train['Product_ID'] == 1182]['Client_ID'].unique()"
   ]
  },
  {
   "cell_type": "code",
   "execution_count": 41,
   "metadata": {},
   "outputs": [
    {
     "data": {
      "text/plain": [
       "74180464"
      ]
     },
     "execution_count": 41,
     "metadata": {},
     "output_type": "execute_result"
    }
   ],
   "source": [
    "len(train)"
   ]
  },
  {
   "cell_type": "code",
   "execution_count": 55,
   "metadata": {},
   "outputs": [],
   "source": [
    "testdf = train.groupby(['Product_ID'])"
   ]
  },
  {
   "cell_type": "code",
   "execution_count": 57,
   "metadata": {},
   "outputs": [
    {
     "data": {
      "text/html": [
       "<div>\n",
       "<style scoped>\n",
       "    .dataframe tbody tr th:only-of-type {\n",
       "        vertical-align: middle;\n",
       "    }\n",
       "\n",
       "    .dataframe tbody tr th {\n",
       "        vertical-align: top;\n",
       "    }\n",
       "\n",
       "    .dataframe thead th {\n",
       "        text-align: right;\n",
       "    }\n",
       "</style>\n",
       "<table border=\"1\" class=\"dataframe\">\n",
       "  <thead>\n",
       "    <tr style=\"text-align: right;\">\n",
       "      <th></th>\n",
       "      <th>Week_num</th>\n",
       "      <th>Client_ID</th>\n",
       "      <th>Product_ID</th>\n",
       "      <th>adjusted_demand</th>\n",
       "      <th>ID</th>\n",
       "    </tr>\n",
       "  </thead>\n",
       "  <tbody>\n",
       "    <tr>\n",
       "      <th>0</th>\n",
       "      <td>3</td>\n",
       "      <td>26</td>\n",
       "      <td>1182</td>\n",
       "      <td>39</td>\n",
       "      <td>0</td>\n",
       "    </tr>\n",
       "    <tr>\n",
       "      <th>1</th>\n",
       "      <td>7</td>\n",
       "      <td>26</td>\n",
       "      <td>1182</td>\n",
       "      <td>0</td>\n",
       "      <td>0</td>\n",
       "    </tr>\n",
       "    <tr>\n",
       "      <th>2</th>\n",
       "      <td>8</td>\n",
       "      <td>26</td>\n",
       "      <td>1182</td>\n",
       "      <td>0</td>\n",
       "      <td>0</td>\n",
       "    </tr>\n",
       "    <tr>\n",
       "      <th>3</th>\n",
       "      <td>3</td>\n",
       "      <td>26</td>\n",
       "      <td>4767</td>\n",
       "      <td>42</td>\n",
       "      <td>1</td>\n",
       "    </tr>\n",
       "    <tr>\n",
       "      <th>4</th>\n",
       "      <td>7</td>\n",
       "      <td>26</td>\n",
       "      <td>4767</td>\n",
       "      <td>42</td>\n",
       "      <td>1</td>\n",
       "    </tr>\n",
       "    <tr>\n",
       "      <th>...</th>\n",
       "      <td>...</td>\n",
       "      <td>...</td>\n",
       "      <td>...</td>\n",
       "      <td>...</td>\n",
       "      <td>...</td>\n",
       "    </tr>\n",
       "    <tr>\n",
       "      <th>74172421</th>\n",
       "      <td>3</td>\n",
       "      <td>9847617</td>\n",
       "      <td>34337</td>\n",
       "      <td>102</td>\n",
       "      <td>27109930</td>\n",
       "    </tr>\n",
       "    <tr>\n",
       "      <th>74172422</th>\n",
       "      <td>4</td>\n",
       "      <td>9847617</td>\n",
       "      <td>34337</td>\n",
       "      <td>713</td>\n",
       "      <td>27109930</td>\n",
       "    </tr>\n",
       "    <tr>\n",
       "      <th>74172423</th>\n",
       "      <td>7</td>\n",
       "      <td>9847617</td>\n",
       "      <td>34337</td>\n",
       "      <td>1020</td>\n",
       "      <td>27109930</td>\n",
       "    </tr>\n",
       "    <tr>\n",
       "      <th>74172424</th>\n",
       "      <td>8</td>\n",
       "      <td>9847617</td>\n",
       "      <td>34337</td>\n",
       "      <td>510</td>\n",
       "      <td>27109930</td>\n",
       "    </tr>\n",
       "    <tr>\n",
       "      <th>74172425</th>\n",
       "      <td>9</td>\n",
       "      <td>9847617</td>\n",
       "      <td>34337</td>\n",
       "      <td>92</td>\n",
       "      <td>27109930</td>\n",
       "    </tr>\n",
       "  </tbody>\n",
       "</table>\n",
       "<p>16194 rows × 5 columns</p>\n",
       "</div>"
      ],
      "text/plain": [
       "          Week_num  Client_ID  Product_ID  adjusted_demand        ID\n",
       "0                3         26        1182               39         0\n",
       "1                7         26        1182                0         0\n",
       "2                8         26        1182                0         0\n",
       "3                3         26        4767               42         1\n",
       "4                7         26        4767               42         1\n",
       "...            ...        ...         ...              ...       ...\n",
       "74172421         3    9847617       34337              102  27109930\n",
       "74172422         4    9847617       34337              713  27109930\n",
       "74172423         7    9847617       34337             1020  27109930\n",
       "74172424         8    9847617       34337              510  27109930\n",
       "74172425         9    9847617       34337               92  27109930\n",
       "\n",
       "[16194 rows x 5 columns]"
      ]
     },
     "execution_count": 57,
     "metadata": {},
     "output_type": "execute_result"
    }
   ],
   "source": [
    "testdf.head(10)"
   ]
  },
  {
   "cell_type": "code",
   "execution_count": 40,
   "metadata": {},
   "outputs": [
    {
     "data": {
      "text/plain": [
       "pandas.core.groupby.generic.DataFrameGroupBy"
      ]
     },
     "execution_count": 40,
     "metadata": {},
     "output_type": "execute_result"
    }
   ],
   "source": [
    "type(testdf)"
   ]
  },
  {
   "cell_type": "code",
   "execution_count": 34,
   "metadata": {},
   "outputs": [
    {
     "data": {
      "text/plain": [
       "array([      26,       65,      105, ...,  9853756,  9881395, 10033178],\n",
       "      shape=(9357,))"
      ]
     },
     "execution_count": 34,
     "metadata": {},
     "output_type": "execute_result"
    }
   ],
   "source": [
    "train[train['Product_ID'] == 49028]['Client_ID'].unique()"
   ]
  },
  {
   "cell_type": "code",
   "execution_count": 33,
   "metadata": {},
   "outputs": [
    {
     "data": {
      "text/plain": [
       "array([ 146030,  465617,  681747,  684023,  685079, 1035265, 1105804,\n",
       "       1451516, 1546790, 1623763, 1938075, 2284385, 2470338, 2482890,\n",
       "       4586525])"
      ]
     },
     "execution_count": 33,
     "metadata": {},
     "output_type": "execute_result"
    }
   ],
   "source": [
    "train[train['Product_ID'] == 41]['Client_ID'].unique()"
   ]
  },
  {
   "cell_type": "code",
   "execution_count": 32,
   "metadata": {},
   "outputs": [
    {
     "data": {
      "text/html": [
       "<div>\n",
       "<style scoped>\n",
       "    .dataframe tbody tr th:only-of-type {\n",
       "        vertical-align: middle;\n",
       "    }\n",
       "\n",
       "    .dataframe tbody tr th {\n",
       "        vertical-align: top;\n",
       "    }\n",
       "\n",
       "    .dataframe thead tr th {\n",
       "        text-align: left;\n",
       "    }\n",
       "</style>\n",
       "<table border=\"1\" class=\"dataframe\">\n",
       "  <thead>\n",
       "    <tr>\n",
       "      <th></th>\n",
       "      <th>Product_ID</th>\n",
       "      <th>Client_ID</th>\n",
       "      <th colspan=\"5\" halign=\"left\">adjusted_demand</th>\n",
       "    </tr>\n",
       "    <tr>\n",
       "      <th></th>\n",
       "      <th></th>\n",
       "      <th>nunique</th>\n",
       "      <th>mean</th>\n",
       "      <th>median</th>\n",
       "      <th>std</th>\n",
       "      <th>min</th>\n",
       "      <th>max</th>\n",
       "    </tr>\n",
       "  </thead>\n",
       "  <tbody>\n",
       "    <tr>\n",
       "      <th>0</th>\n",
       "      <td>41</td>\n",
       "      <td>15</td>\n",
       "      <td>367.442623</td>\n",
       "      <td>70.0</td>\n",
       "      <td>532.936817</td>\n",
       "      <td>0</td>\n",
       "      <td>2064</td>\n",
       "    </tr>\n",
       "    <tr>\n",
       "      <th>1</th>\n",
       "      <td>53</td>\n",
       "      <td>45</td>\n",
       "      <td>291.096491</td>\n",
       "      <td>119.5</td>\n",
       "      <td>409.185701</td>\n",
       "      <td>0</td>\n",
       "      <td>1919</td>\n",
       "    </tr>\n",
       "    <tr>\n",
       "      <th>2</th>\n",
       "      <td>72</td>\n",
       "      <td>67417</td>\n",
       "      <td>4.896193</td>\n",
       "      <td>4.0</td>\n",
       "      <td>5.161305</td>\n",
       "      <td>0</td>\n",
       "      <td>659</td>\n",
       "    </tr>\n",
       "    <tr>\n",
       "      <th>3</th>\n",
       "      <td>73</td>\n",
       "      <td>59643</td>\n",
       "      <td>3.193657</td>\n",
       "      <td>2.0</td>\n",
       "      <td>7.711981</td>\n",
       "      <td>0</td>\n",
       "      <td>450</td>\n",
       "    </tr>\n",
       "    <tr>\n",
       "      <th>4</th>\n",
       "      <td>100</td>\n",
       "      <td>40</td>\n",
       "      <td>8.814516</td>\n",
       "      <td>3.5</td>\n",
       "      <td>11.828288</td>\n",
       "      <td>0</td>\n",
       "      <td>52</td>\n",
       "    </tr>\n",
       "    <tr>\n",
       "      <th>...</th>\n",
       "      <td>...</td>\n",
       "      <td>...</td>\n",
       "      <td>...</td>\n",
       "      <td>...</td>\n",
       "      <td>...</td>\n",
       "      <td>...</td>\n",
       "      <td>...</td>\n",
       "    </tr>\n",
       "    <tr>\n",
       "      <th>1794</th>\n",
       "      <td>49992</td>\n",
       "      <td>89</td>\n",
       "      <td>26.375000</td>\n",
       "      <td>22.0</td>\n",
       "      <td>22.908000</td>\n",
       "      <td>0</td>\n",
       "      <td>151</td>\n",
       "    </tr>\n",
       "    <tr>\n",
       "      <th>1795</th>\n",
       "      <td>49993</td>\n",
       "      <td>4</td>\n",
       "      <td>9.200000</td>\n",
       "      <td>8.5</td>\n",
       "      <td>6.033241</td>\n",
       "      <td>0</td>\n",
       "      <td>24</td>\n",
       "    </tr>\n",
       "    <tr>\n",
       "      <th>1796</th>\n",
       "      <td>49994</td>\n",
       "      <td>510</td>\n",
       "      <td>3.561983</td>\n",
       "      <td>2.0</td>\n",
       "      <td>5.494301</td>\n",
       "      <td>0</td>\n",
       "      <td>72</td>\n",
       "    </tr>\n",
       "    <tr>\n",
       "      <th>1797</th>\n",
       "      <td>49996</td>\n",
       "      <td>22</td>\n",
       "      <td>15.375000</td>\n",
       "      <td>11.0</td>\n",
       "      <td>16.583284</td>\n",
       "      <td>1</td>\n",
       "      <td>66</td>\n",
       "    </tr>\n",
       "    <tr>\n",
       "      <th>1798</th>\n",
       "      <td>49997</td>\n",
       "      <td>1</td>\n",
       "      <td>14.714286</td>\n",
       "      <td>15.0</td>\n",
       "      <td>11.086242</td>\n",
       "      <td>0</td>\n",
       "      <td>36</td>\n",
       "    </tr>\n",
       "  </tbody>\n",
       "</table>\n",
       "<p>1799 rows × 7 columns</p>\n",
       "</div>"
      ],
      "text/plain": [
       "     Product_ID Client_ID adjusted_demand                             \n",
       "                  nunique            mean median         std min   max\n",
       "0            41        15      367.442623   70.0  532.936817   0  2064\n",
       "1            53        45      291.096491  119.5  409.185701   0  1919\n",
       "2            72     67417        4.896193    4.0    5.161305   0   659\n",
       "3            73     59643        3.193657    2.0    7.711981   0   450\n",
       "4           100        40        8.814516    3.5   11.828288   0    52\n",
       "...         ...       ...             ...    ...         ...  ..   ...\n",
       "1794      49992        89       26.375000   22.0   22.908000   0   151\n",
       "1795      49993         4        9.200000    8.5    6.033241   0    24\n",
       "1796      49994       510        3.561983    2.0    5.494301   0    72\n",
       "1797      49996        22       15.375000   11.0   16.583284   1    66\n",
       "1798      49997         1       14.714286   15.0   11.086242   0    36\n",
       "\n",
       "[1799 rows x 7 columns]"
      ]
     },
     "execution_count": 32,
     "metadata": {},
     "output_type": "execute_result"
    }
   ],
   "source": [
    "testagg"
   ]
  },
  {
   "cell_type": "code",
   "execution_count": 28,
   "metadata": {},
   "outputs": [
    {
     "data": {
      "image/png": "[encoded data removed]",
      "text/plain": [
       "<Figure size 640x480 with 1 Axes>"
      ]
     },
     "metadata": {},
     "output_type": "display_data"
    }
   ],
   "source": [
    "plt.hist(product_stats['Unique_Clients'], bins=np.linspace(1,100,100))\n",
    "\n",
    "plt.xlabel(\"Number of different Clients\")\n",
    "plt.ylabel(\"Amount of Products\")\n",
    "\n",
    "\n",
    "plt.show()"
   ]
  },
  {
   "cell_type": "code",
   "execution_count": 75,
   "metadata": {},
   "outputs": [
    {
     "data": {
      "image/png": "[encoded data removed]",
      "text/plain": [
       "<Figure size 640x480 with 1 Axes>"
      ]
     },
     "metadata": {},
     "output_type": "display_data"
    }
   ],
   "source": [
    "plt.hist(client_stats['adj_dem_mean'], bins=np.linspace(0,25,51))\n",
    "\n",
    "plt.xlabel(\"Mean adjusted demand of all products\")\n",
    "plt.ylabel(\"Amount of clients\")\n",
    "\n",
    "plt.show()"
   ]
  },
  {
   "cell_type": "code",
   "execution_count": 76,
   "metadata": {},
   "outputs": [
    {
     "data": {
      "image/png": "[encoded data removed]",
      "text/plain": [
       "<Figure size 640x480 with 1 Axes>"
      ]
     },
     "metadata": {},
     "output_type": "display_data"
    }
   ],
   "source": [
    "plt.hist(client_stats['adj_dem_std'], bins=np.linspace(0,25,51))\n",
    "\n",
    "plt.xlabel(\"Standard deviation of adjusted demand of all products\")\n",
    "plt.ylabel(\"Amount of clients\")\n",
    "\n",
    "plt.show()"
   ]
  },
  {
   "cell_type": "code",
   "execution_count": 68,
   "metadata": {},
   "outputs": [
    {
     "data": {
      "image/png": "[encoded data removed]",
      "text/plain": [
       "<Figure size 640x480 with 1 Axes>"
      ]
     },
     "metadata": {},
     "output_type": "display_data"
    }
   ],
   "source": [
    "plt.hist(client_stats['adj_dem_min'], bins=np.linspace(0,10,11))\n",
    "\n",
    "plt.xlabel(\"Min adjusted demand\")\n",
    "plt.ylabel(\"Amount of clients\")\n",
    "\n",
    "plt.show()"
   ]
  },
  {
   "cell_type": "code",
   "execution_count": 85,
   "metadata": {},
   "outputs": [
    {
     "data": {
      "image/png": "[encoded data removed]",
      "text/plain": [
       "<Figure size 640x480 with 1 Axes>"
      ]
     },
     "metadata": {},
     "output_type": "display_data"
    }
   ],
   "source": [
    "plt.hist(client_stats['adj_dem_min'], bins=np.linspace(4,30,27))\n",
    "\n",
    "plt.xlabel(\"Min adjusted demand\")\n",
    "plt.ylabel(\"Amount of clients\")\n",
    "\n",
    "plt.show()"
   ]
  },
  {
   "cell_type": "code",
   "execution_count": 74,
   "metadata": {},
   "outputs": [
    {
     "data": {
      "image/png": "[encoded data removed]",
      "text/plain": [
       "<Figure size 640x480 with 1 Axes>"
      ]
     },
     "metadata": {},
     "output_type": "display_data"
    }
   ],
   "source": [
    "plt.hist(client_stats['adj_dem_max'], bins=np.linspace(0,125,126))\n",
    "\n",
    "plt.xlabel(\"Max adjusted demand\")\n",
    "plt.ylabel(\"Amount of clients\")\n",
    "\n",
    "plt.show()"
   ]
  }
 ],
 "metadata": {
  "kernelspec": {
   "display_name": "erdos_spring_2025",
   "language": "python",
   "name": "python3"
  },
  "language_info": {
   "codemirror_mode": {
    "name": "ipython",
    "version": 3
   },
   "file_extension": ".py",
   "mimetype": "text/x-python",
   "name": "python",
   "nbconvert_exporter": "python",
   "pygments_lexer": "ipython3",
   "version": "3.12.8"
  }
 },
 "nbformat": 4,
 "nbformat_minor": 2
}
